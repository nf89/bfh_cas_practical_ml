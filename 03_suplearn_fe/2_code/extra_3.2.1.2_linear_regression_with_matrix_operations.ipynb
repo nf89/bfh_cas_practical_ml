{
 "cells": [
  {
   "cell_type": "markdown",
   "id": "429fe365-6cf3-4913-9bc9-7fedee6172c8",
   "metadata": {},
   "source": [
    "# extra_3.2.1.2_linear_regression_with_matrix_operations"
   ]
  },
  {
   "cell_type": "code",
   "execution_count": 2,
   "id": "70dfe405-288e-4e49-b0f4-c81a1e754646",
   "metadata": {},
   "outputs": [],
   "source": [
    "import pandas as pd\n",
    "import numpy as np\n",
    "import matplotlib.pyplot as plt\n",
    "import seaborn as sns; sns.set()"
   ]
  },
  {
   "cell_type": "code",
   "execution_count": 3,
   "id": "387e29c5-49f2-474e-9b05-d0abba333eca",
   "metadata": {},
   "outputs": [
    {
     "data": {
      "image/png": "[encoded data removed]",
      "text/plain": [
       "<Figure size 600x600 with 1 Axes>"
      ]
     },
     "metadata": {},
     "output_type": "display_data"
    }
   ],
   "source": [
    "M = np.array([\n",
    "    [0.05, 0.12],\n",
    "    [0.18, 0.22],\n",
    "    [0.31, 0.35],\n",
    "    [0.42, 0.38],\n",
    "    [0.5, 0.49],\n",
    "    ])\n",
    "#print(M)\n",
    "X_, y_ = M[:,0], M[:,1]\n",
    "X_ = X_.reshape((len(X_), 1))\n",
    "## plot figure\n",
    "plt.figure(figsize=(6,6))\n",
    "ax = sns.regplot(x=X_, y=y_, ci=None)\n",
    "ax.set(xlim=(0, 0.6), ylim=(0, 0.6));"
   ]
  },
  {
   "cell_type": "code",
   "execution_count": 4,
   "id": "a77764c4-d859-4308-894b-785a8b0fc1e3",
   "metadata": {},
   "outputs": [],
   "source": [
    "## linear regression as function, based on functions of numpy\n",
    "def MyLinReg(X, y):\n",
    "    XT = np.matrix.transpose(X)           ## transpose\n",
    "    XT_X = np.matmul(XT, X)               ## matrix product 1\n",
    "    XT_X_INV = np.linalg.inv(XT_X)        ## invert\n",
    "    XT_X_INV_XT = np.matmul(XT_X_INV, XT) ## matrix product 2\n",
    "    betas = np.matmul(XT_X_INV_XT, y)     ## matrix product 3\n",
    "    return (betas)"
   ]
  },
  {
   "cell_type": "code",
   "execution_count": 5,
   "id": "d2f7a28d-3fd8-4bbe-8da8-275ddf9d36f6",
   "metadata": {},
   "outputs": [
    {
     "name": "stdout",
     "output_type": "stream",
     "text": [
      "[1.00233226]\n"
     ]
    }
   ],
   "source": [
    "## without intercept\n",
    "print(MyLinReg(X_, y_))"
   ]
  },
  {
   "cell_type": "code",
   "execution_count": 6,
   "id": "dd4d63f4-665a-48ce-a33f-fa45df134fc9",
   "metadata": {},
   "outputs": [
    {
     "name": "stdout",
     "output_type": "stream",
     "text": [
      "0.0\n",
      "[1.00233226]\n"
     ]
    }
   ],
   "source": [
    "## control with sklearn\n",
    "from sklearn.linear_model import LinearRegression\n",
    "model = LinearRegression(fit_intercept=False).fit(X_, y_)\n",
    "print(model.intercept_)\n",
    "print(model.coef_)"
   ]
  },
  {
   "cell_type": "code",
   "execution_count": 7,
   "id": "4c3f500e-bc00-4006-9463-9013a86c2637",
   "metadata": {
    "scrolled": true
   },
   "outputs": [
    {
     "name": "stdout",
     "output_type": "stream",
     "text": [
      "[[1.   0.05]\n",
      " [1.   0.18]\n",
      " [1.   0.31]\n",
      " [1.   0.42]\n",
      " [1.   0.5 ]]\n",
      "[0.08215136 0.78715288]\n"
     ]
    }
   ],
   "source": [
    "## with intercept: add a vector with values 1 on the left of X\n",
    "X__ = np.c_[np.repeat(1,X_.shape[0]), X_]\n",
    "print(X__)\n",
    "print(MyLinReg(X__, y_))"
   ]
  },
  {
   "cell_type": "code",
   "execution_count": 8,
   "id": "c4a89e1b-18fe-4d5b-9014-750e67cc4384",
   "metadata": {},
   "outputs": [
    {
     "name": "stdout",
     "output_type": "stream",
     "text": [
      "0.08215135794934389\n",
      "[0.78715288]\n"
     ]
    }
   ],
   "source": [
    "## control with sklearn\n",
    "model = LinearRegression(fit_intercept=True).fit(X_, y_)\n",
    "print(model.intercept_)\n",
    "print(model.coef_)"
   ]
  },
  {
   "cell_type": "code",
   "execution_count": 9,
   "id": "b8e64e10-e076-4321-a048-7eb126ae6af0",
   "metadata": {},
   "outputs": [
    {
     "name": "stdout",
     "output_type": "stream",
     "text": [
      "-105513872.2875379\n",
      "[ 2.45383606e+05 -1.41356398e+05 -4.03836664e+04  1.61336040e+05\n",
      "  4.03911483e+04  8.33032709e+04  2.73783998e+05 -2.48422914e+03\n",
      " -4.97722450e+03 -5.15021964e+05  1.92635865e+05 -1.19821800e+00\n",
      "  9.42690152e+04  4.16608193e+04  5.41816991e+04 -1.85021045e+05\n",
      "  8.79055467e+04  2.43998169e+05  2.65590236e+05 -2.31675040e+05\n",
      "  1.75618895e+03  3.11569154e+04  4.70830470e+03]\n"
     ]
    }
   ],
   "source": [
    "## the same with melb data\n",
    "datapath = '../3_data'\n",
    "from os import chdir; chdir(datapath)\n",
    "\n",
    "from bfh_cas_pml import prep_data\n",
    "X_train, X_test, y_train, y_test = prep_data('melb_data_prep.csv', 'Price', seed = 1234)\n",
    "\n",
    "X_train_ = np.c_[np.repeat(1,X_train.shape[0]), X_train]\n",
    "\n",
    "coefs = MyLinReg(X_train_, y_train)\n",
    "print(coefs[0])  ## intercept\n",
    "print(coefs[1:]) ## coefs"
   ]
  },
  {
   "cell_type": "code",
   "execution_count": 10,
   "id": "4025603e-39cf-4d14-baeb-98d12c1e771e",
   "metadata": {
    "tags": []
   },
   "outputs": [
    {
     "name": "stdout",
     "output_type": "stream",
     "text": [
      "-105513873.23403685\n",
      "[ 2.45383606e+05 -1.41356398e+05 -4.03836664e+04  1.61336039e+05\n",
      "  4.03911483e+04  8.33032709e+04  2.73783998e+05 -2.48422914e+03\n",
      " -4.97722450e+03 -5.15021962e+05  1.92635869e+05 -1.19821800e+00\n",
      "  9.42690151e+04  4.16608193e+04  5.41816991e+04 -1.85021045e+05\n",
      "  8.79055470e+04  2.43998169e+05  2.65590236e+05 -2.31675039e+05\n",
      "  1.75618897e+03  3.11569156e+04  4.70830468e+03]\n"
     ]
    }
   ],
   "source": [
    "## control with LinearRegression from sklearn\n",
    "model = LinearRegression(fit_intercept=True).fit(X_train, y_train)\n",
    "print(model.intercept_)\n",
    "print(model.coef_)"
   ]
  }
 ],
 "metadata": {
  "kernelspec": {
   "display_name": "Python 3 (ipykernel)",
   "language": "python",
   "name": "python3"
  },
  "language_info": {
   "codemirror_mode": {
    "name": "ipython",
    "version": 3
   },
   "file_extension": ".py",
   "mimetype": "text/x-python",
   "name": "python",
   "nbconvert_exporter": "python",
   "pygments_lexer": "ipython3",
   "version": "3.11.7"
  }
 },
 "nbformat": 4,
 "nbformat_minor": 5
}

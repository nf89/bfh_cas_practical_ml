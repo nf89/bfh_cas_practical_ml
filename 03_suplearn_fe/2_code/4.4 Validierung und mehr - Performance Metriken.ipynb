{
 "cells": [
  {
   "cell_type": "markdown",
   "metadata": {
    "tags": []
   },
   "source": [
    "# Feature Engineering\n",
    "# Klassifikation\n",
    "# Regression\n",
    "# Validierung und mehr\n",
    "## Sampling und Resampling\n",
    "## Validierungstechniken\n",
    "## Grid Search und Random Search\n",
    "## Performancemetriken\n",
    "### Klassifikation\n",
    "#### Einführung und Vorbereitung"
   ]
  },
  {
   "cell_type": "code",
   "execution_count": 2,
   "metadata": {
    "ExecuteTime": {
     "end_time": "2020-04-15T20:53:02.218161Z",
     "start_time": "2020-04-15T20:53:02.079407Z"
    }
   },
   "outputs": [],
   "source": [
    "## import libraries\n",
    "import pandas as pd\n",
    "import seaborn as sns\n",
    "import matplotlib\n",
    "import numpy as np\n",
    "import matplotlib.pyplot as plt; sns.set()\n",
    "%matplotlib inline\n",
    "\n",
    "## load data\n",
    "datapath = '../3_data'\n",
    "from os import chdir; chdir(datapath)\n",
    "from bfh_cas_pml import prep_data\n",
    "X_train, X_test, y_train, y_test = prep_data('bank_data_prep.csv', 'y', seed = 1234)"
   ]
  },
  {
   "cell_type": "code",
   "execution_count": 3,
   "metadata": {
    "ExecuteTime": {
     "end_time": "2020-04-15T21:03:01.918701Z",
     "start_time": "2020-04-15T21:03:01.844142Z"
    }
   },
   "outputs": [],
   "source": [
    "## create different types of predictions\n",
    "from sklearn.ensemble import RandomForestClassifier \n",
    "model = RandomForestClassifier(random_state=1234)\n",
    "model.fit(X_train, y_train) \n",
    "\n",
    "## predictions: using .predict() and .predict_proba()\n",
    "y_pred_c = model.predict(X_test)\n",
    "y_pred_n = np.where(y_pred_c == 'yes', 1, 0)\n",
    "y_pred_p = model.predict_proba(X_test)"
   ]
  },
  {
   "cell_type": "raw",
   "metadata": {},
   "source": [
    "## display y_pred_p\n",
    "print(y_pred_p[:5,])"
   ]
  },
  {
   "cell_type": "code",
   "execution_count": 4,
   "metadata": {
    "ExecuteTime": {
     "end_time": "2020-04-15T21:03:01.918701Z",
     "start_time": "2020-04-15T21:03:01.844142Z"
    },
    "scrolled": true
   },
   "outputs": [
    {
     "name": "stdout",
     "output_type": "stream",
     "text": [
      "  y_pred_c  y_pred_n  y_pred_p_0  y_pred_p_1\n",
      "0      yes         1        0.08        0.92\n",
      "1      yes         1        0.22        0.78\n",
      "2      yes         1        0.36        0.64\n",
      "3       no         0        0.99        0.01\n",
      "4       no         0        0.99        0.01\n"
     ]
    }
   ],
   "source": [
    "## comparison of y_pred_c, y_pred_n and y_pred_p\n",
    "pred_df = pd.DataFrame({\n",
    "    'y_pred_c': y_pred_c,\n",
    "    'y_pred_n' : y_pred_n,\n",
    "    'y_pred_p_0': y_pred_p[:,0],\n",
    "    'y_pred_p_1': y_pred_p[:,1]\n",
    "})\n",
    "print(pred_df.head())"
   ]
  },
  {
   "cell_type": "code",
   "execution_count": 5,
   "metadata": {
    "ExecuteTime": {
     "end_time": "2020-04-15T21:03:01.918701Z",
     "start_time": "2020-04-15T21:03:01.844142Z"
    }
   },
   "outputs": [],
   "source": [
    "## for later use: the same with y_test\n",
    "y_test_n = np.where(y_test == 'yes', 1, 0)"
   ]
  },
  {
   "cell_type": "code",
   "execution_count": 6,
   "metadata": {},
   "outputs": [
    {
     "name": "stdout",
     "output_type": "stream",
     "text": [
      "     y_test  y_test_n\n",
      "2809    yes         1\n",
      "4052    yes         1\n",
      "658     yes         1\n",
      "786      no         0\n",
      "6675     no         0\n"
     ]
    }
   ],
   "source": [
    "## check\n",
    "print(pd.DataFrame({\n",
    "    'y_test': y_test,\n",
    "    'y_test_n': y_test_n\n",
    "}).head())"
   ]
  },
  {
   "cell_type": "markdown",
   "metadata": {},
   "source": [
    "#### Metriken für nicht numerische Klassen"
   ]
  },
  {
   "cell_type": "code",
   "execution_count": 8,
   "metadata": {},
   "outputs": [
    {
     "name": "stdout",
     "output_type": "stream",
     "text": [
      "<class 'pandas.core.frame.DataFrame'>\n",
      "RangeIndex: 150 entries, 0 to 149\n",
      "Data columns (total 5 columns):\n",
      " #   Column        Non-Null Count  Dtype  \n",
      "---  ------        --------------  -----  \n",
      " 0   sepal_length  150 non-null    float64\n",
      " 1   sepal_width   150 non-null    float64\n",
      " 2   petal_length  150 non-null    float64\n",
      " 3   petal_width   150 non-null    float64\n",
      " 4   species       150 non-null    object \n",
      "dtypes: float64(4), object(1)\n",
      "memory usage: 6.0+ KB\n",
      "None\n"
     ]
    }
   ],
   "source": [
    "## example of a multi class classification\n",
    "iris_data = sns.load_dataset('iris')\n",
    "print(iris_data.info())\n",
    "iris_X = iris_data.drop('species', axis=1)\n",
    "iris_y = iris_data['species']\n",
    "#print(iris_X)\n",
    "#print(iris_y)\n",
    "\n",
    "## test - train - split\n",
    "from sklearn.model_selection import train_test_split\n",
    "iris_X_train, iris_X_test, iris_y_train, iris_y_test, = train_test_split(\n",
    "    iris_X,\n",
    "    iris_y,\n",
    "    train_size=2/3,\n",
    "    random_state=1234)"
   ]
  },
  {
   "cell_type": "code",
   "execution_count": 9,
   "metadata": {},
   "outputs": [],
   "source": [
    "from sklearn.tree import DecisionTreeClassifier\n",
    "iris_model = DecisionTreeClassifier(random_state=1234)\n",
    "iris_model.fit(iris_X_train, iris_y_train)\n",
    "iris_y_pred = iris_model.predict(iris_X_test)"
   ]
  },
  {
   "cell_type": "code",
   "execution_count": 10,
   "metadata": {},
   "outputs": [
    {
     "data": {
      "text/html": [
       "<style type=\"text/css\">\n",
       "#T_3ad25_row0_col0 {\n",
       "  background-color: #023858;\n",
       "  color: #f1f1f1;\n",
       "}\n",
       "#T_3ad25_row0_col1, #T_3ad25_row0_col2, #T_3ad25_row1_col0, #T_3ad25_row1_col2, #T_3ad25_row2_col0 {\n",
       "  background-color: #fff7fb;\n",
       "  color: #000000;\n",
       "}\n",
       "#T_3ad25_row1_col1, #T_3ad25_row2_col2 {\n",
       "  background-color: #034871;\n",
       "  color: #f1f1f1;\n",
       "}\n",
       "#T_3ad25_row2_col1 {\n",
       "  background-color: #f6eff7;\n",
       "  color: #000000;\n",
       "}\n",
       "</style>\n",
       "<table id=\"T_3ad25\">\n",
       "  <thead>\n",
       "    <tr>\n",
       "      <th class=\"index_name level0\" >species</th>\n",
       "      <th id=\"T_3ad25_level0_col0\" class=\"col_heading level0 col0\" >setosa</th>\n",
       "      <th id=\"T_3ad25_level0_col1\" class=\"col_heading level0 col1\" >versicolor</th>\n",
       "      <th id=\"T_3ad25_level0_col2\" class=\"col_heading level0 col2\" >virginica</th>\n",
       "    </tr>\n",
       "    <tr>\n",
       "      <th class=\"index_name level0\" >row_0</th>\n",
       "      <th class=\"blank col0\" >&nbsp;</th>\n",
       "      <th class=\"blank col1\" >&nbsp;</th>\n",
       "      <th class=\"blank col2\" >&nbsp;</th>\n",
       "    </tr>\n",
       "  </thead>\n",
       "  <tbody>\n",
       "    <tr>\n",
       "      <th id=\"T_3ad25_level0_row0\" class=\"row_heading level0 row0\" >setosa</th>\n",
       "      <td id=\"T_3ad25_row0_col0\" class=\"data row0 col0\" >17</td>\n",
       "      <td id=\"T_3ad25_row0_col1\" class=\"data row0 col1\" >0</td>\n",
       "      <td id=\"T_3ad25_row0_col2\" class=\"data row0 col2\" >0</td>\n",
       "    </tr>\n",
       "    <tr>\n",
       "      <th id=\"T_3ad25_level0_row1\" class=\"row_heading level0 row1\" >versicolor</th>\n",
       "      <td id=\"T_3ad25_row1_col0\" class=\"data row1 col0\" >0</td>\n",
       "      <td id=\"T_3ad25_row1_col1\" class=\"data row1 col1\" >16</td>\n",
       "      <td id=\"T_3ad25_row1_col2\" class=\"data row1 col2\" >0</td>\n",
       "    </tr>\n",
       "    <tr>\n",
       "      <th id=\"T_3ad25_level0_row2\" class=\"row_heading level0 row2\" >virginica</th>\n",
       "      <td id=\"T_3ad25_row2_col0\" class=\"data row2 col0\" >0</td>\n",
       "      <td id=\"T_3ad25_row2_col1\" class=\"data row2 col1\" >1</td>\n",
       "      <td id=\"T_3ad25_row2_col2\" class=\"data row2 col2\" >16</td>\n",
       "    </tr>\n",
       "  </tbody>\n",
       "</table>\n"
      ],
      "text/plain": [
       "<pandas.io.formats.style.Styler at 0x17bb8e576d0>"
      ]
     },
     "execution_count": 10,
     "metadata": {},
     "output_type": "execute_result"
    }
   ],
   "source": [
    "## confusion matrix\n",
    "#print(pd.crosstab(iris_y_pred, iris_y_test))\n",
    "pd.crosstab(iris_y_pred, iris_y_test).style.background_gradient(axis=None) ## for all cells"
   ]
  },
  {
   "cell_type": "code",
   "execution_count": 11,
   "metadata": {
    "ExecuteTime": {
     "end_time": "2020-04-15T20:46:52.149549Z",
     "start_time": "2020-04-15T20:46:52.101330Z"
    }
   },
   "outputs": [
    {
     "name": "stdout",
     "output_type": "stream",
     "text": [
      "0.98\n",
      "0.98\n",
      "0.98\n"
     ]
    }
   ],
   "source": [
    "## accuracy aus confusion matrix\n",
    "print(np.diag(pd.crosstab(iris_y_test, iris_y_pred)).sum() / iris_y_test.size)\n",
    "\n",
    "## accuracy_score from sklearn.metrics\n",
    "from sklearn.metrics import accuracy_score\n",
    "print(accuracy_score(iris_y_pred, iris_y_test))\n",
    "\n",
    "## model internal scorer\n",
    "print(iris_model.score(iris_X_test, iris_y_test))"
   ]
  },
  {
   "cell_type": "code",
   "execution_count": 12,
   "metadata": {
    "ExecuteTime": {
     "end_time": "2020-04-15T20:46:52.149549Z",
     "start_time": "2020-04-15T20:46:52.101330Z"
    }
   },
   "outputs": [
    {
     "name": "stdout",
     "output_type": "stream",
     "text": [
      "0.020000000000000018\n"
     ]
    }
   ],
   "source": [
    "## classification error, calculated as 1 - accuracy_score)\n",
    "print(1 - accuracy_score(iris_y_pred, iris_y_test))"
   ]
  },
  {
   "cell_type": "code",
   "execution_count": 13,
   "metadata": {
    "ExecuteTime": {
     "end_time": "2020-04-15T20:47:15.107795Z",
     "start_time": "2020-04-15T20:47:15.097085Z"
    }
   },
   "outputs": [
    {
     "name": "stdout",
     "output_type": "stream",
     "text": [
      "0.9803921568627452\n"
     ]
    }
   ],
   "source": [
    "## other multiclass scorer: balanced_accuracy_score\n",
    "from sklearn.metrics import balanced_accuracy_score\n",
    "print(balanced_accuracy_score(iris_y_test, iris_y_pred))"
   ]
  },
  {
   "cell_type": "code",
   "execution_count": 14,
   "metadata": {},
   "outputs": [
    {
     "name": "stdout",
     "output_type": "stream",
     "text": [
      "0.97000599880024\n"
     ]
    }
   ],
   "source": [
    "## other multiclass scorer: cohen_kappa_score\n",
    "from sklearn.metrics import cohen_kappa_score\n",
    "print(cohen_kappa_score(iris_y_test, iris_y_pred))"
   ]
  },
  {
   "cell_type": "markdown",
   "metadata": {},
   "source": [
    "#### Metriken für binär numerische Klassen"
   ]
  },
  {
   "cell_type": "code",
   "execution_count": 16,
   "metadata": {
    "scrolled": true
   },
   "outputs": [
    {
     "name": "stdout",
     "output_type": "stream",
     "text": [
      "col_0     0     1\n",
      "row_0            \n",
      "0      1465   141\n",
      "1       270  1411\n",
      "\n",
      "col_0     1     0\n",
      "row_0            \n",
      "1      1411   270\n",
      "0       141  1465\n"
     ]
    }
   ],
   "source": [
    "## confusion matrix of numerical targets\n",
    "print(pd.crosstab(y_pred_n, y_test_n)) ## confusion matrix\n",
    "print()\n",
    "print(pd.crosstab(y_pred_n, y_test_n).\\\n",
    "      reindex(columns=[1, 0], index=[1, 0])) ## reindexed"
   ]
  },
  {
   "cell_type": "code",
   "execution_count": 17,
   "metadata": {},
   "outputs": [
    {
     "name": "stdout",
     "output_type": "stream",
     "text": [
      "tp = 1411\n",
      "fn = 141\n",
      "fp = 270\n",
      "tn = 1465\n"
     ]
    }
   ],
   "source": [
    "## extract confusion matrix cells\n",
    "from sklearn.metrics import confusion_matrix\n",
    "tn, fp, fn, tp = confusion_matrix(y_test_n, y_pred_n).ravel() ## .ravel() in order to flatten array\n",
    "print('tp =', tp)\n",
    "print('fn =', fn)\n",
    "print('fp =', fp)\n",
    "print('tn =', tn)"
   ]
  },
  {
   "cell_type": "code",
   "execution_count": 18,
   "metadata": {},
   "outputs": [
    {
     "name": "stdout",
     "output_type": "stream",
     "text": [
      "0.8393813206424747\n",
      "0.8393813206424747\n"
     ]
    }
   ],
   "source": [
    "## precision - positive predictive value - PPV\n",
    "ppv = tp / (tp + fp)\n",
    "print(ppv)\n",
    "from sklearn.metrics import precision_score\n",
    "print(precision_score(y_test_n, y_pred_n))"
   ]
  },
  {
   "cell_type": "code",
   "execution_count": 19,
   "metadata": {},
   "outputs": [
    {
     "name": "stdout",
     "output_type": "stream",
     "text": [
      "0.9091494845360825\n",
      "0.9091494845360825\n"
     ]
    }
   ],
   "source": [
    "## recall, hit rate, sensitivity, or true positive rate (TPR)\n",
    "tpr = tp / (tp + fn)\n",
    "print(tpr)\n",
    "from sklearn.metrics import recall_score\n",
    "print(recall_score(y_test_n, y_pred_n))"
   ]
  },
  {
   "cell_type": "code",
   "execution_count": 20,
   "metadata": {
    "scrolled": true
   },
   "outputs": [
    {
     "name": "stdout",
     "output_type": "stream",
     "text": [
      "0.8728734921125888\n",
      "0.8728734921125889\n"
     ]
    }
   ],
   "source": [
    "## F1\n",
    "f1 = 2 * (ppv * tpr) / (ppv + tpr)\n",
    "print(f1)\n",
    "from sklearn.metrics import f1_score\n",
    "print(f1_score(y_test_n, y_pred_n))"
   ]
  },
  {
   "cell_type": "code",
   "execution_count": 21,
   "metadata": {
    "ExecuteTime": {
     "end_time": "2020-04-15T20:47:34.451273Z",
     "start_time": "2020-04-15T20:47:34.431963Z"
    }
   },
   "outputs": [
    {
     "name": "stdout",
     "output_type": "stream",
     "text": [
      "              precision    recall  f1-score   support\n",
      "\n",
      "           0       0.91      0.84      0.88      1735\n",
      "           1       0.84      0.91      0.87      1552\n",
      "\n",
      "    accuracy                           0.87      3287\n",
      "   macro avg       0.88      0.88      0.87      3287\n",
      "weighted avg       0.88      0.87      0.88      3287\n",
      "\n"
     ]
    }
   ],
   "source": [
    "## classification_report\n",
    "from sklearn.metrics import classification_report\n",
    "print(classification_report(y_test_n, y_pred_n))"
   ]
  },
  {
   "cell_type": "code",
   "execution_count": 22,
   "metadata": {
    "ExecuteTime": {
     "end_time": "2020-04-15T20:48:11.351461Z",
     "start_time": "2020-04-15T20:48:11.163655Z"
    },
    "scrolled": true
   },
   "outputs": [
    {
     "name": "stdout",
     "output_type": "stream",
     "text": [
      "              precision    recall  f1-score   support\n",
      "\n",
      "          no       0.91      0.84      0.88      1735\n",
      "         yes       0.84      0.91      0.87      1552\n",
      "\n",
      "    accuracy                           0.87      3287\n",
      "   macro avg       0.88      0.88      0.87      3287\n",
      "weighted avg       0.88      0.87      0.88      3287\n",
      "\n"
     ]
    }
   ],
   "source": [
    "## with not numerical labels\n",
    "print(classification_report(y_test, y_pred_c))"
   ]
  },
  {
   "cell_type": "code",
   "execution_count": 23,
   "metadata": {
    "ExecuteTime": {
     "end_time": "2020-04-15T20:48:11.720755Z",
     "start_time": "2020-04-15T20:48:11.688642Z"
    }
   },
   "outputs": [
    {
     "name": "stdout",
     "output_type": "stream",
     "text": [
      "              precision    recall  f1-score   support\n",
      "\n",
      "      setosa       1.00      1.00      1.00        17\n",
      "  versicolor       1.00      0.94      0.97        17\n",
      "   virginica       0.94      1.00      0.97        16\n",
      "\n",
      "    accuracy                           0.98        50\n",
      "   macro avg       0.98      0.98      0.98        50\n",
      "weighted avg       0.98      0.98      0.98        50\n",
      "\n"
     ]
    }
   ],
   "source": [
    "## a multiclass classification, data prepared in 4.4.1.2\n",
    "print(classification_report(iris_y_test, iris_y_pred))"
   ]
  },
  {
   "cell_type": "code",
   "execution_count": 24,
   "metadata": {},
   "outputs": [
    {
     "name": "stdout",
     "output_type": "stream",
     "text": [
      "precision_score: 0.9811764705882353\n",
      "recall_score:    0.98\n",
      "f1_score:        0.98\n"
     ]
    }
   ],
   "source": [
    "## apply precision_score and recall_score for multiclass models\n",
    "from sklearn.metrics import precision_score, recall_score, f1_score\n",
    "print('precision_score:', precision_score(iris_y_test, iris_y_pred, average = 'weighted'))\n",
    "print('recall_score:   ', recall_score(iris_y_test, iris_y_pred, average = 'weighted'))\n",
    "print('f1_score:       ', f1_score(iris_y_test, iris_y_pred, average = 'weighted'))"
   ]
  },
  {
   "cell_type": "code",
   "execution_count": 25,
   "metadata": {},
   "outputs": [
    {
     "name": "stdout",
     "output_type": "stream",
     "text": [
      "0.9091494845360825\n",
      "0.9091494845360825\n"
     ]
    }
   ],
   "source": [
    "## recall, sensitivity, TPR\n",
    "tpr = tp / (tp + fn)\n",
    "print(tpr)\n",
    "from sklearn.metrics import recall_score\n",
    "print(recall_score(y_test_n, y_pred_n))"
   ]
  },
  {
   "cell_type": "code",
   "execution_count": 26,
   "metadata": {},
   "outputs": [
    {
     "name": "stdout",
     "output_type": "stream",
     "text": [
      "0.8443804034582133\n"
     ]
    }
   ],
   "source": [
    "## specificity, TNR (no sklearn function)\n",
    "tnr = tn / (tn + fp)\n",
    "print(tnr)"
   ]
  },
  {
   "cell_type": "code",
   "execution_count": 27,
   "metadata": {},
   "outputs": [
    {
     "name": "stdout",
     "output_type": "stream",
     "text": [
      "0.1556195965417867\n"
     ]
    }
   ],
   "source": [
    "## false positive rate, FPR: 1 - TNR (no sklearn function)\n",
    "fpr = 1 - tnr \n",
    "print(fpr)"
   ]
  },
  {
   "cell_type": "code",
   "execution_count": 28,
   "metadata": {},
   "outputs": [
    {
     "name": "stderr",
     "output_type": "stream",
     "text": [
      "C:\\Users\\werne\\anaconda3\\Lib\\site-packages\\seaborn\\_oldcore.py:1119: FutureWarning: use_inf_as_na option is deprecated and will be removed in a future version. Convert inf values to NaN before operating instead.\n",
      "  with pd.option_context('mode.use_inf_as_na', True):\n",
      "C:\\Users\\werne\\anaconda3\\Lib\\site-packages\\seaborn\\_oldcore.py:1119: FutureWarning: use_inf_as_na option is deprecated and will be removed in a future version. Convert inf values to NaN before operating instead.\n",
      "  with pd.option_context('mode.use_inf_as_na', True):\n"
     ]
    },
    {
     "data": {
      "image/png": "[encoded data removed]",
      "text/plain": [
       "<Figure size 500x450 with 1 Axes>"
      ]
     },
     "metadata": {},
     "output_type": "display_data"
    }
   ],
   "source": [
    "## ROC AUC - part I (binary)\n",
    "plt.figure(figsize=(5,4.5))\n",
    "sns.lineplot(x=[0, fpr, 1], y=[0, tpr, 1])\n",
    "plt.xlabel('fpr (1 - specificity)')\n",
    "plt.ylabel('tpr (recall, sensitivity)')\n",
    "ls = np.linspace(0, 1, 100)\n",
    "plt.plot(ls, ls, color='r', linestyle='--')\n",
    "plt.annotate('O', (fpr, tpr), ha='center', va='center')\n",
    "plt.annotate('O 1', (-0.01, 1), ha='left', va='center', size=10)\n",
    "plt.annotate('O 2', (0.3, 0.5), ha='left', va='center', size=10)\n",
    "plt.annotate('O 3', (0.6, 0.1), ha='left', va='center', size=10);"
   ]
  },
  {
   "cell_type": "code",
   "execution_count": 29,
   "metadata": {},
   "outputs": [
    {
     "name": "stderr",
     "output_type": "stream",
     "text": [
      "C:\\Users\\werne\\anaconda3\\Lib\\site-packages\\seaborn\\_oldcore.py:1119: FutureWarning: use_inf_as_na option is deprecated and will be removed in a future version. Convert inf values to NaN before operating instead.\n",
      "  with pd.option_context('mode.use_inf_as_na', True):\n",
      "C:\\Users\\werne\\anaconda3\\Lib\\site-packages\\seaborn\\_oldcore.py:1119: FutureWarning: use_inf_as_na option is deprecated and will be removed in a future version. Convert inf values to NaN before operating instead.\n",
      "  with pd.option_context('mode.use_inf_as_na', True):\n"
     ]
    },
    {
     "data": {
      "image/png": "[encoded data removed]",
      "text/plain": [
       "<Figure size 500x450 with 1 Axes>"
      ]
     },
     "metadata": {},
     "output_type": "display_data"
    }
   ],
   "source": [
    "## calculate the area under the curve\n",
    "plt.figure(figsize=(5,4.5))\n",
    "sns.lineplot(x=[0, fpr, 1], y=[0, tpr, 1])\n",
    "plt.xlabel('fpr (1 - specificity)')\n",
    "plt.ylabel('tpr (recall, sensitivity)')\n",
    "ls = np.linspace(0, 1, 100)\n",
    "plt.plot(ls, ls, color='r', linestyle='--')\n",
    "plt.annotate('O', (fpr, tpr), ha='center', va='center')\n",
    "\n",
    "## add polygons\n",
    "x1 = [0, fpr, fpr, 0]\n",
    "y1 = [0, tpr, 0, 0]\n",
    "plt.fill(x1, y1, color='lightblue')\n",
    "x2 = [fpr, fpr, 1, 1, fpr]\n",
    "y2 = [0, tpr, 1, 0, 0]\n",
    "plt.fill(x2, y2, color='palegreen');"
   ]
  },
  {
   "cell_type": "code",
   "execution_count": 30,
   "metadata": {
    "scrolled": true
   },
   "outputs": [
    {
     "name": "stdout",
     "output_type": "stream",
     "text": [
      "0.876764943997148\n",
      "0.8767649439971479\n",
      "0.8767649439971479\n"
     ]
    }
   ],
   "source": [
    "## calculated from the values of the confusion matrix\n",
    "print((fpr * tpr / 2) + ((1 - fpr) * ((tpr + 1) / 2)))\n",
    "print((tpr - fpr + 1) / 2)\n",
    "print(((tp / (tp + fn)) - (fp / (tn + fp)) + 1) / 2)"
   ]
  },
  {
   "cell_type": "code",
   "execution_count": 31,
   "metadata": {},
   "outputs": [
    {
     "name": "stdout",
     "output_type": "stream",
     "text": [
      "0.8767649439971479\n"
     ]
    }
   ],
   "source": [
    "## with functions from sklearn.metrics\n",
    "from sklearn.metrics import roc_curve, auc\n",
    "fpr_arr, tpr_arr, thresholds = roc_curve(y_test_n, y_pred_n)\n",
    "print(auc(fpr_arr, tpr_arr))"
   ]
  },
  {
   "cell_type": "markdown",
   "metadata": {},
   "source": [
    "#### Metriken für Wahrscheinlichkeitswerte von Klassen"
   ]
  },
  {
   "cell_type": "code",
   "execution_count": 33,
   "metadata": {
    "tags": []
   },
   "outputs": [
    {
     "name": "stderr",
     "output_type": "stream",
     "text": [
      "C:\\Users\\werne\\anaconda3\\Lib\\site-packages\\seaborn\\_oldcore.py:1119: FutureWarning: use_inf_as_na option is deprecated and will be removed in a future version. Convert inf values to NaN before operating instead.\n",
      "  with pd.option_context('mode.use_inf_as_na', True):\n",
      "C:\\Users\\werne\\anaconda3\\Lib\\site-packages\\seaborn\\_oldcore.py:1119: FutureWarning: use_inf_as_na option is deprecated and will be removed in a future version. Convert inf values to NaN before operating instead.\n",
      "  with pd.option_context('mode.use_inf_as_na', True):\n"
     ]
    },
    {
     "data": {
      "image/png": "[encoded data removed]",
      "text/plain": [
       "<Figure size 800x350 with 2 Axes>"
      ]
     },
     "metadata": {},
     "output_type": "display_data"
    }
   ],
   "source": [
    "## a graphic comparision of the values from .predict() and .predict_proba()\n",
    "f, axes = plt.subplots(nrows=1, ncols=2, figsize=(8, 3.5), sharex=False)\n",
    "ax = sns.histplot(y_pred_n, bins=20, ax=axes[0])\n",
    "ax = sns.histplot(y_pred_p[:,1], bins=20, ax=axes[1]);"
   ]
  },
  {
   "cell_type": "code",
   "execution_count": 34,
   "metadata": {},
   "outputs": [
    {
     "name": "stdout",
     "output_type": "stream",
     "text": [
      "   y_pred_n  y_pred_p_1\n",
      "0         1        0.92\n",
      "1         1        0.78\n",
      "2         1        0.64\n",
      "3         0        0.01\n",
      "4         0        0.01\n"
     ]
    }
   ],
   "source": [
    "## ROC AUC - Part 2 (cont)\n",
    "print(pd.DataFrame({\n",
    "    'y_pred_n': y_pred_n,\n",
    "    'y_pred_p_1': y_pred_p[:, 1]\n",
    "}).head())"
   ]
  },
  {
   "cell_type": "code",
   "execution_count": 35,
   "metadata": {},
   "outputs": [
    {
     "name": "stdout",
     "output_type": "stream",
     "text": [
      "   thresholds   tpr_arr   fpr_arr\n",
      "0         inf  0.000000  0.000000\n",
      "1        1.00  0.027706  0.000000\n",
      "2        0.99  0.064433  0.001729\n",
      "3        0.98  0.101160  0.002882\n",
      "4        0.97  0.134665  0.004611\n"
     ]
    }
   ],
   "source": [
    "from sklearn.metrics import roc_curve\n",
    "fpr_arr, tpr_arr, thresholds = roc_curve(y_test_n, y_pred_p[:, 1])\n",
    "#auc_arr = (tpr_arr - fpr_arr + 1) / 2\n",
    "\n",
    "results = pd.DataFrame({\n",
    "    'thresholds' : thresholds,\n",
    "    'tpr_arr': tpr_arr,\n",
    "    'fpr_arr': fpr_arr #,\n",
    "#    'auc_arr': auc_arr\n",
    "})\n",
    "print(results.head())\n",
    "#print(results.tail())"
   ]
  },
  {
   "cell_type": "code",
   "execution_count": 36,
   "metadata": {},
   "outputs": [
    {
     "name": "stderr",
     "output_type": "stream",
     "text": [
      "C:\\Users\\werne\\anaconda3\\Lib\\site-packages\\seaborn\\_oldcore.py:1119: FutureWarning: use_inf_as_na option is deprecated and will be removed in a future version. Convert inf values to NaN before operating instead.\n",
      "  with pd.option_context('mode.use_inf_as_na', True):\n",
      "C:\\Users\\werne\\anaconda3\\Lib\\site-packages\\seaborn\\_oldcore.py:1119: FutureWarning: use_inf_as_na option is deprecated and will be removed in a future version. Convert inf values to NaN before operating instead.\n",
      "  with pd.option_context('mode.use_inf_as_na', True):\n"
     ]
    },
    {
     "data": {
      "image/png": "[encoded data removed]",
      "text/plain": [
       "<Figure size 500x450 with 1 Axes>"
      ]
     },
     "metadata": {},
     "output_type": "display_data"
    }
   ],
   "source": [
    "plt.figure(figsize=(5,4.5))\n",
    "sns.lineplot(x=fpr_arr, y=tpr_arr)\n",
    "plt.xlabel('fpr')\n",
    "plt.ylabel('tpr');"
   ]
  },
  {
   "cell_type": "code",
   "execution_count": 37,
   "metadata": {},
   "outputs": [
    {
     "name": "stdout",
     "output_type": "stream",
     "text": [
      "auc : 0.9366306188537984\n"
     ]
    }
   ],
   "source": [
    "from sklearn.metrics import auc\n",
    "print('auc :', auc(fpr_arr, tpr_arr))"
   ]
  },
  {
   "cell_type": "raw",
   "metadata": {},
   "source": [
    "## manual control of the trapezoidal rule\n",
    "area = 0\n",
    "for i in range (len(tpr_arr) - 1):\n",
    "    area = area + ((tpr_arr[i] + tpr_arr[i + 1]) / 2 * (fpr_arr[i + 1] - fpr_arr[i]))\n",
    "print(area)"
   ]
  },
  {
   "cell_type": "code",
   "execution_count": 38,
   "metadata": {},
   "outputs": [
    {
     "data": {
      "image/png": "[encoded data removed]",
      "text/plain": [
       "<Figure size 640x480 with 1 Axes>"
      ]
     },
     "metadata": {},
     "output_type": "display_data"
    }
   ],
   "source": [
    "## a function from sklearn.metrics which draws an calculates roc auc directly\n",
    "from sklearn.metrics import RocCurveDisplay\n",
    "RocCurveDisplay.from_predictions(y_test_n, y_pred_p[:,1]);"
   ]
  },
  {
   "cell_type": "code",
   "execution_count": 39,
   "metadata": {},
   "outputs": [
    {
     "name": "stderr",
     "output_type": "stream",
     "text": [
      "C:\\Users\\werne\\anaconda3\\Lib\\site-packages\\seaborn\\_oldcore.py:1119: FutureWarning: use_inf_as_na option is deprecated and will be removed in a future version. Convert inf values to NaN before operating instead.\n",
      "  with pd.option_context('mode.use_inf_as_na', True):\n",
      "C:\\Users\\werne\\anaconda3\\Lib\\site-packages\\seaborn\\_oldcore.py:1119: FutureWarning: use_inf_as_na option is deprecated and will be removed in a future version. Convert inf values to NaN before operating instead.\n",
      "  with pd.option_context('mode.use_inf_as_na', True):\n"
     ]
    },
    {
     "data": {
      "image/png": "[encoded data removed]",
      "text/plain": [
       "<Figure size 500x450 with 1 Axes>"
      ]
     },
     "metadata": {},
     "output_type": "display_data"
    }
   ],
   "source": [
    "## calc best_fpr and best_tpr\n",
    "auc_arr = (tpr_arr - fpr_arr + 1) / 2\n",
    "max_auc = max(auc_arr)\n",
    "best_tpr = tpr_arr[auc_arr == max(auc_arr)][0]\n",
    "best_fpr = fpr_arr[auc_arr == max(auc_arr)][0]\n",
    "best_th = thresholds[auc_arr == max(auc_arr)][0]\n",
    "\n",
    "plt.figure(figsize=(5,4.5))\n",
    "sns.lineplot(x=fpr_arr, y=tpr_arr)\n",
    "plt.xlabel('fpr')\n",
    "plt.ylabel('tpr')\n",
    "ls = np.linspace(0, 1, 100)\n",
    "plt.plot(ls, ls, color='r', linestyle='--')\n",
    "plt.plot([0, best_fpr], [0, best_tpr], color='black', lw=0.5)\n",
    "plt.plot([best_fpr, 1], [best_tpr, 1], color='black', lw=0.5)\n",
    "plt.annotate('O', (best_fpr, best_tpr), ha='center', va='center')\n",
    "x1 = best_fpr - 0.15\n",
    "x2 = best_fpr + 0.1\n",
    "y1 = best_tpr - 0.15\n",
    "y2 = best_tpr + 0.1\n",
    "plt.plot([x1, x2], [y1, y2], color='r', linestyle='--');"
   ]
  },
  {
   "cell_type": "code",
   "execution_count": 40,
   "metadata": {},
   "outputs": [
    {
     "name": "stdout",
     "output_type": "stream",
     "text": [
      "best auc : 0.8824305906295493\n",
      "best threshold : 0.44\n"
     ]
    }
   ],
   "source": [
    "print('best auc :', max(auc_arr))\n",
    "print('best threshold :', thresholds[auc_arr == max(auc_arr)][0])"
   ]
  },
  {
   "cell_type": "code",
   "execution_count": 41,
   "metadata": {},
   "outputs": [
    {
     "name": "stdout",
     "output_type": "stream",
     "text": [
      "0.304115865220962\n"
     ]
    }
   ],
   "source": [
    "## log_loss\n",
    "from sklearn.metrics import log_loss\n",
    "print(log_loss(y_test_n, y_pred_p))"
   ]
  },
  {
   "cell_type": "code",
   "execution_count": 42,
   "metadata": {},
   "outputs": [
    {
     "name": "stdout",
     "output_type": "stream",
     "text": [
      "[[0.   0.98 0.02]\n",
      " [0.   0.98 0.02]\n",
      " [0.   0.   1.  ]\n",
      " [1.   0.   0.  ]\n",
      " [0.   0.98 0.02]]\n",
      "0.10952457826611449\n"
     ]
    }
   ],
   "source": [
    "## also applicable to multiclass models\n",
    "## see https://scikit-learn.org/stable/modules/model_evaluation.html#log-loss\n",
    "## example of a multi class classification\n",
    "iris_data = sns.load_dataset('iris')\n",
    "iris_X = iris_data.drop('species', axis=1)\n",
    "iris_y = iris_data['species']\n",
    "from sklearn.model_selection import train_test_split\n",
    "iris_X_train, iris_X_test, iris_y_train, iris_y_test, = train_test_split(\n",
    "    iris_X,\n",
    "    iris_y,\n",
    "    train_size=2/3,\n",
    "    random_state=1234)\n",
    "\n",
    "from sklearn.ensemble import RandomForestClassifier\n",
    "model = RandomForestClassifier(random_state=1234)\n",
    "model.fit(iris_X_train, iris_y_train)\n",
    "iris_y_pred_p = model.predict_proba(iris_X_test)\n",
    "print(iris_y_pred_p[0:5,:])\n",
    "\n",
    "#iris_y_pred_p\n",
    "from sklearn.metrics import log_loss\n",
    "print(log_loss(iris_y_test, iris_y_pred_p))"
   ]
  },
  {
   "cell_type": "markdown",
   "metadata": {},
   "source": [
    "### Performancemetriken - Regression\n",
    "#### Vorbereitung"
   ]
  },
  {
   "cell_type": "code",
   "execution_count": 44,
   "metadata": {},
   "outputs": [],
   "source": [
    "## import libraries\n",
    "import pandas as pd\n",
    "import seaborn as sns\n",
    "import matplotlib\n",
    "import numpy as np\n",
    "import matplotlib.pyplot as plt; sns.set()\n",
    "%matplotlib inline\n",
    "\n",
    "## load data\n",
    "datapath = '../3_data'\n",
    "from os import chdir; chdir(datapath)\n",
    "\n",
    "from bfh_cas_pml import prep_data\n",
    "X_train, X_test, y_train, y_test = prep_data('melb_data_prep.csv', 'Price', seed = 1234)\n",
    "\n",
    "from sklearn.tree import DecisionTreeRegressor\n",
    "model = DecisionTreeRegressor()\n",
    "model.fit(X_train, y_train)\n",
    "y_pred = model.predict(X_test)"
   ]
  },
  {
   "cell_type": "code",
   "execution_count": 45,
   "metadata": {},
   "outputs": [
    {
     "name": "stdout",
     "output_type": "stream",
     "text": [
      "          y_test     y_pred\n",
      "18178  3400000.0  1710000.0\n",
      "16248  3625000.0  2720000.0\n",
      "7472    565000.0   460000.0\n",
      "11719  2525000.0  1640000.0\n",
      "5228   1350000.0  1110000.0\n"
     ]
    }
   ],
   "source": [
    "print(pd.DataFrame({\n",
    "    'y_test': y_test,\n",
    "    'y_pred': y_pred\n",
    "}).head())"
   ]
  },
  {
   "cell_type": "markdown",
   "metadata": {},
   "source": [
    "#### Einige Scorer im Überblick"
   ]
  },
  {
   "cell_type": "code",
   "execution_count": 47,
   "metadata": {},
   "outputs": [
    {
     "name": "stdout",
     "output_type": "stream",
     "text": [
      "168302926887.03622\n"
     ]
    }
   ],
   "source": [
    "## mean_squared_error (mse)\n",
    "from sklearn.metrics import mean_squared_error\n",
    "print(mean_squared_error(y_test, y_pred))"
   ]
  },
  {
   "cell_type": "code",
   "execution_count": 48,
   "metadata": {},
   "outputs": [
    {
     "name": "stdout",
     "output_type": "stream",
     "text": [
      "410247.39717277454\n"
     ]
    }
   ],
   "source": [
    "## root_mean_squared_error (mse)\n",
    "from sklearn.metrics import root_mean_squared_error\n",
    "print(root_mean_squared_error(y_test, y_pred))"
   ]
  },
  {
   "cell_type": "code",
   "execution_count": 49,
   "metadata": {},
   "outputs": [
    {
     "name": "stdout",
     "output_type": "stream",
     "text": [
      "242573.75131843635\n"
     ]
    }
   ],
   "source": [
    "## mean_absolute_error (mae)\n",
    "from sklearn.metrics import mean_absolute_error\n",
    "print(mean_absolute_error(y_test, y_pred))"
   ]
  },
  {
   "cell_type": "code",
   "execution_count": 50,
   "metadata": {},
   "outputs": [
    {
     "name": "stdout",
     "output_type": "stream",
     "text": [
      "0.22293323696477496\n"
     ]
    }
   ],
   "source": [
    "## mean_absolute_percentage_error (mape)\n",
    "from sklearn.metrics import mean_absolute_percentage_error\n",
    "print(mean_absolute_percentage_error(y_test, y_pred))"
   ]
  },
  {
   "cell_type": "code",
   "execution_count": 51,
   "metadata": {},
   "outputs": [
    {
     "name": "stdout",
     "output_type": "stream",
     "text": [
      "0.08299968885305599\n"
     ]
    }
   ],
   "source": [
    "## mean_squared_log_error (msle)\n",
    "from sklearn.metrics import mean_squared_log_error\n",
    "print(mean_squared_log_error(y_test, y_pred))"
   ]
  },
  {
   "cell_type": "code",
   "execution_count": 52,
   "metadata": {},
   "outputs": [
    {
     "name": "stdout",
     "output_type": "stream",
     "text": [
      "138000.0\n"
     ]
    }
   ],
   "source": [
    "## median_absolute_error (medae)\n",
    "from sklearn.metrics import median_absolute_error\n",
    "print(median_absolute_error(y_test, y_pred))"
   ]
  },
  {
   "cell_type": "code",
   "execution_count": 53,
   "metadata": {
    "tags": []
   },
   "outputs": [
    {
     "name": "stdout",
     "output_type": "stream",
     "text": [
      "0.5788575354456096\n"
     ]
    }
   ],
   "source": [
    "## r2_score (r2)\n",
    "from sklearn.metrics import r2_score\n",
    "print(r2_score(y_test, y_pred))"
   ]
  }
 ],
 "metadata": {
  "kernelspec": {
   "display_name": "Python 3 (ipykernel)",
   "language": "python",
   "name": "python3"
  },
  "language_info": {
   "codemirror_mode": {
    "name": "ipython",
    "version": 3
   },
   "file_extension": ".py",
   "mimetype": "text/x-python",
   "name": "python",
   "nbconvert_exporter": "python",
   "pygments_lexer": "ipython3",
   "version": "3.11.7"
  },
  "toc": {
   "base_numbering": "4.4",
   "nav_menu": {
    "height": "189px",
    "width": "303.333px"
   },
   "number_sections": true,
   "sideBar": true,
   "skip_h1_title": false,
   "title_cell": "4.4 Validierung und mehr - Performance Metriken",
   "title_sidebar": "Contents",
   "toc_cell": true,
   "toc_position": {
    "height": "calc(100% - 180px)",
    "left": "10px",
    "top": "150px",
    "width": "208.667px"
   },
   "toc_section_display": true,
   "toc_window_display": true
  },
  "toc-autonumbering": true,
  "varInspector": {
   "cols": {
    "lenName": 16,
    "lenType": 16,
    "lenVar": 40
   },
   "kernels_config": {
    "python": {
     "delete_cmd_postfix": "",
     "delete_cmd_prefix": "del ",
     "library": "var_list.py",
     "varRefreshCmd": "print(var_dic_list())"
    },
    "r": {
     "delete_cmd_postfix": ") ",
     "delete_cmd_prefix": "rm(",
     "library": "var_list.r",
     "varRefreshCmd": "cat(var_dic_list()) "
    }
   },
   "position": {
    "height": "298.85px",
    "left": "783px",
    "right": "20px",
    "top": "119px",
    "width": "350px"
   },
   "types_to_exclude": [
    "module",
    "function",
    "builtin_function_or_method",
    "instance",
    "_Feature"
   ],
   "window_display": false
  }
 },
 "nbformat": 4,
 "nbformat_minor": 4
}

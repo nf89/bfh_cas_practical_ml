{
 "cells": [
  {
   "cell_type": "markdown",
   "metadata": {
    "tags": []
   },
   "source": [
    "# Feature Engineering\n",
    "## Einfuehrung\n",
    "## Exploration\n",
    "## Transformation"
   ]
  },
  {
   "cell_type": "code",
   "execution_count": 2,
   "metadata": {
    "ExecuteTime": {
     "end_time": "2020-02-20T10:44:50.482748Z",
     "start_time": "2020-02-20T10:44:48.566864Z"
    }
   },
   "outputs": [],
   "source": [
    "## prepare: import libraries and read data\n",
    "import pandas as pd\n",
    "import numpy as np\n",
    "import matplotlib.pyplot as plt\n",
    "import seaborn as sns; sns.set()\n",
    "%matplotlib inline\n",
    "\n",
    "datapath = '../3_data'\n",
    "from os import chdir; chdir(datapath)\n",
    "\n",
    "ori_data = pd.read_csv('bank_data.csv', sep=';')"
   ]
  },
  {
   "cell_type": "markdown",
   "metadata": {
    "tags": []
   },
   "source": [
    "### Data Frame"
   ]
  },
  {
   "cell_type": "markdown",
   "metadata": {},
   "source": [
    "#### Entfernen von Beobachtungen"
   ]
  },
  {
   "cell_type": "markdown",
   "metadata": {},
   "source": [
    "##### Nach Index"
   ]
  },
  {
   "cell_type": "code",
   "execution_count": 6,
   "metadata": {
    "tags": []
   },
   "outputs": [
    {
     "name": "stdout",
     "output_type": "stream",
     "text": [
      "9868\n",
      "9867\n"
     ]
    }
   ],
   "source": [
    "## sandbox\n",
    "data = ori_data.copy()\n",
    "\n",
    "## check before\n",
    "print(data.shape[0])\n",
    "\n",
    "## drop row by index\n",
    "idx = (data.age[data.age == max(data.age)].index[0]).tolist()\n",
    "data.drop(idx, inplace=True)\n",
    "\n",
    "## check after\n",
    "print(data.shape[0])"
   ]
  },
  {
   "cell_type": "markdown",
   "metadata": {},
   "source": [
    "##### Nach Bedingung"
   ]
  },
  {
   "cell_type": "code",
   "execution_count": 8,
   "metadata": {},
   "outputs": [
    {
     "name": "stdout",
     "output_type": "stream",
     "text": [
      "(9868, 21)\n",
      "(9867, 21)\n"
     ]
    }
   ],
   "source": [
    "## sandbox\n",
    "data = ori_data.copy()\n",
    "\n",
    "## check before\n",
    "print(data.shape)\n",
    "\n",
    "## drop by condition\n",
    "data.drop(data[data.age >= 100].index, inplace=True)\n",
    "\n",
    "## check after\n",
    "print(data.shape)"
   ]
  },
  {
   "cell_type": "markdown",
   "metadata": {},
   "source": [
    "##### Duplikate"
   ]
  },
  {
   "cell_type": "code",
   "execution_count": 10,
   "metadata": {},
   "outputs": [
    {
     "name": "stdout",
     "output_type": "stream",
     "text": [
      "7\n",
      "0\n"
     ]
    }
   ],
   "source": [
    "## sandbox\n",
    "data = ori_data.copy() ## sandbox action\n",
    "\n",
    "## check before\n",
    "print(data.duplicated().sum())\n",
    "\n",
    "## drop duplicats\n",
    "data.drop_duplicates(ignore_index=True, inplace=True)\n",
    "\n",
    "## check after\n",
    "print(data.duplicated().sum())"
   ]
  },
  {
   "cell_type": "markdown",
   "metadata": {},
   "source": [
    "#### Entfernen von Variablen"
   ]
  },
  {
   "cell_type": "markdown",
   "metadata": {},
   "source": [
    "##### By Index"
   ]
  },
  {
   "cell_type": "markdown",
   "metadata": {},
   "source": [
    "* remove variables by index (e.g. first three)"
   ]
  },
  {
   "cell_type": "code",
   "execution_count": 14,
   "metadata": {
    "scrolled": true
   },
   "outputs": [
    {
     "name": "stdout",
     "output_type": "stream",
     "text": [
      "Index(['age', 'job', 'marital', 'education', 'default', 'housing'], dtype='object')\n",
      "Index(['education', 'default', 'housing', 'loan', 'contact', 'month'], dtype='object')\n"
     ]
    }
   ],
   "source": [
    "## sandbox\n",
    "data = ori_data.copy()\n",
    "\n",
    "## check bevore\n",
    "print(data.columns[:6])\n",
    "\n",
    "## drop variables\n",
    "cols_to_drop = [0, 1, 2]\n",
    "data.drop(data.columns[cols_to_drop], axis=1, inplace=True)\n",
    "\n",
    "## alternatively\n",
    "#data.drop(data.columns[[0, 1, 2]], axis=1, inplace=True)\n",
    "\n",
    "## check after\n",
    "print(data.columns[:6])"
   ]
  },
  {
   "cell_type": "markdown",
   "metadata": {},
   "source": [
    "##### By Name"
   ]
  },
  {
   "cell_type": "markdown",
   "metadata": {},
   "source": [
    "* remove variables by name (e.g. marital and education)"
   ]
  },
  {
   "cell_type": "code",
   "execution_count": 17,
   "metadata": {},
   "outputs": [
    {
     "name": "stdout",
     "output_type": "stream",
     "text": [
      "Index(['age', 'job', 'marital', 'education', 'default', 'housing'], dtype='object')\n",
      "Index(['age', 'job', 'default', 'housing', 'loan', 'contact'], dtype='object')\n"
     ]
    }
   ],
   "source": [
    "## sandbox\n",
    "data = ori_data.copy()\n",
    "\n",
    "## check bevore\n",
    "print(data.columns[:6])\n",
    "\n",
    "cols_to_drop = ['marital', 'education']\n",
    "data.drop(cols_to_drop, axis=1, inplace=True)\n",
    "\n",
    "## alternatively\n",
    "#data.drop(['marital', 'education'], axis=1, inplace=True)\n",
    "\n",
    "print(data.columns[:6])\n",
    "#print(data.head())"
   ]
  },
  {
   "cell_type": "markdown",
   "metadata": {},
   "source": [
    "#### Einsetzen von Werten für Missing Values"
   ]
  },
  {
   "cell_type": "markdown",
   "metadata": {},
   "source": [
    "##### Kategoriale Variablen"
   ]
  },
  {
   "cell_type": "code",
   "execution_count": 20,
   "metadata": {},
   "outputs": [
    {
     "name": "stdout",
     "output_type": "stream",
     "text": [
      "marital\n",
      "married     5747\n",
      "single      3026\n",
      "divorced    1076\n",
      "NaN           19\n",
      "Name: count, dtype: int64\n",
      "marital\n",
      "married     5766\n",
      "single      3026\n",
      "divorced    1076\n",
      "Name: count, dtype: int64\n"
     ]
    }
   ],
   "source": [
    "## sandbox\n",
    "data = ori_data.copy()\n",
    "\n",
    "## check before\n",
    "print(data.marital.value_counts(dropna=False))\n",
    "\n",
    "## input mode for NAs\n",
    "data.marital.fillna(data.marital.mode()[0], inplace=True)\n",
    "\n",
    "## check after\n",
    "print(data.marital.value_counts(dropna=False))"
   ]
  },
  {
   "cell_type": "markdown",
   "metadata": {},
   "source": [
    "#### Numerische Variablen"
   ]
  },
  {
   "cell_type": "markdown",
   "metadata": {},
   "source": [
    "* mean or median"
   ]
  },
  {
   "cell_type": "code",
   "execution_count": 23,
   "metadata": {},
   "outputs": [
    {
     "name": "stdout",
     "output_type": "stream",
     "text": [
      "123\n",
      "0\n"
     ]
    }
   ],
   "source": [
    "## sandbox\n",
    "data = ori_data.copy()\n",
    "\n",
    "## check before\n",
    "print(data.age.isna().sum())\n",
    "\n",
    "## input median for NAs\n",
    "data.age.fillna(data.age.median(), inplace=True)\n",
    "\n",
    "## check after\n",
    "print(data.age.isna().sum())"
   ]
  },
  {
   "cell_type": "markdown",
   "metadata": {},
   "source": [
    "##### Mehrere Variablen gleichzeitig [EXTRA]"
   ]
  },
  {
   "cell_type": "code",
   "execution_count": 25,
   "metadata": {},
   "outputs": [
    {
     "name": "stdout",
     "output_type": "stream",
     "text": [
      "nas found:\n",
      "age                123\n",
      "job                 73\n",
      "marital             19\n",
      "education          463\n",
      "duration            51\n",
      "poutcome          7814\n",
      "emp.var.rate       247\n",
      "cons.price.idx     247\n",
      "cons.conf.idx      247\n",
      "dtype: int64\n",
      "nas found:\n",
      "age               123\n",
      "duration           51\n",
      "emp.var.rate      247\n",
      "cons.price.idx    247\n",
      "cons.conf.idx     247\n",
      "dtype: int64\n",
      "no nas found\n"
     ]
    }
   ],
   "source": [
    "## first define a function for nas overview of a data frame\n",
    "def check_nas(data):\n",
    "    s = data.isna().sum()\n",
    "    if len(s[s > 0]) == 0:\n",
    "        print('no nas found')\n",
    "    else:\n",
    "        print('nas found:')\n",
    "        print(s[s > 0])\n",
    "\n",
    "## sandbox\n",
    "data = ori_data.copy()\n",
    "\n",
    "## check before\n",
    "check_nas(data)\n",
    "\n",
    "## create lists of names of of categorical and numerical variables\n",
    "cat_vars = data.select_dtypes(include='object').columns.tolist()\n",
    "num_vars = data.select_dtypes(exclude='object').columns.tolist()\n",
    "\n",
    "## import SimpleImputer class\n",
    "from sklearn.impute import SimpleImputer\n",
    "\n",
    "## imput for categorical variables\n",
    "imp_mode = SimpleImputer(missing_values=np.nan, strategy='most_frequent')\n",
    "data[cat_vars] = pd.DataFrame(imp_mode.fit_transform(data[cat_vars]), columns=data[cat_vars].columns)\n",
    "\n",
    "## check after 1\n",
    "check_nas(data)\n",
    "\n",
    "## imput for numerical variables\n",
    "imp_median = SimpleImputer(missing_values=np.nan, strategy='median')\n",
    "data[num_vars] = pd.DataFrame(imp_median.fit_transform(data[num_vars]), columns=data[num_vars].columns)\n",
    "\n",
    "## chedk after 2\n",
    "check_nas(data)"
   ]
  },
  {
   "cell_type": "markdown",
   "metadata": {
    "tags": []
   },
   "source": [
    "### Kategoriale Variablen"
   ]
  },
  {
   "cell_type": "markdown",
   "metadata": {},
   "source": [
    "#### Reduzieren der Kardinalität"
   ]
  },
  {
   "cell_type": "code",
   "execution_count": 28,
   "metadata": {
    "tags": []
   },
   "outputs": [
    {
     "name": "stdout",
     "output_type": "stream",
     "text": [
      "education\n",
      "university.degree      3136\n",
      "high.school            2230\n",
      "professional.course    1307\n",
      "basic.9y               1251\n",
      "basic.4y                972\n",
      "basic.6y                503\n",
      "illiterate                6\n",
      "Name: count, dtype: int64\n",
      "\n",
      "education\n",
      "university.degree      3136\n",
      "high.school            2230\n",
      "professional.course    1307\n",
      "basic.9y               1251\n",
      "basic.4y                978\n",
      "basic.6y                503\n",
      "Name: count, dtype: int64\n"
     ]
    }
   ],
   "source": [
    "## education: illiterate -> basic.4y\n",
    "\n",
    "## sandbox\n",
    "data = ori_data.copy()\n",
    "\n",
    "## check before\n",
    "print(data.education.value_counts())   \n",
    "\n",
    "## education: illiterate -> basic.4y\n",
    "data.education = np.where(\n",
    "    data.education == 'illiterate', ## condition\n",
    "         'basic.4y',                ## if true\n",
    "          data.education)           ## if false\n",
    "\n",
    "## check after\n",
    "print()\n",
    "print(data.education.value_counts())   "
   ]
  },
  {
   "cell_type": "raw",
   "metadata": {},
   "source": [
    "## combine more than one category\n",
    "\n",
    "## sandbox\n",
    "data = ori_data.copy()\n",
    "\n",
    "## check berore\n",
    "print(data.education.value_counts())\n",
    "\n",
    "data.education = np.where(\n",
    "    (data.education == 'illiterate') |\n",
    "    (data.education == 'basic.4y') |\n",
    "    (data.education == 'basic.6y') |\n",
    "    (data.education == 'basic.9y'),\n",
    "         'basic',                   \n",
    "          data.education)          \n",
    "\n",
    "## check after\n",
    "print(data.education.value_counts())"
   ]
  },
  {
   "cell_type": "markdown",
   "metadata": {
    "tags": []
   },
   "source": [
    "#### Numerisieren"
   ]
  },
  {
   "cell_type": "markdown",
   "metadata": {},
   "source": [
    "##### Faktorisieren"
   ]
  },
  {
   "cell_type": "code",
   "execution_count": 31,
   "metadata": {},
   "outputs": [
    {
     "name": "stdout",
     "output_type": "stream",
     "text": [
      "job\n",
      "admin.           2630\n",
      "blue collar      1852\n",
      "technician       1626\n",
      "services          856\n",
      "management        688\n",
      "retired           621\n",
      "student           354\n",
      "self-employed     336\n",
      "entrepreneur      294\n",
      "unemployed        271\n",
      "housemaid         267\n",
      "Name: count, dtype: int64\n",
      "job\n",
      " 3     2630\n",
      " 2     1852\n",
      " 1     1626\n",
      " 8      856\n",
      " 7      688\n",
      " 5      621\n",
      " 6      354\n",
      " 0      336\n",
      " 4      294\n",
      " 10     271\n",
      " 9      267\n",
      "-1       73\n",
      "Name: count, dtype: int64\n"
     ]
    }
   ],
   "source": [
    "## sandbox\n",
    "data = ori_data.copy()\n",
    "\n",
    "## check before\n",
    "print(data.job.value_counts())\n",
    "\n",
    "## factorize\n",
    "data.job = pd.factorize(data.job)[0]\n",
    "\n",
    "## check after\n",
    "print(data.job.value_counts())"
   ]
  },
  {
   "cell_type": "markdown",
   "metadata": {},
   "source": [
    "##### Ordinal Encodieren"
   ]
  },
  {
   "cell_type": "code",
   "execution_count": 33,
   "metadata": {
    "ExecuteTime": {
     "end_time": "2020-02-20T10:44:50.614136Z",
     "start_time": "2020-02-20T10:44:50.571253Z"
    }
   },
   "outputs": [
    {
     "name": "stdout",
     "output_type": "stream",
     "text": [
      "education\n",
      "university.degree      3136\n",
      "high.school            2230\n",
      "professional.course    1307\n",
      "basic.9y               1251\n",
      "basic.4y                972\n",
      "basic.6y                503\n",
      "illiterate                6\n",
      "Name: count, dtype: int64\n",
      "\n",
      "education\n",
      "6.0    3136\n",
      "5.0    2230\n",
      "4.0    1307\n",
      "3.0    1251\n",
      "1.0     972\n",
      "2.0     503\n",
      "0.0       6\n",
      "Name: count, dtype: int64\n"
     ]
    }
   ],
   "source": [
    "## sandbox\n",
    "data = ori_data.copy()\n",
    "\n",
    "## check before\n",
    "print(data.education.value_counts())\n",
    "\n",
    "## define encoding\n",
    "replace_nums = {   ## a dictionary of dictionaries\n",
    "    'education': {\n",
    "        'illiterate': 0,\n",
    "        'unknown': 0,\n",
    "        'basic.4y': 1,\n",
    "        'basic.6y': 2,\n",
    "        'basic.9y': 3,\n",
    "        'professional.course': 4,\n",
    "        'high.school': 5,\n",
    "        'university.degree': 6\n",
    "    }\n",
    "}\n",
    "data.replace(replace_nums, inplace=True)\n",
    "\n",
    "## check after\n",
    "print()\n",
    "print(data.education.value_counts())\n",
    "\n",
    "## variants:\n",
    "#print(data.education.value_counts().sort_index())"
   ]
  },
  {
   "cell_type": "raw",
   "metadata": {
    "ExecuteTime": {
     "end_time": "2020-02-20T10:44:50.645345Z",
     "start_time": "2020-02-20T10:44:50.623210Z"
    }
   },
   "source": [
    "## may be applied on multiple variables simultaneously\n",
    "replace_nums = {\n",
    "    'education': {\n",
    "        'basic.4y': 1,\n",
    "        'basic.6y': 2,\n",
    "        'basic.9y': 3,\n",
    "        'professional.course': 4,\n",
    "        'high.school': 5,\n",
    "        'university.degree': 6\n",
    "    },\n",
    "    'day_of_week': {\n",
    "        'mon': 1,\n",
    "        'tue': 2,\n",
    "        'wed': 3,\n",
    "        'thu': 4,\n",
    "        'fri': 5\n",
    "    }\n",
    "}"
   ]
  },
  {
   "cell_type": "code",
   "execution_count": 34,
   "metadata": {},
   "outputs": [
    {
     "name": "stdout",
     "output_type": "stream",
     "text": [
      "0     cellular\n",
      "1     cellular\n",
      "2     cellular\n",
      "3    telephone\n",
      "4     cellular\n",
      "Name: contact, dtype: object\n",
      "0    1\n",
      "1    1\n",
      "2    1\n",
      "3    0\n",
      "4    1\n",
      "Name: contact_cellular, dtype: int32\n"
     ]
    }
   ],
   "source": [
    "## binary encode\n",
    "\n",
    "## sandbox\n",
    "data = ori_data.copy()\n",
    "\n",
    "## check before\n",
    "print(data.contact.head())\n",
    "\n",
    "## binary encode\n",
    "data['contact'] = np.where(data.contact == 'cellular', 1, 0)\n",
    "data.rename(columns = {'contact' : 'contact_cellular'}, inplace=True) ## optional\n",
    "\n",
    "## check after\n",
    "print(data.contact_cellular.head())"
   ]
  },
  {
   "cell_type": "markdown",
   "metadata": {},
   "source": [
    "##### Nominal Encodieren"
   ]
  },
  {
   "cell_type": "code",
   "execution_count": 36,
   "metadata": {},
   "outputs": [
    {
     "name": "stdout",
     "output_type": "stream",
     "text": [
      "9056      single\n",
      "9483    divorced\n",
      "788       single\n",
      "9554    divorced\n",
      "809     divorced\n",
      "4822     married\n",
      "Name: marital, dtype: object\n"
     ]
    }
   ],
   "source": [
    "## sandbox\n",
    "data = ori_data.sample(6, random_state=1234)\n",
    "\n",
    "## check before\n",
    "print(data.marital)"
   ]
  },
  {
   "cell_type": "code",
   "execution_count": 37,
   "metadata": {},
   "outputs": [
    {
     "name": "stdout",
     "output_type": "stream",
     "text": [
      "       marital  divorced  married  single\n",
      "9056    single     False    False    True\n",
      "9483  divorced      True    False   False\n",
      "788     single     False    False    True\n",
      "9554  divorced      True    False   False\n",
      "809   divorced      True    False   False\n",
      "4822   married     False     True   False\n"
     ]
    }
   ],
   "source": [
    "## default params\n",
    "new_data = pd.get_dummies(data.marital)\n",
    "print(pd.merge(data.marital, new_data, left_index=True, right_index=True))"
   ]
  },
  {
   "cell_type": "code",
   "execution_count": 38,
   "metadata": {},
   "outputs": [
    {
     "name": "stdout",
     "output_type": "stream",
     "text": [
      "       marital  married  single\n",
      "9056    single    False    True\n",
      "9483  divorced    False   False\n",
      "788     single    False    True\n",
      "9554  divorced    False   False\n",
      "809   divorced    False   False\n",
      "4822   married     True   False\n"
     ]
    }
   ],
   "source": [
    "## param drop_first\n",
    "new_data = pd.get_dummies(data.marital, drop_first=True)\n",
    "print(pd.merge(data.marital, new_data, left_index=True, right_index=True))"
   ]
  },
  {
   "cell_type": "code",
   "execution_count": 39,
   "metadata": {},
   "outputs": [
    {
     "name": "stdout",
     "output_type": "stream",
     "text": [
      "       marital  marital_divorced  marital_married  marital_single\n",
      "9056    single             False            False            True\n",
      "9483  divorced              True            False           False\n",
      "788     single             False            False            True\n",
      "9554  divorced              True            False           False\n",
      "809   divorced              True            False           False\n",
      "4822   married             False             True           False\n"
     ]
    }
   ],
   "source": [
    "## param prefix\n",
    "new_data = pd.get_dummies(data.marital, prefix='marital')\n",
    "print(pd.merge(data.marital, new_data, left_index=True, right_index=True))"
   ]
  },
  {
   "cell_type": "code",
   "execution_count": 40,
   "metadata": {
    "ExecuteTime": {
     "end_time": "2020-02-20T10:44:50.719576Z",
     "start_time": "2020-02-20T10:44:50.708566Z"
    }
   },
   "outputs": [
    {
     "name": "stdout",
     "output_type": "stream",
     "text": [
      "Index(['age', 'education', 'default', 'housing', 'contact', 'month',\n",
      "       'day_of_week', 'duration', 'campaign', 'pdays', 'previous', 'poutcome',\n",
      "       'emp.var.rate', 'cons.price.idx', 'cons.conf.idx', 'euribor3m',\n",
      "       'nr.employed', 'y', 'job_blue collar', 'job_entrepreneur',\n",
      "       'job_housemaid', 'job_management', 'job_retired', 'job_self-employed',\n",
      "       'job_services', 'job_student', 'job_technician', 'job_unemployed',\n",
      "       'marital_married', 'marital_single', 'loan_unknown', 'loan_yes'],\n",
      "      dtype='object')\n"
     ]
    }
   ],
   "source": [
    "## may be applied on more variables simultaneously\n",
    "data = ori_data.copy()\n",
    "data = pd.get_dummies(\n",
    "    data,\n",
    "    columns=['job', 'marital', 'loan'],\n",
    "    drop_first=True)\n",
    "print(data.columns)"
   ]
  },
  {
   "cell_type": "code",
   "execution_count": 41,
   "metadata": {},
   "outputs": [
    {
     "name": "stdout",
     "output_type": "stream",
     "text": [
      "<class 'pandas.core.frame.DataFrame'>\n",
      "RangeIndex: 9868 entries, 0 to 9867\n",
      "Data columns (total 21 columns):\n",
      " #   Column          Non-Null Count  Dtype  \n",
      "---  ------          --------------  -----  \n",
      " 0   age             9745 non-null   float64\n",
      " 1   job             9795 non-null   object \n",
      " 2   marital         9849 non-null   object \n",
      " 3   education       9405 non-null   object \n",
      " 4   default         9868 non-null   object \n",
      " 5   housing         9868 non-null   object \n",
      " 6   loan            9868 non-null   object \n",
      " 7   contact         9868 non-null   object \n",
      " 8   month           9868 non-null   object \n",
      " 9   day_of_week     9868 non-null   object \n",
      " 10  duration        9817 non-null   float64\n",
      " 11  campaign        9868 non-null   int64  \n",
      " 12  pdays           9868 non-null   int64  \n",
      " 13  previous        9868 non-null   int64  \n",
      " 14  poutcome        2054 non-null   object \n",
      " 15  emp.var.rate    9621 non-null   float64\n",
      " 16  cons.price.idx  9621 non-null   float64\n",
      " 17  cons.conf.idx   9621 non-null   float64\n",
      " 18  euribor3m       9868 non-null   float64\n",
      " 19  nr.employed     9868 non-null   float64\n",
      " 20  y               9868 non-null   object \n",
      "dtypes: float64(7), int64(3), object(11)\n",
      "memory usage: 1.6+ MB\n",
      "None\n",
      "<class 'pandas.core.frame.DataFrame'>\n",
      "RangeIndex: 9868 entries, 0 to 9867\n",
      "Data columns (total 49 columns):\n",
      " #   Column                         Non-Null Count  Dtype  \n",
      "---  ------                         --------------  -----  \n",
      " 0   age                            9745 non-null   float64\n",
      " 1   duration                       9817 non-null   float64\n",
      " 2   campaign                       9868 non-null   int64  \n",
      " 3   pdays                          9868 non-null   int64  \n",
      " 4   previous                       9868 non-null   int64  \n",
      " 5   emp.var.rate                   9621 non-null   float64\n",
      " 6   cons.price.idx                 9621 non-null   float64\n",
      " 7   cons.conf.idx                  9621 non-null   float64\n",
      " 8   euribor3m                      9868 non-null   float64\n",
      " 9   nr.employed                    9868 non-null   float64\n",
      " 10  y                              9868 non-null   object \n",
      " 11  job_blue collar                9868 non-null   bool   \n",
      " 12  job_entrepreneur               9868 non-null   bool   \n",
      " 13  job_housemaid                  9868 non-null   bool   \n",
      " 14  job_management                 9868 non-null   bool   \n",
      " 15  job_retired                    9868 non-null   bool   \n",
      " 16  job_self-employed              9868 non-null   bool   \n",
      " 17  job_services                   9868 non-null   bool   \n",
      " 18  job_student                    9868 non-null   bool   \n",
      " 19  job_technician                 9868 non-null   bool   \n",
      " 20  job_unemployed                 9868 non-null   bool   \n",
      " 21  marital_married                9868 non-null   bool   \n",
      " 22  marital_single                 9868 non-null   bool   \n",
      " 23  education_basic.6y             9868 non-null   bool   \n",
      " 24  education_basic.9y             9868 non-null   bool   \n",
      " 25  education_high.school          9868 non-null   bool   \n",
      " 26  education_illiterate           9868 non-null   bool   \n",
      " 27  education_professional.course  9868 non-null   bool   \n",
      " 28  education_university.degree    9868 non-null   bool   \n",
      " 29  default_unknown                9868 non-null   bool   \n",
      " 30  housing_unknown                9868 non-null   bool   \n",
      " 31  housing_yes                    9868 non-null   bool   \n",
      " 32  loan_unknown                   9868 non-null   bool   \n",
      " 33  loan_yes                       9868 non-null   bool   \n",
      " 34  contact_telephone              9868 non-null   bool   \n",
      " 35  month_aug                      9868 non-null   bool   \n",
      " 36  month_dec                      9868 non-null   bool   \n",
      " 37  month_jul                      9868 non-null   bool   \n",
      " 38  month_jun                      9868 non-null   bool   \n",
      " 39  month_mar                      9868 non-null   bool   \n",
      " 40  month_may                      9868 non-null   bool   \n",
      " 41  month_nov                      9868 non-null   bool   \n",
      " 42  month_oct                      9868 non-null   bool   \n",
      " 43  month_sep                      9868 non-null   bool   \n",
      " 44  day_of_week_mon                9868 non-null   bool   \n",
      " 45  day_of_week_thu                9868 non-null   bool   \n",
      " 46  day_of_week_tue                9868 non-null   bool   \n",
      " 47  day_of_week_wed                9868 non-null   bool   \n",
      " 48  poutcome_success               9868 non-null   bool   \n",
      "dtypes: bool(38), float64(7), int64(3), object(1)\n",
      "memory usage: 1.2+ MB\n",
      "None\n"
     ]
    }
   ],
   "source": [
    "## apply for all categorical variables except target\n",
    "\n",
    "## sandbox\n",
    "data = ori_data.copy()\n",
    "\n",
    "## check before\n",
    "print(data.info())\n",
    "\n",
    "## prep var list\n",
    "target = 'y'\n",
    "sel_vars = data.select_dtypes(include=['object']).columns.drop(target)\n",
    "data = pd.get_dummies(data, columns=sel_vars, drop_first=True)\n",
    "\n",
    "## check after\n",
    "print(data.info())"
   ]
  },
  {
   "cell_type": "markdown",
   "metadata": {
    "tags": []
   },
   "source": [
    "### Numerische Variablen"
   ]
  },
  {
   "cell_type": "markdown",
   "metadata": {},
   "source": [
    "#### Logarithmieren"
   ]
  },
  {
   "cell_type": "raw",
   "metadata": {
    "ExecuteTime": {
     "end_time": "2020-02-20T10:44:51.824612Z",
     "start_time": "2020-02-20T10:44:50.771701Z"
    }
   },
   "source": [
    "f, axes = plt.subplots(nrows=2, ncols=1, figsize=(6, 7), sharex=False)\n",
    "ax = sns.histplot(data['duration'], ax=axes[0])\n",
    "ax = sns.histplot(np.log10(data['duration'].dropna() + 1), ax=axes[1])\n",
    "ax.set(xlabel='log10(duration)');"
   ]
  },
  {
   "cell_type": "code",
   "execution_count": 44,
   "metadata": {},
   "outputs": [
    {
     "name": "stdout",
     "output_type": "stream",
     "text": [
      "mean    378.159927\n",
      "50%     258.000000\n",
      "Name: duration, dtype: float64\n",
      "mean    2.405733\n",
      "50%     2.413300\n",
      "Name: duration, dtype: float64\n"
     ]
    }
   ],
   "source": [
    "## sandbox\n",
    "data = ori_data.copy()\n",
    "\n",
    "## check before\n",
    "print(data.duration.describe()[['mean', '50%']])\n",
    "\n",
    "## logarithme\n",
    "data.duration = np.log10(data.duration - data.duration.min() + 1)\n",
    "\n",
    "## check after\n",
    "print(data.duration.describe()[['mean', '50%']])\n",
    "\n",
    "## optionally rename\n",
    "data.rename(columns = {'duration': 'log_duration'}, inplace=True)\n",
    "#data.columns"
   ]
  },
  {
   "cell_type": "raw",
   "metadata": {
    "ExecuteTime": {
     "end_time": "2020-02-20T10:44:51.856270Z",
     "start_time": "2020-02-20T10:44:51.830846Z"
    }
   },
   "source": [
    "## die in numpy verfügbaren log funktionen\n",
    "print(np.log(10))\n",
    "print(np.log2(10))\n",
    "print(np.log10(10))\n",
    "print(np.log1p(10))"
   ]
  },
  {
   "cell_type": "raw",
   "metadata": {},
   "source": [
    "## if min(x) < 0: modify as follows\n",
    "\n",
    "## sandbox\n",
    "data = ori_data.copy()\n",
    "data.duration = data.duration - 100\n",
    "\n",
    "## check before\n",
    "print(data.duration.describe()[['mean', '50%']])\n",
    "\n",
    "## logarithme\n",
    "data.duration = np.log10(data.duration - data.duration.min() + 1)\n",
    "\n",
    "## check after\n",
    "print(data.duration.describe()[['mean', '50%']])"
   ]
  },
  {
   "cell_type": "raw",
   "metadata": {},
   "source": [
    "## EXTRA: compare .skew() before and after log transformation\n",
    "num_vars = data.select_dtypes(exclude=['object']).columns\n",
    "skew1 = []\n",
    "skew2 = []\n",
    "skew_prop = []\n",
    "for c in num_vars:\n",
    "    skew1.append(abs(data[c].skew()))\n",
    "    skew2.append(abs(np.log10(data[c] - min(data[c]) + 1).skew()))\n",
    "    skew_prop.append(\n",
    "        abs(data[c].skew()) / \n",
    "        abs(np.log10(data[c] - min(data[c]) + 1).skew()))\n",
    "\n",
    "res = pd.DataFrame({\n",
    "    'var': num_vars,\n",
    "    'skew1': skew1,\n",
    "    'skew2': skew2,\n",
    "    'skew_prop' : skew_prop\n",
    "}).sort_values(by='skew_prop')\n",
    "print(res)\n",
    "\n",
    "res.plot.barh(x='var', y='skew_prop')\n",
    "plt.axvline(x=1, color='black', linestyle='--') ;"
   ]
  },
  {
   "cell_type": "markdown",
   "metadata": {},
   "source": [
    "#### Skalieren (als Ausblick)"
   ]
  },
  {
   "cell_type": "markdown",
   "metadata": {},
   "source": [
    "##### Normalisieren"
   ]
  },
  {
   "cell_type": "code",
   "execution_count": 47,
   "metadata": {},
   "outputs": [
    {
     "name": "stdout",
     "output_type": "stream",
     "text": [
      "min     17.0\n",
      "max    116.0\n",
      "Name: age, dtype: float64\n",
      "min    0.0\n",
      "max    1.0\n",
      "Name: age, dtype: float64\n"
     ]
    }
   ],
   "source": [
    "## sandbox\n",
    "data = ori_data.copy()\n",
    "\n",
    "## check before\n",
    "print(data.age.describe()[['min', 'max']])\n",
    "\n",
    "## normalize\n",
    "data.age = (data.age - data.age.min()) / \\\n",
    "    (data.age.max() - data.age.min())\n",
    "    \n",
    "## check after\n",
    "print(data.age.describe()[['min', 'max']])"
   ]
  },
  {
   "cell_type": "markdown",
   "metadata": {},
   "source": [
    "##### Standardisieren"
   ]
  },
  {
   "cell_type": "code",
   "execution_count": 49,
   "metadata": {},
   "outputs": [
    {
     "name": "stdout",
     "output_type": "stream",
     "text": [
      "mean    40.423191\n",
      "std     11.915715\n",
      "Name: age, dtype: float64\n",
      "mean    1.795497e-17\n",
      "std     1.000000e+00\n",
      "Name: age, dtype: float64\n"
     ]
    }
   ],
   "source": [
    "## sandbox\n",
    "data = ori_data.copy()\n",
    "\n",
    "## check before\n",
    "print(data.age.describe()[['mean', 'std']])\n",
    "\n",
    "## standardize\n",
    "data.age = (data.age - data.age.mean()) / \\\n",
    "    data.age.std()\n",
    "\n",
    "## check after\n",
    "print(data.age.describe()[['mean', 'std']])\n"
   ]
  },
  {
   "cell_type": "code",
   "execution_count": 50,
   "metadata": {},
   "outputs": [
    {
     "name": "stderr",
     "output_type": "stream",
     "text": [
      "C:\\Users\\werne\\anaconda3\\Lib\\site-packages\\seaborn\\_oldcore.py:1119: FutureWarning: use_inf_as_na option is deprecated and will be removed in a future version. Convert inf values to NaN before operating instead.\n",
      "  with pd.option_context('mode.use_inf_as_na', True):\n",
      "C:\\Users\\werne\\anaconda3\\Lib\\site-packages\\seaborn\\_oldcore.py:1119: FutureWarning: use_inf_as_na option is deprecated and will be removed in a future version. Convert inf values to NaN before operating instead.\n",
      "  with pd.option_context('mode.use_inf_as_na', True):\n",
      "C:\\Users\\werne\\anaconda3\\Lib\\site-packages\\seaborn\\_oldcore.py:1119: FutureWarning: use_inf_as_na option is deprecated and will be removed in a future version. Convert inf values to NaN before operating instead.\n",
      "  with pd.option_context('mode.use_inf_as_na', True):\n"
     ]
    },
    {
     "data": {
      "image/png": "[encoded data removed]",
      "text/plain": [
       "<Figure size 800x1000 with 3 Axes>"
      ]
     },
     "metadata": {},
     "output_type": "display_data"
    }
   ],
   "source": [
    "## visual comparison\n",
    "age_norm = (\n",
    "    data.age - data.age.min()) / (\n",
    "    data.age.max() - data.age.min())\n",
    "age_std = (data.age - data.age.mean()) / data.age.std()\n",
    "\n",
    "f, axes = plt.subplots(nrows=3, ncols=1, figsize=(8, 10), sharex=False)\n",
    "ax = sns.histplot(data.age.dropna(), bins=40, ax=axes[0])\n",
    "ax = sns.histplot(age_norm.dropna(), bins=40, ax=axes[1])\n",
    "ax.set(xlabel='age_norm')\n",
    "ax = sns.histplot(age_std.dropna(), bins=40, ax=axes[2])\n",
    "ax.set(xlabel='age_std');"
   ]
  },
  {
   "cell_type": "markdown",
   "metadata": {},
   "source": [
    "##### Skalieren mit sklearn.preprocessing"
   ]
  },
  {
   "cell_type": "code",
   "execution_count": 52,
   "metadata": {
    "ExecuteTime": {
     "end_time": "2020-02-20T10:44:56.016942Z",
     "start_time": "2020-02-20T10:44:55.054421Z"
    },
    "scrolled": true
   },
   "outputs": [
    {
     "name": "stdout",
     "output_type": "stream",
     "text": [
      "       age  duration  campaign  pdays  previous  emp.var.rate  cons.price.idx  \\\n",
      "min   17.0       0.0       1.0    0.0       0.0          -3.4          92.201   \n",
      "max  116.0    4199.0      43.0  999.0       6.0           1.4          94.767   \n",
      "\n",
      "     cons.conf.idx  euribor3m  nr.employed  \n",
      "min          -50.8      0.634       4963.6  \n",
      "max          -26.9      5.045       5228.1  \n",
      "     age  duration  campaign  pdays  previous  emp.var.rate  cons.price.idx  \\\n",
      "min  0.0       0.0       0.0    0.0       0.0           0.0             0.0   \n",
      "max  1.0       1.0       1.0    1.0       1.0           1.0             1.0   \n",
      "\n",
      "     cons.conf.idx  euribor3m  nr.employed  \n",
      "min            0.0        0.0          0.0  \n",
      "max            1.0        1.0          1.0  \n"
     ]
    }
   ],
   "source": [
    "## using sklearn.preprocessing.MinMaxScaler\n",
    "\n",
    "## sandbox: numerical variables only\n",
    "data = ori_data.select_dtypes(exclude=['object'])\n",
    "\n",
    "## check before\n",
    "print(data.describe().loc[['min', 'max']])\n",
    "\n",
    "## import scaler class\n",
    "from sklearn.preprocessing import MinMaxScaler\n",
    "\n",
    "## define scaler\n",
    "scaler = MinMaxScaler().set_output(transform='pandas')\n",
    "\n",
    "## apply scaler on data frame\n",
    "data = scaler.fit_transform(data)\n",
    "\n",
    "## check after\n",
    "print(data.describe().loc[['min', 'max']])"
   ]
  },
  {
   "cell_type": "code",
   "execution_count": 53,
   "metadata": {
    "ExecuteTime": {
     "end_time": "2020-02-20T10:44:56.119153Z",
     "start_time": "2020-02-20T10:44:56.036845Z"
    }
   },
   "outputs": [
    {
     "name": "stdout",
     "output_type": "stream",
     "text": [
      "            age    duration  campaign       pdays  previous  emp.var.rate  \\\n",
      "mean  40.423191  378.159927  2.387617  895.442136  0.296109     -0.440495   \n",
      "std   11.915715  356.220783  2.512851  303.530529  0.678229      1.717659   \n",
      "\n",
      "      cons.price.idx  cons.conf.idx  euribor3m  nr.employed  \n",
      "mean       93.488617     -40.227804   3.028964  5138.570075  \n",
      "std         0.629874       5.298546   1.886748    86.254277  \n",
      "\n",
      "               age      duration      campaign         pdays      previous  \\\n",
      "mean  1.358015e-17 -7.310259e-17  3.492230e-17 -5.040332e-18 -4.536298e-17   \n",
      "std   1.000051e+00  1.000051e+00  1.000051e+00  1.000051e+00  1.000051e+00   \n",
      "\n",
      "      emp.var.rate  cons.price.idx  cons.conf.idx     euribor3m   nr.employed  \n",
      "mean -5.538999e-18   -1.219207e-14   1.337484e-15  5.508362e-17  4.723511e-15  \n",
      "std   1.000052e+00    1.000052e+00   1.000052e+00  1.000051e+00  1.000051e+00  \n"
     ]
    }
   ],
   "source": [
    "## with sklearn.preprocessing.StandardScaler\n",
    "\n",
    "## sandbox: numerical variables only\n",
    "data = ori_data.select_dtypes(exclude=['object'])\n",
    "\n",
    "## check before\n",
    "print(data.describe().loc[['mean', 'std']])\n",
    "\n",
    "## import scaler\n",
    "from sklearn.preprocessing import StandardScaler\n",
    "\n",
    "## define scaler\n",
    "scaler = StandardScaler().set_output(transform=\"pandas\")\n",
    "\n",
    "## apply scaler\n",
    "data = scaler.fit_transform(data)\n",
    "\n",
    "## check after\n",
    "print()\n",
    "print(data.describe().loc[['mean', 'std']])"
   ]
  },
  {
   "cell_type": "raw",
   "metadata": {
    "ExecuteTime": {
     "end_time": "2020-02-20T10:44:56.135131Z",
     "start_time": "2020-02-20T10:44:56.124225Z"
    }
   },
   "source": [
    "## scaler can be stored for later use on new data (see 5.3.1)\n",
    "import pickle \n",
    "## save scaler\n",
    "with open('scaler.pkl', 'wb') as pickle_file:\n",
    "    pickle.dump(scaler, pickle_file)\n",
    "## read saved scaler\n",
    "with open('scaler.pkl', 'rb') as pickle_file:\n",
    "    scaler = pickle.load(pickle_file)"
   ]
  },
  {
   "cell_type": "markdown",
   "metadata": {},
   "source": [
    "#### Binning"
   ]
  },
  {
   "cell_type": "markdown",
   "metadata": {},
   "source": [
    "##### Equlal Binning"
   ]
  },
  {
   "cell_type": "code",
   "execution_count": 56,
   "metadata": {},
   "outputs": [
    {
     "data": {
      "image/png": "[encoded data removed]",
      "text/plain": [
       "<Figure size 1000x400 with 2 Axes>"
      ]
     },
     "metadata": {},
     "output_type": "display_data"
    }
   ],
   "source": [
    "## sandbox\n",
    "data = ori_data.copy()\n",
    "\n",
    "## transform\n",
    "bins = 10\n",
    "data.age = (pd.cut(\n",
    "    data.age, \n",
    "    bins = bins,\n",
    "    labels = list(range(1, bins + 1))))\n",
    "\n",
    "## check (compare before and after)\n",
    "fig, axes = plt.subplots(nrows=1, ncols=2, figsize=(10, 4))\n",
    "ori_data.age.plot.hist(ax=axes[0])\n",
    "data.age.value_counts().plot.bar(ax=axes[1]);"
   ]
  },
  {
   "cell_type": "markdown",
   "metadata": {},
   "source": [
    "##### Custom Binning (EXTRA)"
   ]
  },
  {
   "cell_type": "code",
   "execution_count": 58,
   "metadata": {},
   "outputs": [
    {
     "data": {
      "image/png": "[encoded data removed]",
      "text/plain": [
       "<Figure size 640x480 with 1 Axes>"
      ]
     },
     "metadata": {},
     "output_type": "display_data"
    }
   ],
   "source": [
    "## sandbox\n",
    "data = ori_data.copy()\n",
    "\n",
    "## check before\n",
    "data.campaign.plot.hist();"
   ]
  },
  {
   "cell_type": "code",
   "execution_count": 59,
   "metadata": {},
   "outputs": [
    {
     "data": {
      "image/png": "[encoded data removed]",
      "text/plain": [
       "<Figure size 640x480 with 1 Axes>"
      ]
     },
     "metadata": {},
     "output_type": "display_data"
    }
   ],
   "source": [
    "## transform\n",
    "data.campaign = np.where(data.campaign <= 5, data.campaign, 6)\n",
    "\n",
    "## check after\n",
    "data.campaign.value_counts().plot.bar();"
   ]
  },
  {
   "cell_type": "code",
   "execution_count": 60,
   "metadata": {},
   "outputs": [
    {
     "data": {
      "image/png": "[encoded data removed]",
      "text/plain": [
       "<Figure size 640x480 with 1 Axes>"
      ]
     },
     "metadata": {},
     "output_type": "display_data"
    }
   ],
   "source": [
    "## with different ranges (pandas.cut())\n",
    "\n",
    "## sandbox\n",
    "data = ori_data.copy()\n",
    "\n",
    "## transform\n",
    "data.campaign = pd.cut(\n",
    "    data.campaign, \n",
    "    bins = [0, 1, 2, 3, 4, 5, 10, 1000], \n",
    "    labels = [1, 2, 3, 4, 5, '6-10', '>10'])\n",
    "\n",
    "## check after\n",
    "data.campaign.value_counts(sort=False).plot.bar();"
   ]
  },
  {
   "cell_type": "markdown",
   "metadata": {},
   "source": [
    "### Bereinigen von Variablennamen"
   ]
  },
  {
   "cell_type": "code",
   "execution_count": 62,
   "metadata": {},
   "outputs": [
    {
     "name": "stdout",
     "output_type": "stream",
     "text": [
      "['job_admin.', 'job_blue collar', 'job_entrepreneur', 'job_housemaid', 'job_management', 'job_retired', 'job_self-employed', 'job_services', 'job_student', 'job_technician', 'job_unemployed']\n"
     ]
    }
   ],
   "source": [
    "## sandbox: create dummy variables\n",
    "data = pd.get_dummies(ori_data)\n",
    "\n",
    "## check variablen names beginning with \"job_\"\n",
    "print(data.columns[data.columns.str.contains('job_')].tolist())"
   ]
  },
  {
   "cell_type": "code",
   "execution_count": 63,
   "metadata": {},
   "outputs": [
    {
     "name": "stdout",
     "output_type": "stream",
     "text": [
      "['emp.var.rate', 'cons.price.idx', 'cons.conf.idx', 'nr.employed', 'job_admin.', 'job_blue collar', 'job_self-employed', 'education_basic.4y', 'education_basic.6y', 'education_basic.9y', 'education_high.school', 'education_professional.course', 'education_university.degree']\n"
     ]
    }
   ],
   "source": [
    "## create a list with dubious names, using regex\n",
    "old_names = data.columns\n",
    "old_names = old_names[old_names.str.contains('[^a-zA-Z0-9_]')]\n",
    "print(old_names.tolist()) ## check"
   ]
  },
  {
   "cell_type": "code",
   "execution_count": 64,
   "metadata": {},
   "outputs": [
    {
     "name": "stdout",
     "output_type": "stream",
     "text": [
      "['emp_var_rate', 'cons_price_idx', 'cons_conf_idx', 'nr_employed', 'job_admin_', 'job_blue_collar', 'job_self_employed', 'education_basic_4y', 'education_basic_6y', 'education_basic_9y', 'education_high_school', 'education_professional_course', 'education_university_degree']\n"
     ]
    }
   ],
   "source": [
    "## create new names, using regex\n",
    "new_names = old_names.str.replace('[^a-zA-Z0-9_]', '_', regex=True)\n",
    "print(new_names.tolist()) ## check"
   ]
  },
  {
   "cell_type": "code",
   "execution_count": 65,
   "metadata": {},
   "outputs": [
    {
     "name": "stdout",
     "output_type": "stream",
     "text": [
      "['job_admin_', 'job_blue_collar', 'job_entrepreneur', 'job_housemaid', 'job_management', 'job_retired', 'job_self_employed', 'job_services', 'job_student', 'job_technician', 'job_unemployed']\n"
     ]
    }
   ],
   "source": [
    "## rename variables using the lists created above\n",
    "for i in range(len(old_names)):\n",
    "    data.rename(columns={old_names[i]:new_names[i]}, inplace=True)\n",
    "\n",
    "## check variablen names beginning with \"job_\"\n",
    "print(data.columns[\n",
    "    data.columns.str.contains('job_')\n",
    "].tolist())"
   ]
  },
  {
   "cell_type": "raw",
   "metadata": {},
   "source": [
    "## shorter version:\n",
    "data.rename(columns=dict(zip(old_names, new_names)), inplace=True)"
   ]
  },
  {
   "cell_type": "markdown",
   "metadata": {},
   "source": [
    "### Ändern von Datentypen"
   ]
  },
  {
   "cell_type": "code",
   "execution_count": 67,
   "metadata": {
    "scrolled": true,
    "tags": []
   },
   "outputs": [
    {
     "name": "stdout",
     "output_type": "stream",
     "text": [
      "float64\n",
      "int32\n"
     ]
    }
   ],
   "source": [
    "## change data type of age from float to int\n",
    "\n",
    "## sandbox\n",
    "##   cast on NAs causes now runtime error\n",
    "#data = ori_data.copy()\n",
    "data = ori_data.copy().dropna()\n",
    "\n",
    "## check before\n",
    "print(np.dtype(data.age))\n",
    "\n",
    "## change type\n",
    "data['age'] = np.int32(data['age'])\n",
    "\n",
    "## check after\n",
    "print(np.dtype(data.age))"
   ]
  }
 ],
 "metadata": {
  "kernelspec": {
   "display_name": "Python 3 (ipykernel)",
   "language": "python",
   "name": "python3"
  },
  "language_info": {
   "codemirror_mode": {
    "name": "ipython",
    "version": 3
   },
   "file_extension": ".py",
   "mimetype": "text/x-python",
   "name": "python",
   "nbconvert_exporter": "python",
   "pygments_lexer": "ipython3",
   "version": "3.11.7"
  },
  "toc": {
   "base_numbering": "1.3",
   "nav_menu": {},
   "number_sections": true,
   "sideBar": true,
   "skip_h1_title": false,
   "title_cell": "1.3 Feature Engineering - Transformation",
   "title_sidebar": "Contents",
   "toc_cell": true,
   "toc_position": {
    "height": "calc(100% - 180px)",
    "left": "10px",
    "top": "150px",
    "width": "218.6px"
   },
   "toc_section_display": true,
   "toc_window_display": true
  },
  "toc-autonumbering": true,
  "varInspector": {
   "cols": {
    "lenName": 16,
    "lenType": 16,
    "lenVar": 40
   },
   "kernels_config": {
    "python": {
     "delete_cmd_postfix": "",
     "delete_cmd_prefix": "del ",
     "library": "var_list.py",
     "varRefreshCmd": "print(var_dic_list())"
    },
    "r": {
     "delete_cmd_postfix": ") ",
     "delete_cmd_prefix": "rm(",
     "library": "var_list.r",
     "varRefreshCmd": "cat(var_dic_list()) "
    }
   },
   "oldHeight": 217.64999999999998,
   "position": {
    "height": "238.85px",
    "left": "802.2px",
    "right": "20px",
    "top": "116px",
    "width": "326.8px"
   },
   "types_to_exclude": [
    "module",
    "function",
    "builtin_function_or_method",
    "instance",
    "_Feature"
   ],
   "varInspector_section_display": "block",
   "window_display": false
  }
 },
 "nbformat": 4,
 "nbformat_minor": 4
}

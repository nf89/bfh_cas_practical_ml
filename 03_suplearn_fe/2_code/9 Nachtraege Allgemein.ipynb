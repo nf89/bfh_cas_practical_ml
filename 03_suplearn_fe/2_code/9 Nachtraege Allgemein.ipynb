{
 "cells": [
  {
   "cell_type": "markdown",
   "id": "e0323bfc",
   "metadata": {},
   "source": [
    "# Nachträge"
   ]
  },
  {
   "cell_type": "markdown",
   "id": "41f6b0e4",
   "metadata": {},
   "source": [
    "* dieses Dokument kann von Kurstag zu Kurstag ergänzt werden, daher sollte es jeweils ebenfalls jeweils neu heruntergeladen werden"
   ]
  },
  {
   "cell_type": "markdown",
   "id": "0fce9c83",
   "metadata": {},
   "source": [
    "## Extra Themen"
   ]
  },
  {
   "cell_type": "markdown",
   "id": "7673663f",
   "metadata": {},
   "source": [
    "* eine Zusammenstellung von Themen aus der Präsentation, welche **nicht** prüfungsrelevant sind, zusätzlich zu den explizit mit (i) gekennzeichneten Folien\n",
    "* die Zusammenstellung wird fortlaufend ergänzt n.n."
   ]
  },
  {
   "cell_type": "markdown",
   "id": "65be8be0",
   "metadata": {},
   "source": [
    "|Kapitel                                                      |Folie(n)\n",
    "|:------------------------------------------------------------|:-------\n",
    "|**1. Feature Engineering**                                   |\n",
    "|1.1.4.5 Begriffe - Homonyme und Synonyme                     |20-21\n",
    "|1.2.3.1 Numerische Variablen - Quantitativ (Nachbemerkung)   |24\n",
    "|1.2.4.5 Lineare Zusammenhänge, etc.                          |49-55"
   ]
  }
 ],
 "metadata": {
  "kernelspec": {
   "display_name": "Python 3 (ipykernel)",
   "language": "python",
   "name": "python3"
  },
  "language_info": {
   "codemirror_mode": {
    "name": "ipython",
    "version": 3
   },
   "file_extension": ".py",
   "mimetype": "text/x-python",
   "name": "python",
   "nbconvert_exporter": "python",
   "pygments_lexer": "ipython3",
   "version": "3.11.7"
  },
  "toc": {
   "base_numbering": "9",
   "nav_menu": {},
   "number_sections": true,
   "sideBar": true,
   "skip_h1_title": false,
   "title_cell": "9 Nachträge Allgemein",
   "title_sidebar": "Contents",
   "toc_cell": true,
   "toc_position": {
    "height": "calc(100% - 180px)",
    "left": "10px",
    "top": "150px",
    "width": "240.667px"
   },
   "toc_section_display": true,
   "toc_window_display": true
  },
  "varInspector": {
   "cols": {
    "lenName": 16,
    "lenType": 16,
    "lenVar": 40
   },
   "kernels_config": {
    "python": {
     "delete_cmd_postfix": "",
     "delete_cmd_prefix": "del ",
     "library": "var_list.py",
     "varRefreshCmd": "print(var_dic_list())"
    },
    "r": {
     "delete_cmd_postfix": ") ",
     "delete_cmd_prefix": "rm(",
     "library": "var_list.r",
     "varRefreshCmd": "cat(var_dic_list()) "
    }
   },
   "types_to_exclude": [
    "module",
    "function",
    "builtin_function_or_method",
    "instance",
    "_Feature"
   ],
   "window_display": false
  }
 },
 "nbformat": 4,
 "nbformat_minor": 5
}

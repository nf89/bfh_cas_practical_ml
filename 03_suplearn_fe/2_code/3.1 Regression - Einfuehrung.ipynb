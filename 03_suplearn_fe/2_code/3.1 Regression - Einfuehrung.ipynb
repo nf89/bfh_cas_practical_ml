{
 "cells": [
  {
   "cell_type": "markdown",
   "metadata": {
    "tags": []
   },
   "source": [
    "# Feature Engineering\n",
    "# Klassifikation\n",
    "# Regression\n",
    "## Einleitung"
   ]
  },
  {
   "cell_type": "code",
   "execution_count": 2,
   "metadata": {
    "ExecuteTime": {
     "end_time": "2020-04-08T10:06:24.890328Z",
     "start_time": "2020-04-08T10:06:23.220148Z"
    },
    "tags": []
   },
   "outputs": [],
   "source": [
    "## prepare\n",
    "import pandas as pd\n",
    "import numpy as np\n",
    "import matplotlib.pyplot as plt\n",
    "import seaborn as sns; sns.set()\n",
    "%matplotlib inline\n",
    "\n",
    "datapath = '../3_data'\n",
    "from os import chdir; chdir(datapath)"
   ]
  },
  {
   "cell_type": "markdown",
   "metadata": {},
   "source": [
    "### Abgrenzung gegenüber Klassifikation\n",
    "(kein Code)"
   ]
  },
  {
   "cell_type": "markdown",
   "metadata": {},
   "source": [
    "### Das Demo Dataset: demo_data_regr.csv"
   ]
  },
  {
   "cell_type": "code",
   "execution_count": 5,
   "metadata": {},
   "outputs": [
    {
     "name": "stdout",
     "output_type": "stream",
     "text": [
      "     X    y\n",
      "0  6.0  2.5\n",
      "1  5.1  1.9\n",
      "2  5.9  2.1\n",
      "3  5.6  1.8\n",
      "4  5.8  2.2\n"
     ]
    }
   ],
   "source": [
    "demo_data = pd.read_csv('demo_data_regr.csv')\n",
    "print(demo_data.head())"
   ]
  },
  {
   "cell_type": "code",
   "execution_count": 6,
   "metadata": {
    "ExecuteTime": {
     "end_time": "2020-04-08T10:06:25.476230Z",
     "start_time": "2020-04-08T10:06:24.976970Z"
    },
    "scrolled": true
   },
   "outputs": [
    {
     "data": {
      "image/png": "[encoded data removed]",
      "text/plain": [
       "<Figure size 600x600 with 1 Axes>"
      ]
     },
     "metadata": {},
     "output_type": "display_data"
    }
   ],
   "source": [
    "plt.figure(figsize=(6,6))\n",
    "ax = sns.scatterplot(x='X', y='y', data=demo_data)\n",
    "ax.set(xlabel='X', ylabel='y');"
   ]
  },
  {
   "cell_type": "markdown",
   "metadata": {},
   "source": [
    "### Das Fallstudien Dataset: melb_data_prep.csv"
   ]
  },
  {
   "cell_type": "code",
   "execution_count": 8,
   "metadata": {},
   "outputs": [
    {
     "name": "stdout",
     "output_type": "stream",
     "text": [
      "<class 'pandas.core.frame.DataFrame'>\n",
      "RangeIndex: 18393 entries, 0 to 18392\n",
      "Data columns (total 24 columns):\n",
      " #   Column                                 Non-Null Count  Dtype  \n",
      "---  ------                                 --------------  -----  \n",
      " 0   Rooms                                  18393 non-null  int64  \n",
      " 1   Type                                   18393 non-null  int64  \n",
      " 2   Price                                  18393 non-null  float64\n",
      " 3   Distance                               18393 non-null  float64\n",
      " 4   Bathroom                               18393 non-null  float64\n",
      " 5   Car                                    18393 non-null  float64\n",
      " 6   logLandsize                            18393 non-null  float64\n",
      " 7   logBuildingArea                        18393 non-null  float64\n",
      " 8   YearBuilt                              18393 non-null  float64\n",
      " 9   CouncilArea                            18393 non-null  int64  \n",
      " 10  Lattitude                              18393 non-null  float64\n",
      " 11  Longtitude                             18393 non-null  float64\n",
      " 12  Propertycount                          18393 non-null  float64\n",
      " 13  Method_S                               18393 non-null  int64  \n",
      " 14  Method_SP                              18393 non-null  int64  \n",
      " 15  Method_VB                              18393 non-null  int64  \n",
      " 16  Regionname_Northern_Metropolitan       18393 non-null  int64  \n",
      " 17  Regionname_South_Eastern_Metropolitan  18393 non-null  int64  \n",
      " 18  Regionname_Southern_Metropolitan       18393 non-null  int64  \n",
      " 19  Regionname_Victoria                    18393 non-null  int64  \n",
      " 20  Regionname_Western_Metropolitan        18393 non-null  int64  \n",
      " 21  month                                  18393 non-null  int64  \n",
      " 22  year                                   18393 non-null  int64  \n",
      " 23  day_of_week                            18393 non-null  int64  \n",
      "dtypes: float64(10), int64(14)\n",
      "memory usage: 3.4 MB\n",
      "None\n"
     ]
    }
   ],
   "source": [
    "data = pd.read_csv('melb_data_prep.csv')\n",
    "print(data.info())"
   ]
  },
  {
   "cell_type": "markdown",
   "metadata": {},
   "source": [
    "### Vorbereiten der Daten"
   ]
  },
  {
   "cell_type": "code",
   "execution_count": 10,
   "metadata": {
    "tags": []
   },
   "outputs": [],
   "source": [
    "## read and prep data\n",
    "from bfh_cas_pml import prep_data, prep_demo_data\n",
    "X_train, X_test, y_train, y_test = prep_data(\n",
    "    'melb_data_prep.csv', 'Price', seed = 1234)\n",
    "\n",
    "X_demo, y_demo = prep_demo_data('demo_data_regr.csv', 'y')"
   ]
  }
 ],
 "metadata": {
  "kernelspec": {
   "display_name": "Python 3 (ipykernel)",
   "language": "python",
   "name": "python3"
  },
  "language_info": {
   "codemirror_mode": {
    "name": "ipython",
    "version": 3
   },
   "file_extension": ".py",
   "mimetype": "text/x-python",
   "name": "python",
   "nbconvert_exporter": "python",
   "pygments_lexer": "ipython3",
   "version": "3.11.7"
  },
  "toc": {
   "base_numbering": "3.1",
   "nav_menu": {},
   "number_sections": true,
   "sideBar": true,
   "skip_h1_title": false,
   "title_cell": "3.1 Regression - Einführung",
   "title_sidebar": "Contents",
   "toc_cell": true,
   "toc_position": {
    "height": "calc(100% - 180px)",
    "left": "10px",
    "top": "150px",
    "width": "206.2px"
   },
   "toc_section_display": true,
   "toc_window_display": true
  },
  "toc-autonumbering": true,
  "varInspector": {
   "cols": {
    "lenName": 16,
    "lenType": 16,
    "lenVar": 40
   },
   "kernels_config": {
    "python": {
     "delete_cmd_postfix": "",
     "delete_cmd_prefix": "del ",
     "library": "var_list.py",
     "varRefreshCmd": "print(var_dic_list())"
    },
    "r": {
     "delete_cmd_postfix": ") ",
     "delete_cmd_prefix": "rm(",
     "library": "var_list.r",
     "varRefreshCmd": "cat(var_dic_list()) "
    }
   },
   "position": {
    "height": "321.85px",
    "left": "787px",
    "right": "20px",
    "top": "115px",
    "width": "350px"
   },
   "types_to_exclude": [
    "module",
    "function",
    "builtin_function_or_method",
    "instance",
    "_Feature"
   ],
   "window_display": false
  }
 },
 "nbformat": 4,
 "nbformat_minor": 4
}

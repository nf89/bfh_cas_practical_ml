{
 "cells": [
  {
   "cell_type": "markdown",
   "metadata": {
    "tags": []
   },
   "source": [
    "# Feature Engineering\n",
    "# Klassifikation\n",
    "# Regression\n",
    "# Validierung und mehr\n",
    "## Sampling und Resampling\n",
    "## Validierungstechniken"
   ]
  },
  {
   "cell_type": "code",
   "execution_count": 2,
   "metadata": {
    "ExecuteTime": {
     "end_time": "2020-04-15T20:53:02.218161Z",
     "start_time": "2020-04-15T20:53:02.079407Z"
    }
   },
   "outputs": [],
   "source": [
    "## preparaton\n",
    "\n",
    "## import libraries\n",
    "import numpy as np\n",
    "import pandas as pd\n",
    "import matplotlib.pyplot as plt\n",
    "import seaborn as sns; sns.set()\n",
    "%matplotlib inline\n",
    "\n",
    "## load data\n",
    "datapath = '../3_data'\n",
    "from os import chdir; chdir(datapath)\n",
    "data = pd.read_csv('bank_data_prep.csv')\n",
    "data.shape ## zur Kontrolle\n",
    "\n",
    "## features - target - split\n",
    "X = data.drop('y', axis=1)\n",
    "y = data['y']"
   ]
  },
  {
   "cell_type": "markdown",
   "metadata": {},
   "source": [
    "### Holdout Validierung"
   ]
  },
  {
   "cell_type": "code",
   "execution_count": 4,
   "metadata": {},
   "outputs": [
    {
     "name": "stdout",
     "output_type": "stream",
     "text": [
      "0.8798296318831762\n"
     ]
    }
   ],
   "source": [
    "## repetition from classification and regression\n",
    "\n",
    "## train - test - split\n",
    "from sklearn.model_selection import train_test_split\n",
    "X_train, X_test, y_train, y_test, = train_test_split(\n",
    "    X,\n",
    "    y,\n",
    "    train_size=2/3,\n",
    "    random_state=1234)\n",
    "\n",
    "## train and score\n",
    "from sklearn.ensemble import RandomForestClassifier\n",
    "model = RandomForestClassifier()\n",
    "model.fit(X_train, y_train)\n",
    "print(model.score(X_test, y_test))"
   ]
  },
  {
   "cell_type": "markdown",
   "metadata": {},
   "source": [
    "### Kreuzvalidierung"
   ]
  },
  {
   "cell_type": "markdown",
   "metadata": {},
   "source": [
    "ref: https://scikit-learn.org/stable/modules/cross_validation.html"
   ]
  },
  {
   "cell_type": "raw",
   "metadata": {
    "tags": []
   },
   "source": [
    "## \"manually\" with sklearn.model_selection.KFold\n",
    "from sklearn.ensemble import RandomForestClassifier\n",
    "from sklearn.model_selection import KFold\n",
    "kf = KFold(n_splits=5, shuffle=True, random_state=1234)\n",
    "\n",
    "scores = []\n",
    "for train, test in kf.split(X):\n",
    "    X_train = X.iloc[train,:]\n",
    "    X_test = X.iloc[test,:]\n",
    "    y_train = y[train]\n",
    "    y_test = y[test]\n",
    "    model = RandomForestClassifier()\n",
    "    model.fit(X_train, y_train)\n",
    "    score = model.score(X_test, y_test)\n",
    "    scores.append(score)\n",
    "    print(score)\n",
    "\n",
    "## results\n",
    "print(scores)\n",
    "print('mean:', np.mean(scores))\n",
    "print('std: ', np.std(scores))\n",
    "sns.boxplot(x=scores);"
   ]
  },
  {
   "cell_type": "code",
   "execution_count": 7,
   "metadata": {
    "ExecuteTime": {
     "end_time": "2020-04-14T21:29:33.905316Z",
     "start_time": "2020-04-14T21:29:32.438063Z"
    }
   },
   "outputs": [],
   "source": [
    "from sklearn.ensemble import RandomForestClassifier\n",
    "from sklearn.model_selection import cross_val_score\n",
    "\n",
    "model = RandomForestClassifier(random_state=1234)\n",
    "\n",
    "## cross validation\n",
    "kfold = 10 ## default: 5\n",
    "scores = cross_val_score(model, X, y, cv=kfold)\n",
    "\n",
    "## combine call\n",
    "#scores = cross_val_score(RandomForestClassifier(random_state=1234), X, y, cv=kfold)"
   ]
  },
  {
   "cell_type": "code",
   "execution_count": 8,
   "metadata": {
    "ExecuteTime": {
     "end_time": "2020-04-14T21:29:33.920862Z",
     "start_time": "2020-04-14T21:29:33.909541Z"
    },
    "scrolled": true
   },
   "outputs": [
    {
     "name": "stdout",
     "output_type": "stream",
     "text": [
      "mean: 0.8859026369168358\n",
      "std:  0.010953816382393995\n"
     ]
    },
    {
     "data": {
      "image/png": "[encoded data removed]",
      "text/plain": [
       "<Figure size 640x480 with 1 Axes>"
      ]
     },
     "metadata": {},
     "output_type": "display_data"
    }
   ],
   "source": [
    "## results\n",
    "print('mean:', np.mean(scores))\n",
    "print('std: ', np.std(scores))\n",
    "sns.boxplot(x=scores);"
   ]
  },
  {
   "cell_type": "markdown",
   "metadata": {},
   "source": [
    "### Bootstrap Validierung"
   ]
  },
  {
   "cell_type": "code",
   "execution_count": 10,
   "metadata": {
    "scrolled": true
   },
   "outputs": [
    {
     "name": "stdout",
     "output_type": "stream",
     "text": [
      "0.6321205588285577\n"
     ]
    }
   ],
   "source": [
    "print(1 - 1 / np.exp(1))"
   ]
  },
  {
   "cell_type": "code",
   "execution_count": 11,
   "metadata": {},
   "outputs": [
    {
     "name": "stdout",
     "output_type": "stream",
     "text": [
      "0.632217\n"
     ]
    }
   ],
   "source": [
    "## experimental\n",
    "pop_size = 1000000\n",
    "pop = range(pop_size)\n",
    "smpl = np.random.choice(pop, pop_size, replace=True)\n",
    "smpl_size = len(np.unique(smpl))\n",
    "print(smpl_size / pop_size)"
   ]
  },
  {
   "cell_type": "markdown",
   "metadata": {
    "tags": []
   },
   "source": [
    "### Train - Eval - Test - Split"
   ]
  }
 ],
 "metadata": {
  "kernelspec": {
   "display_name": "Python 3 (ipykernel)",
   "language": "python",
   "name": "python3"
  },
  "language_info": {
   "codemirror_mode": {
    "name": "ipython",
    "version": 3
   },
   "file_extension": ".py",
   "mimetype": "text/x-python",
   "name": "python",
   "nbconvert_exporter": "python",
   "pygments_lexer": "ipython3",
   "version": "3.11.7"
  },
  "toc": {
   "base_numbering": "4.2",
   "nav_menu": {
    "height": "189px",
    "width": "303.333px"
   },
   "number_sections": true,
   "sideBar": true,
   "skip_h1_title": false,
   "title_cell": "4.2 Validierung und mehr - Validierungstechniken",
   "title_sidebar": "Contents",
   "toc_cell": true,
   "toc_position": {
    "height": "calc(100% - 180px)",
    "left": "10px",
    "top": "150px",
    "width": "230.667px"
   },
   "toc_section_display": true,
   "toc_window_display": true
  },
  "toc-autonumbering": true,
  "varInspector": {
   "cols": {
    "lenName": 16,
    "lenType": 16,
    "lenVar": 40
   },
   "kernels_config": {
    "python": {
     "delete_cmd_postfix": "",
     "delete_cmd_prefix": "del ",
     "library": "var_list.py",
     "varRefreshCmd": "print(var_dic_list())"
    },
    "r": {
     "delete_cmd_postfix": ") ",
     "delete_cmd_prefix": "rm(",
     "library": "var_list.r",
     "varRefreshCmd": "cat(var_dic_list()) "
    }
   },
   "position": {
    "height": "298.85px",
    "left": "782px",
    "right": "20px",
    "top": "120px",
    "width": "350px"
   },
   "types_to_exclude": [
    "module",
    "function",
    "builtin_function_or_method",
    "instance",
    "_Feature"
   ],
   "window_display": false
  }
 },
 "nbformat": 4,
 "nbformat_minor": 4
}

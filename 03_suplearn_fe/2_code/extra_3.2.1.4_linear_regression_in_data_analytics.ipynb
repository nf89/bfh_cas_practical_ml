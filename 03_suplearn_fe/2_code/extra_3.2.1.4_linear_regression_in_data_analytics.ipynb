{
 "cells": [
  {
   "cell_type": "markdown",
   "id": "6394031a-f4e6-40b6-8612-9dbcea9cc456",
   "metadata": {},
   "source": [
    "# extra_3.2.1.4_linear_regression_in_data_analytics.ipynb"
   ]
  },
  {
   "cell_type": "code",
   "execution_count": 2,
   "id": "23f2b845-764a-46f4-8a51-e1787c05b878",
   "metadata": {
    "ExecuteTime": {
     "end_time": "2020-04-08T10:06:24.890328Z",
     "start_time": "2020-04-08T10:06:23.220148Z"
    }
   },
   "outputs": [],
   "source": [
    "## prepare env and data\n",
    "import pandas as pd\n",
    "import numpy as np\n",
    "import matplotlib.pyplot as plt\n",
    "import seaborn as sns; sns.set()\n",
    "%matplotlib inline\n",
    "\n",
    "datapath = '../3_data'\n",
    "from os import chdir; chdir(datapath)\n",
    "\n",
    "from bfh_cas_pml import prep_data\n",
    "X_train, X_test, y_train, y_test = prep_data('melb_data_prep.csv', 'Price', seed = 1234)"
   ]
  },
  {
   "cell_type": "code",
   "execution_count": 3,
   "id": "c6ce688e-aea0-4030-afe7-1dbf56b03ea1",
   "metadata": {
    "scrolled": true,
    "tags": []
   },
   "outputs": [
    {
     "name": "stdout",
     "output_type": "stream",
     "text": [
      "                            OLS Regression Results                            \n",
      "==============================================================================\n",
      "Dep. Variable:                  Price   R-squared:                       0.586\n",
      "Model:                            OLS   Adj. R-squared:                  0.585\n",
      "Method:                 Least Squares   F-statistic:                     752.8\n",
      "Date:                Sat, 25 May 2024   Prob (F-statistic):               0.00\n",
      "Time:                        13:15:08   Log-Likelihood:            -1.7592e+05\n",
      "No. Observations:               12262   AIC:                         3.519e+05\n",
      "Df Residuals:                   12238   BIC:                         3.521e+05\n",
      "Df Model:                          23                                         \n",
      "Covariance Type:            nonrobust                                         \n",
      "=========================================================================================================\n",
      "                                            coef    std err          t      P>|t|      [0.025      0.975]\n",
      "---------------------------------------------------------------------------------------------------------\n",
      "const                                 -1.055e+08   1.99e+07     -5.300      0.000   -1.45e+08   -6.65e+07\n",
      "Rooms                                  2.454e+05   5402.990     45.416      0.000    2.35e+05    2.56e+05\n",
      "Type                                  -1.414e+05   6342.919    -22.286      0.000   -1.54e+05   -1.29e+05\n",
      "Distance                              -4.038e+04    928.303    -43.503      0.000   -4.22e+04   -3.86e+04\n",
      "Bathroom                               1.613e+05   7004.805     23.032      0.000    1.48e+05    1.75e+05\n",
      "Car                                    4.039e+04   4723.191      8.552      0.000    3.11e+04    4.96e+04\n",
      "logLandsize                             8.33e+04   5149.484     16.177      0.000    7.32e+04    9.34e+04\n",
      "logBuildingArea                        2.738e+05   2.27e+04     12.064      0.000    2.29e+05    3.18e+05\n",
      "YearBuilt                             -2484.2291    162.873    -15.253      0.000   -2803.486   -2164.972\n",
      "CouncilArea                           -4977.2245    674.748     -7.376      0.000   -6299.838   -3654.611\n",
      "Lattitude                              -5.15e+05   7.24e+04     -7.114      0.000   -6.57e+05   -3.73e+05\n",
      "Longtitude                             1.926e+05   5.94e+04      3.241      0.001    7.61e+04    3.09e+05\n",
      "Propertycount                            -1.1982      0.893     -1.342      0.180      -2.948       0.552\n",
      "Method_S                               9.427e+04   1.17e+04      8.065      0.000    7.14e+04    1.17e+05\n",
      "Method_SP                              4.166e+04   1.51e+04      2.760      0.006    1.21e+04    7.13e+04\n",
      "Method_VB                              5.418e+04   1.63e+04      3.315      0.001    2.21e+04    8.62e+04\n",
      "Regionname_Northern_Metropolitan       -1.85e+05   1.62e+04    -11.404      0.000   -2.17e+05   -1.53e+05\n",
      "Regionname_South_Eastern_Metropolitan  8.791e+04   2.69e+04      3.269      0.001    3.52e+04    1.41e+05\n",
      "Regionname_Southern_Metropolitan        2.44e+05   1.54e+04     15.820      0.000    2.14e+05    2.74e+05\n",
      "Regionname_Victoria                    2.656e+05   4.46e+04      5.954      0.000    1.78e+05    3.53e+05\n",
      "Regionname_Western_Metropolitan       -2.317e+05   1.93e+04    -12.030      0.000   -2.69e+05   -1.94e+05\n",
      "month                                  1756.1890   1674.442      1.049      0.294   -1525.982    5038.360\n",
      "year                                   3.116e+04   8889.372      3.505      0.000    1.37e+04    4.86e+04\n",
      "day_of_week                            4708.3047   3427.552      1.374      0.170   -2010.239    1.14e+04\n",
      "==============================================================================\n",
      "Omnibus:                     6530.672   Durbin-Watson:                   2.000\n",
      "Prob(Omnibus):                  0.000   Jarque-Bera (JB):            95692.398\n",
      "Skew:                           2.225   Prob(JB):                         0.00\n",
      "Kurtosis:                      15.942   Cond. No.                     4.86e+07\n",
      "==============================================================================\n",
      "\n",
      "Notes:\n",
      "[1] Standard Errors assume that the covariance matrix of the errors is correctly specified.\n",
      "[2] The condition number is large, 4.86e+07. This might indicate that there are\n",
      "strong multicollinearity or other numerical problems.\n"
     ]
    }
   ],
   "source": [
    "import statsmodels.api as sm\n",
    "X_train_ = sm.add_constant(X_train)\n",
    "model = sm.OLS(y_train, X_train_, hasconst=True)\n",
    "results = model.fit()\n",
    "print(results.summary())"
   ]
  }
 ],
 "metadata": {
  "kernelspec": {
   "display_name": "Python 3 (ipykernel)",
   "language": "python",
   "name": "python3"
  },
  "language_info": {
   "codemirror_mode": {
    "name": "ipython",
    "version": 3
   },
   "file_extension": ".py",
   "mimetype": "text/x-python",
   "name": "python",
   "nbconvert_exporter": "python",
   "pygments_lexer": "ipython3",
   "version": "3.11.7"
  }
 },
 "nbformat": 4,
 "nbformat_minor": 5
}

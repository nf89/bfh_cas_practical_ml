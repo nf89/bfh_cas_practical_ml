{
 "cells": [
  {
   "cell_type": "markdown",
   "metadata": {
    "tags": []
   },
   "source": [
    "# Feature Engineering\n",
    "# Klassifikation\n",
    "# Regression\n",
    "# Validierung und mehr\n",
    "# Deployment und Abschluss"
   ]
  },
  {
   "cell_type": "code",
   "execution_count": 2,
   "metadata": {
    "ExecuteTime": {
     "end_time": "2020-04-08T10:06:24.890328Z",
     "start_time": "2020-04-08T10:06:23.220148Z"
    },
    "tags": []
   },
   "outputs": [],
   "source": [
    "## prepare environment\n",
    "import pandas as pd\n",
    "import numpy as np\n",
    "datapath = '../3_data'\n",
    "from os import chdir; chdir(datapath)"
   ]
  },
  {
   "cell_type": "markdown",
   "metadata": {},
   "source": [
    "## Das finale Modell\n",
    "## Feature Engineering in der Produktion\n",
    "### Missing Values\n",
    "### Neue Kategorien\n",
    "### Protokollieren"
   ]
  },
  {
   "cell_type": "code",
   "execution_count": 4,
   "metadata": {},
   "outputs": [],
   "source": [
    "data = pd.read_csv('bank_data.csv', sep=';')\n",
    "\n",
    "import datetime\n",
    "\n",
    "f = open('fe_prod_log.log','w')\n",
    "f.write(datetime.datetime.now().strftime(\"[%Y-%m-%d %H:%M:%S] (timestamp)\"))\n",
    "\n",
    "f.write('\\n\\n')\n",
    "\n",
    "s = data.isna().sum()\n",
    "f.write('features with NA\\'s\\n')\n",
    "f.write('=======================')\n",
    "\n",
    "f.write('\\n')\n",
    "f.write(s[s > 0].to_string())\n",
    "f.write('\\n\\n')\n",
    "\n",
    "## value counts of not numeric features\n",
    "f.write('categorical cols levels\\n')\n",
    "f.write('=======================')\n",
    "f.write('\\n')\n",
    "catcolnames = data.select_dtypes(include='object').columns\n",
    "for ccn in catcolnames:\n",
    "    f.write(ccn)\n",
    "    f.write('\\n')\n",
    "    f.write(data[ccn].value_counts().sort_index().to_string())\n",
    "    f.write('\\n\\n')\n",
    "f.close() "
   ]
  },
  {
   "cell_type": "markdown",
   "metadata": {},
   "source": [
    "## Modellübergabe in die Prodkution"
   ]
  },
  {
   "cell_type": "markdown",
   "metadata": {},
   "source": [
    "### Modelle speichern scikit-learn intern"
   ]
  },
  {
   "cell_type": "code",
   "execution_count": 7,
   "metadata": {
    "tags": []
   },
   "outputs": [],
   "source": [
    "## load data\n",
    "from bfh_cas_pml import prep_data\n",
    "X_train, X_test, y_train, y_test = prep_data('melb_data_prep.csv', 'Price')"
   ]
  },
  {
   "cell_type": "code",
   "execution_count": 8,
   "metadata": {},
   "outputs": [],
   "source": [
    "## three models:\n",
    "\n",
    "## StandardScaler\n",
    "from sklearn.preprocessing import StandardScaler\n",
    "model_sc = StandardScaler().fit(X_train)\n",
    "\n",
    "## LinearRegression\n",
    "from sklearn.linear_model import LinearRegression\n",
    "model_lr = LinearRegression().fit(X_train, y_train)\n",
    "\n",
    "## DecisionTreeRegressor\n",
    "from sklearn.tree import DecisionTreeRegressor\n",
    "model_dt = DecisionTreeRegressor(max_depth= 2, random_state=1234).fit(X_train, y_train)"
   ]
  },
  {
   "cell_type": "code",
   "execution_count": 9,
   "metadata": {},
   "outputs": [],
   "source": [
    "## save models\n",
    "import pickle \n",
    "with open('model_sc.pkl', 'wb') as pickle_file:\n",
    "    pickle.dump(model_sc, pickle_file)\n",
    "with open('model_lr.pkl', 'wb') as pickle_file:\n",
    "    pickle.dump(model_lr, pickle_file)\n",
    "with open('model_dt.pkl', 'wb') as pickle_file:\n",
    "    pickle.dump(model_dt, pickle_file)"
   ]
  },
  {
   "cell_type": "code",
   "execution_count": 10,
   "metadata": {},
   "outputs": [],
   "source": [
    "## reload models\n",
    "with open('model_sc.pkl', 'rb') as pickle_file:\n",
    "    model_sc_2 = pickle.load(pickle_file)\n",
    "with open('model_lr.pkl', 'rb') as pickle_file:\n",
    "    model_lr_2 = pickle.load(pickle_file)\n",
    "with open('model_dt.pkl', 'rb') as pickle_file:\n",
    "    model_dt_2 = pickle.load(pickle_file)  "
   ]
  },
  {
   "cell_type": "code",
   "execution_count": 11,
   "metadata": {},
   "outputs": [
    {
     "name": "stdout",
     "output_type": "stream",
     "text": [
      "[ 2.93777524e+00  1.45457511e+00  1.04163676e+01  1.43785679e+00\n",
      "  1.69132279e+00  2.36783112e+00  2.09905428e+00  1.96821913e+03\n",
      "  5.74995922e+00 -3.78088068e+01  1.44997459e+02  7.51771163e+03\n",
      "  6.57233730e-01  1.29750449e-01  9.23177296e-02  2.90817159e-01\n",
      "  3.75958245e-02  3.40890556e-01  1.14173870e-02  2.10569238e-01\n",
      "  7.16408416e+00  2.01656288e+03  4.83420323e+00] \n",
      "\n",
      "[9.20202455e-01 4.69760099e-01 3.70020409e+01 4.29958153e-01\n",
      " 7.49360361e-01 7.18266598e-01 3.44600718e-02 6.37436323e+02\n",
      " 3.80159334e+01 5.49566645e-03 9.22692994e-03 2.02826662e+07\n",
      " 2.25277554e-01 1.12915270e-01 8.37951664e-02 2.06242539e-01\n",
      " 3.61823785e-02 2.24684185e-01 1.12870303e-02 1.66229834e-01\n",
      " 6.22686859e+00 2.46046460e-01 1.25085102e+00] \n",
      "\n",
      "[ 2.93777524e+00  1.45457511e+00  1.04163676e+01  1.43785679e+00\n",
      "  1.69132279e+00  2.36783112e+00  2.09905428e+00  1.96821913e+03\n",
      "  5.74995922e+00 -3.78088068e+01  1.44997459e+02  7.51771163e+03\n",
      "  6.57233730e-01  1.29750449e-01  9.23177296e-02  2.90817159e-01\n",
      "  3.75958245e-02  3.40890556e-01  1.14173870e-02  2.10569238e-01\n",
      "  7.16408416e+00  2.01656288e+03  4.83420323e+00] \n",
      "\n",
      "[9.20202455e-01 4.69760099e-01 3.70020409e+01 4.29958153e-01\n",
      " 7.49360361e-01 7.18266598e-01 3.44600718e-02 6.37436323e+02\n",
      " 3.80159334e+01 5.49566645e-03 9.22692994e-03 2.02826662e+07\n",
      " 2.25277554e-01 1.12915270e-01 8.37951664e-02 2.06242539e-01\n",
      " 3.61823785e-02 2.24684185e-01 1.12870303e-02 1.66229834e-01\n",
      " 6.22686859e+00 2.46046460e-01 1.25085102e+00] \n",
      "\n"
     ]
    }
   ],
   "source": [
    "## compare model_sc\n",
    "print(model_sc.mean_, '\\n')\n",
    "print(model_sc.var_, '\\n')\n",
    "print(model_sc_2.mean_, '\\n')\n",
    "print(model_sc_2.var_, '\\n')"
   ]
  },
  {
   "cell_type": "code",
   "execution_count": 12,
   "metadata": {},
   "outputs": [
    {
     "name": "stdout",
     "output_type": "stream",
     "text": [
      "-118270989.87425248\n",
      "[ 2.50834327e+05 -1.45871504e+05 -4.13257480e+04  1.54116175e+05\n",
      "  3.88792264e+04  8.20265759e+04  2.75423073e+05 -2.32056094e+03\n",
      " -5.38944769e+03 -5.85782602e+05  1.77374502e+05 -1.44436659e+00\n",
      "  7.90575463e+04  2.88647655e+04  3.61587994e+04 -1.90495866e+05\n",
      "  7.08524933e+04  2.24267526e+05  2.21844422e+05 -2.42468838e+05\n",
      "  2.75413428e+03  3.71147038e+04  2.86865125e+03] \n",
      "\n",
      "-118270989.87425248\n",
      "[ 2.50834327e+05 -1.45871504e+05 -4.13257480e+04  1.54116175e+05\n",
      "  3.88792264e+04  8.20265759e+04  2.75423073e+05 -2.32056094e+03\n",
      " -5.38944769e+03 -5.85782602e+05  1.77374502e+05 -1.44436659e+00\n",
      "  7.90575463e+04  2.88647655e+04  3.61587994e+04 -1.90495866e+05\n",
      "  7.08524933e+04  2.24267526e+05  2.21844422e+05 -2.42468838e+05\n",
      "  2.75413428e+03  3.71147038e+04  2.86865125e+03]\n"
     ]
    }
   ],
   "source": [
    "## compare model_lr\n",
    "print(model_lr.intercept_)\n",
    "print(model_lr.coef_, '\\n')\n",
    "print(model_lr_2.intercept_)\n",
    "print(model_lr_2.coef_)"
   ]
  },
  {
   "cell_type": "code",
   "execution_count": 13,
   "metadata": {},
   "outputs": [
    {
     "name": "stdout",
     "output_type": "stream",
     "text": [
      "|--- Rooms <= 3.50\n",
      "|   |--- Type <= 1.50\n",
      "|   |   |--- value: [1063330.72]\n",
      "|   |--- Type >  1.50\n",
      "|   |   |--- value: [683338.07]\n",
      "|--- Rooms >  3.50\n",
      "|   |--- Regionname_Southern_Metropolitan <= 0.50\n",
      "|   |   |--- value: [1169298.15]\n",
      "|   |--- Regionname_Southern_Metropolitan >  0.50\n",
      "|   |   |--- value: [2133427.66]\n",
      "\n",
      "|--- Rooms <= 3.50\n",
      "|   |--- Type <= 1.50\n",
      "|   |   |--- value: [1063330.72]\n",
      "|   |--- Type >  1.50\n",
      "|   |   |--- value: [683338.07]\n",
      "|--- Rooms >  3.50\n",
      "|   |--- Regionname_Southern_Metropolitan <= 0.50\n",
      "|   |   |--- value: [1169298.15]\n",
      "|   |--- Regionname_Southern_Metropolitan >  0.50\n",
      "|   |   |--- value: [2133427.66]\n",
      "\n"
     ]
    }
   ],
   "source": [
    "## compare model_dt\n",
    "from sklearn.tree import export_text\n",
    "print(export_text(\n",
    "    model_dt, feature_names=list(X_train.columns)))\n",
    "print(export_text(\n",
    "    model_dt_2, feature_names=list(X_train.columns)))"
   ]
  },
  {
   "cell_type": "markdown",
   "metadata": {},
   "source": [
    "### Modelle speichern extern mit PMML"
   ]
  },
  {
   "cell_type": "markdown",
   "metadata": {},
   "source": [
    "**Vorbereitungen:**  \n",
    "* Java Runtime muss vorhanden sein\n",
    "* Library installieren direkt in Notebook:  \n",
    "`!pip install sklearn2pmml`"
   ]
  },
  {
   "cell_type": "code",
   "execution_count": 16,
   "metadata": {},
   "outputs": [],
   "source": [
    "## import libraries\n",
    "from sklearn.pipeline import Pipeline\n",
    "from sklearn2pmml import PMMLPipeline, sklearn2pmml"
   ]
  },
  {
   "cell_type": "code",
   "execution_count": 17,
   "metadata": {
    "scrolled": true
   },
   "outputs": [],
   "source": [
    "## StandardScaler\n",
    "from sklearn.preprocessing import StandardScaler\n",
    "pipeline = PMMLPipeline([(\"scaler\", StandardScaler())]).fit(X_train)\n",
    "sklearn2pmml(pipeline, \"StandardScaler_melb.pmml\", with_repr = True)"
   ]
  },
  {
   "cell_type": "code",
   "execution_count": 18,
   "metadata": {},
   "outputs": [],
   "source": [
    "## LinearRegression\n",
    "pipeline = PMMLPipeline([('regressor', LinearRegression())]).fit(X_train, y_train)\n",
    "sklearn2pmml(pipeline, \"LinearRegression_melb.pmml\", with_repr = True)"
   ]
  },
  {
   "cell_type": "code",
   "execution_count": 19,
   "metadata": {},
   "outputs": [],
   "source": [
    "## DecisionTreeClassifier\n",
    "pipeline = PMMLPipeline([('regressor', DecisionTreeRegressor(max_depth= 2, random_state=1234))]).fit(X_train, y_train)\n",
    "sklearn2pmml(pipeline, \"DecisionTreeRegressor_melb.pmml\", with_repr = True)"
   ]
  },
  {
   "cell_type": "markdown",
   "metadata": {
    "tags": []
   },
   "source": [
    "* re-import a pmml model\n",
    "  * see https://stackoverflow.com/questions/52393301/use-pmml-models-in-python"
   ]
  },
  {
   "cell_type": "raw",
   "metadata": {
    "tags": []
   },
   "source": [
    "## !pip install pypmml\n",
    "## not run: long running time\n",
    "from pypmml import Model\n",
    "new_model = Model.fromFile(\"StandardScaler_melb.pmml\")\n",
    "result = new_model.predict(X_train)\n",
    "print(result.describe())"
   ]
  },
  {
   "cell_type": "markdown",
   "metadata": {},
   "source": [
    "## Der Modellierungsprozess"
   ]
  },
  {
   "cell_type": "markdown",
   "metadata": {},
   "source": [
    "(kein Code unter diesem Titel)"
   ]
  },
  {
   "cell_type": "markdown",
   "metadata": {},
   "source": [
    "## pyCaret"
   ]
  },
  {
   "cell_type": "markdown",
   "metadata": {},
   "source": [
    "vgl. `5.5 Deployment und Abschluss - pycaret.ipynb`"
   ]
  }
 ],
 "metadata": {
  "kernelspec": {
   "display_name": "Python 3 (ipykernel)",
   "language": "python",
   "name": "python3"
  },
  "language_info": {
   "codemirror_mode": {
    "name": "ipython",
    "version": 3
   },
   "file_extension": ".py",
   "mimetype": "text/x-python",
   "name": "python",
   "nbconvert_exporter": "python",
   "pygments_lexer": "ipython3",
   "version": "3.11.7"
  },
  "toc": {
   "base_numbering": "5",
   "nav_menu": {},
   "number_sections": true,
   "sideBar": true,
   "skip_h1_title": false,
   "title_cell": "5 Deployment und Abschluss",
   "title_sidebar": "Contents",
   "toc_cell": true,
   "toc_position": {
    "height": "calc(100% - 180px)",
    "left": "10px",
    "top": "150px",
    "width": "165px"
   },
   "toc_section_display": true,
   "toc_window_display": true
  },
  "varInspector": {
   "cols": {
    "lenName": 16,
    "lenType": 16,
    "lenVar": 40
   },
   "kernels_config": {
    "python": {
     "delete_cmd_postfix": "",
     "delete_cmd_prefix": "del ",
     "library": "var_list.py",
     "varRefreshCmd": "print(var_dic_list())"
    },
    "r": {
     "delete_cmd_postfix": ") ",
     "delete_cmd_prefix": "rm(",
     "library": "var_list.r",
     "varRefreshCmd": "cat(var_dic_list()) "
    }
   },
   "position": {
    "height": "321.85px",
    "left": "790px",
    "right": "20px",
    "top": "113px",
    "width": "350px"
   },
   "types_to_exclude": [
    "module",
    "function",
    "builtin_function_or_method",
    "instance",
    "_Feature"
   ],
   "window_display": false
  }
 },
 "nbformat": 4,
 "nbformat_minor": 4
}

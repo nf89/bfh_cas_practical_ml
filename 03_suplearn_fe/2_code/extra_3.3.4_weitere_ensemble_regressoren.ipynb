{
 "cells": [
  {
   "cell_type": "markdown",
   "metadata": {},
   "source": [
    "# extra_3.3.4_weitere_ensemble_regressoren.ipynb"
   ]
  },
  {
   "cell_type": "code",
   "execution_count": 2,
   "metadata": {
    "tags": []
   },
   "outputs": [],
   "source": [
    "## for scikit-learn 1.4.2, to silence warnings regarding physical cores\n",
    "import os\n",
    "os.environ['LOKY_MAX_CPU_COUNT'] = '4' ## depending on the hardware used"
   ]
  },
  {
   "cell_type": "code",
   "execution_count": 3,
   "metadata": {
    "ExecuteTime": {
     "end_time": "2020-04-08T10:06:24.890328Z",
     "start_time": "2020-04-08T10:06:23.220148Z"
    }
   },
   "outputs": [],
   "source": [
    "## prepare environment and data\n",
    "\n",
    "import pandas as pd\n",
    "import numpy as np\n",
    "import matplotlib.pyplot as plt\n",
    "import seaborn as sns; sns.set()\n",
    "%matplotlib inline\n",
    "\n",
    "datapath = '../3_data'\n",
    "from os import chdir; chdir(datapath)\n",
    "\n",
    "from bfh_cas_pml import prep_data, prep_demo_data\n",
    "X_train, X_test, y_train, y_test = prep_data('melb_data_prep.csv', 'Price', seed = 1234)\n",
    "\n",
    "from bfh_cas_pml import test_regression_model\n",
    "\n",
    "names = []\n",
    "scores = []"
   ]
  },
  {
   "cell_type": "markdown",
   "metadata": {},
   "source": [
    "**AdaBoostRegressor**"
   ]
  },
  {
   "cell_type": "code",
   "execution_count": 5,
   "metadata": {
    "ExecuteTime": {
     "end_time": "2020-04-08T10:06:45.098899Z",
     "start_time": "2020-04-08T10:06:44.257283Z"
    }
   },
   "outputs": [
    {
     "name": "stdout",
     "output_type": "stream",
     "text": [
      "R2 = -0.3023\n"
     ]
    }
   ],
   "source": [
    "from sklearn.ensemble import AdaBoostRegressor\n",
    "this_model = test_regression_model(\n",
    "    AdaBoostRegressor(random_state=1234), \n",
    "    X_train, y_train, X_test, y_test,\n",
    "    show_plot=False)\n",
    "names.append(this_model.__class__.__name__)\n",
    "scores.append(this_model.score(X_test, y_test))"
   ]
  },
  {
   "cell_type": "markdown",
   "metadata": {},
   "source": [
    "**GradientBoostingRegressor**"
   ]
  },
  {
   "cell_type": "code",
   "execution_count": 7,
   "metadata": {
    "ExecuteTime": {
     "end_time": "2020-04-08T10:06:45.952822Z",
     "start_time": "2020-04-08T10:06:45.101810Z"
    },
    "scrolled": true
   },
   "outputs": [
    {
     "name": "stdout",
     "output_type": "stream",
     "text": [
      "R2 = 0.7250\n"
     ]
    }
   ],
   "source": [
    "from sklearn.ensemble import GradientBoostingRegressor\n",
    "this_model = test_regression_model(\n",
    "    GradientBoostingRegressor(random_state=1234), \n",
    "    X_train, y_train, X_test, y_test,\n",
    "    show_plot=False)\n",
    "names.append(this_model.__class__.__name__)\n",
    "scores.append(this_model.score(X_test, y_test))"
   ]
  },
  {
   "cell_type": "markdown",
   "metadata": {},
   "source": [
    "**HistGradientBoostingRegressor**\n",
    "\n",
    "\"This estimator is much faster than GradientBoostingRegressor for big datasets (n_samples >= 10 000).\" [https://scikit-learn.org/stable/modules/generated/sklearn.ensemble.HistGradientBoostingRegressor.html#sklearn.ensemble.HistGradientBoostingRegressor]"
   ]
  },
  {
   "cell_type": "code",
   "execution_count": 9,
   "metadata": {
    "ExecuteTime": {
     "end_time": "2020-04-08T10:06:48.544788Z",
     "start_time": "2020-04-08T10:06:45.955387Z"
    },
    "scrolled": true
   },
   "outputs": [
    {
     "name": "stdout",
     "output_type": "stream",
     "text": [
      "R2 = 0.7878\n"
     ]
    }
   ],
   "source": [
    "from sklearn.ensemble import HistGradientBoostingRegressor\n",
    "this_model = test_regression_model(\n",
    "    HistGradientBoostingRegressor(), \n",
    "    X_train, y_train, X_test, y_test,\n",
    "    show_plot=False)\n",
    "names.append(this_model.__class__.__name__)\n",
    "scores.append(this_model.score(X_test, y_test))"
   ]
  },
  {
   "cell_type": "markdown",
   "metadata": {},
   "source": [
    "**CatBoostRegressor**"
   ]
  },
  {
   "cell_type": "code",
   "execution_count": 11,
   "metadata": {},
   "outputs": [
    {
     "name": "stdout",
     "output_type": "stream",
     "text": [
      "R2 = 0.8003\n"
     ]
    }
   ],
   "source": [
    "from catboost import CatBoostRegressor\n",
    "this_model = test_regression_model(\n",
    "    CatBoostRegressor(logging_level='Silent'), \n",
    "    X_train, y_train, X_test, y_test,\n",
    "    show_plot=False)\n",
    "names.append(this_model.__class__.__name__)\n",
    "scores.append(this_model.score(X_test, y_test))"
   ]
  },
  {
   "cell_type": "markdown",
   "metadata": {},
   "source": [
    "**LGBMRegressor**"
   ]
  },
  {
   "cell_type": "code",
   "execution_count": 13,
   "metadata": {},
   "outputs": [
    {
     "name": "stdout",
     "output_type": "stream",
     "text": [
      "[LightGBM] [Info] Auto-choosing col-wise multi-threading, the overhead of testing was 0.003023 seconds.\n",
      "You can set `force_col_wise=true` to remove the overhead.\n",
      "[LightGBM] [Info] Total Bins 1630\n",
      "[LightGBM] [Info] Number of data points in the train set: 12262, number of used features: 23\n",
      "[LightGBM] [Info] Start training from score 1055902.695237\n",
      "R2 = 0.7882\n"
     ]
    }
   ],
   "source": [
    "from lightgbm import LGBMRegressor\n",
    "this_model = test_regression_model(\n",
    "    LGBMRegressor(), \n",
    "    X_train, y_train, X_test, y_test,\n",
    "    show_plot=False)\n",
    "names.append(this_model.__class__.__name__)\n",
    "scores.append(this_model.score(X_test, y_test))"
   ]
  },
  {
   "cell_type": "code",
   "execution_count": 14,
   "metadata": {
    "tags": []
   },
   "outputs": [
    {
     "name": "stdout",
     "output_type": "stream",
     "text": [
      "                          models    scores\n",
      "0              AdaBoostRegressor -0.302314\n",
      "1      GradientBoostingRegressor  0.724983\n",
      "2  HistGradientBoostingRegressor  0.787850\n",
      "3              CatBoostRegressor  0.800349\n",
      "4                  LGBMRegressor  0.788166\n"
     ]
    }
   ],
   "source": [
    "## synthesis\n",
    "print(pd.DataFrame({'models': names, 'scores': scores}))"
   ]
  }
 ],
 "metadata": {
  "kernelspec": {
   "display_name": "Python 3 (ipykernel)",
   "language": "python",
   "name": "python3"
  },
  "language_info": {
   "codemirror_mode": {
    "name": "ipython",
    "version": 3
   },
   "file_extension": ".py",
   "mimetype": "text/x-python",
   "name": "python",
   "nbconvert_exporter": "python",
   "pygments_lexer": "ipython3",
   "version": "3.11.7"
  },
  "toc": {
   "base_numbering": "3.3",
   "nav_menu": {},
   "number_sections": true,
   "sideBar": true,
   "skip_h1_title": false,
   "title_cell": "3.3 Regression - ML Methoden",
   "title_sidebar": "Contents",
   "toc_cell": true,
   "toc_position": {
    "height": "calc(100% - 180px)",
    "left": "10px",
    "top": "150px",
    "width": "186.867px"
   },
   "toc_section_display": true,
   "toc_window_display": true
  },
  "toc-autonumbering": true,
  "varInspector": {
   "cols": {
    "lenName": 16,
    "lenType": 16,
    "lenVar": 40
   },
   "kernels_config": {
    "python": {
     "delete_cmd_postfix": "",
     "delete_cmd_prefix": "del ",
     "library": "var_list.py",
     "varRefreshCmd": "print(var_dic_list())"
    },
    "r": {
     "delete_cmd_postfix": ") ",
     "delete_cmd_prefix": "rm(",
     "library": "var_list.r",
     "varRefreshCmd": "cat(var_dic_list()) "
    }
   },
   "position": {
    "height": "321.85px",
    "left": "787px",
    "right": "20px",
    "top": "115px",
    "width": "350px"
   },
   "types_to_exclude": [
    "module",
    "function",
    "builtin_function_or_method",
    "instance",
    "_Feature"
   ],
   "window_display": false
  }
 },
 "nbformat": 4,
 "nbformat_minor": 4
}

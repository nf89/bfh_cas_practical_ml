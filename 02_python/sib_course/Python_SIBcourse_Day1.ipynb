{
 "cells": [
  {
   "cell_type": "code",
   "execution_count": 20,
   "metadata": {},
   "outputs": [],
   "source": [
    "#My first python script\n",
    "string1 = \"This is a test string for further exercises!\"\n",
    "print(string1)"
   ]
  },
  {
   "cell_type": "code",
   "execution_count": 22,
   "metadata": {},
   "outputs": [
    {
     "data": {
      "text/plain": [
       "'Ti sa'"
      ]
     },
     "execution_count": 22,
     "metadata": {},
     "output_type": "execute_result"
    }
   ],
   "source": [
    "#Exercise 1.1\n",
    "#What does myString[0:10:2] do?\n",
    "\n",
    "string1[0:10:2]\n",
    "\n",
    "#This command extracts every other character/ from my string starting at position 0 and ending at position 10"
   ]
  },
  {
   "cell_type": "code",
   "execution_count": 24,
   "metadata": {},
   "outputs": [
    {
     "name": "stdout",
     "output_type": "stream",
     "text": [
      "3.0\n"
     ]
    }
   ],
   "source": [
    "#Exercise 1.2\n",
    "#I am trying to make a division. Could you make my code work?\n",
    "\n",
    "a = 12\n",
    "b = 36\n",
    "division = b/a\n",
    "print(division)"
   ]
  },
  {
   "cell_type": "code",
   "execution_count": 31,
   "metadata": {},
   "outputs": [
    {
     "name": "stdout",
     "output_type": "stream",
     "text": [
      "This@is@a@test@string@for@further@exercises\n",
      "This is a test string for further exercises\n"
     ]
    }
   ],
   "source": [
    "#Exercise 1.3\n",
    "#Find a way to replace all spaces by '@' in string1.\n",
    "print(string1.replace(\" \", \"@\"))\n",
    "print(string1,sep = \"@\")"
   ]
  },
  {
   "cell_type": "code",
   "execution_count": 56,
   "metadata": {},
   "outputs": [],
   "source": [
    "science_doc = {\"Agricultural sciences\" : 1065,\n",
    "                \"Biochemistry\" : 759,\n",
    "                \"Molecular biology\"\t: 716,\n",
    "                \"Neurosciences\"\t: 431,\n",
    "                \"Other biological sciences\"\t: 3675,\n",
    "                \"Computer sciences\"\t: 856,\n",
    "                \"Earth, atmospheric, and ocean sciences\" : 706,\n",
    "                \"Mathematics\" : 1083,\n",
    "                \"Chemistry\"\t: 2132,\n",
    "                \"Physics and astronomy\"\t: 715,\n",
    "                \"Astrology\" : 2012, \n",
    "                \"Psychology\" : 3668,\n",
    "                \"Social sciences\" : 4063}\n",
    "\n",
    "engineering_doc = {\"Aerospace/aeronautical engineering\"\t: 206,\n",
    "                    \"Chemical engineering\"\t: 576,\n",
    "                    \"Civil engineering\"\t: 506,\n",
    "                    \"Electrical engineering\" : 1236,\n",
    "                    \"Industrial/manufacturing engineering\" : 211,\n",
    "                    \"Materials science engineering\"\t: 393,\n",
    "                    \"Mechanical engineering\" : 786,\n",
    "                    \"Other engineering\" : 1416 }\n",
    "\n",
    "humanities_doc = {\"Foreign languages and literature\" : 626,\n",
    "                    \"History\" : 960,\n",
    "                    \"Letters\" : 1516,\n",
    "                    \"Other humanities\" : 1934}"
   ]
  },
  {
   "cell_type": "code",
   "execution_count": 57,
   "metadata": {},
   "outputs": [
    {
     "name": "stdout",
     "output_type": "stream",
     "text": [
      "{'Agricultural sciences': 1065, 'Biochemistry': 759, 'Molecular biology': 716, 'Neurosciences': 431, 'Other biological sciences': 3675, 'Computer sciences': 856, 'Earth, atmospheric, and ocean sciences': 706, 'Mathematics': 1083, 'Chemistry': 2132, 'Physics and astronomy': 715, 'Astrology': 2012, 'Psychology': 3668, 'Social sciences': 4063, 'Aerospace/aeronautical engineering': 206, 'Chemical engineering': 576, 'Civil engineering': 506, 'Electrical engineering': 1236, 'Industrial/manufacturing engineering': 211, 'Materials science engineering': 393, 'Mechanical engineering': 786, 'Other engineering': 1416, 'Foreign languages and literature': 626, 'History': 960, 'Letters': 1516, 'Other humanities': 1934}\n"
     ]
    }
   ],
   "source": [
    "#Exercise 1.4\n",
    "#merge these three dictionnaries in a all_doc dictionnary\n",
    "all_doc = {**science_doc, **engineering_doc, **humanities_doc}\n",
    "print(all_doc)"
   ]
  },
  {
   "cell_type": "code",
   "execution_count": 58,
   "metadata": {},
   "outputs": [
    {
     "data": {
      "text/plain": [
       "25"
      ]
     },
     "execution_count": 58,
     "metadata": {},
     "output_type": "execute_result"
    }
   ],
   "source": [
    "#what is the length of the all_doc dictionnary\n",
    "len(all_doc)"
   ]
  },
  {
   "cell_type": "code",
   "execution_count": 59,
   "metadata": {},
   "outputs": [
    {
     "name": "stdout",
     "output_type": "stream",
     "text": [
      "{'Agricultural sciences': 1065, 'Biochemistry': 759, 'Molecular biology': 716, 'Neurosciences': 431, 'Other biological sciences': 3675, 'Computer sciences': 856, 'Earth, atmospheric, and ocean sciences': 706, 'Mathematics': 1083, 'Chemistry': 2132, 'Physics and astronomy': 715, 'Astrology': 2012, 'Psychology': 3668, 'Social sciences': 4063, 'Aerospace/aeronautical engineering': 206, 'Chemical engineering': 576, 'Civil engineering': 506, 'Electrical engineering': 1236, 'Industrial/manufacturing engineering': 211, 'Materials science engineering': 393, 'Mechanical engineering': 786, 'Other engineering': 1416, 'Foreign languages and literature': 626, 'History': 960, 'Letters': 1516, 'Other humanities': 1934, 'Health': 1407}\n"
     ]
    }
   ],
   "source": [
    "#add the \"Health\" doctorates of the all_doc dictionnary, with 1407 degrees awarded.\n",
    "all_doc[\"Health\"] = 1407\n",
    "print(all_doc)"
   ]
  },
  {
   "cell_type": "code",
   "execution_count": 60,
   "metadata": {},
   "outputs": [
    {
     "data": {
      "text/plain": [
       "1430"
      ]
     },
     "execution_count": 60,
     "metadata": {},
     "output_type": "execute_result"
    }
   ],
   "source": [
    "#multiply by 2 the number of Physics and astronomy degrees in all_doc.\n",
    "all_doc[\"Physics and astronomy\"] *2"
   ]
  },
  {
   "cell_type": "code",
   "execution_count": 61,
   "metadata": {},
   "outputs": [
    {
     "name": "stdout",
     "output_type": "stream",
     "text": [
      "{'Agricultural sciences': 1065, 'Biochemistry': 759, 'Molecular biology': 716, 'Neurosciences': 431, 'Other biological sciences': 3675, 'Computer sciences': 856, 'Earth, atmospheric, and ocean sciences': 706, 'Mathematics': 1083, 'Chemistry': 2132, 'Physics and astronomy': 715, 'Psychology': 3668, 'Social sciences': 4063, 'Aerospace/aeronautical engineering': 206, 'Chemical engineering': 576, 'Civil engineering': 506, 'Electrical engineering': 1236, 'Industrial/manufacturing engineering': 211, 'Materials science engineering': 393, 'Mechanical engineering': 786, 'Other engineering': 1416, 'Foreign languages and literature': 626, 'History': 960, 'Letters': 1516, 'Other humanities': 1934, 'Health': 1407}\n"
     ]
    }
   ],
   "source": [
    "#remove the Astology key from all_doc.\n",
    "all_doc_backup = dict(all_doc)\n",
    "del all_doc[\"Astrology\"]\n",
    "print(all_doc)"
   ]
  },
  {
   "cell_type": "code",
   "execution_count": 95,
   "metadata": {},
   "outputs": [
    {
     "name": "stdout",
     "output_type": "stream",
     "text": [
      "True\n"
     ]
    }
   ],
   "source": [
    "#Exercise 1.5\n",
    "#set a variable called isDivisible to True if 7453102041884640481897 is evenly divisible by 135138672131\n",
    "a = 7453102041884640481897 / 135138672131\n",
    "decimal_a = a - int(a)\n",
    "isDivisible = \"False\" if decimal_a > 0 else \"True\"\n",
    "print(isDivisible)"
   ]
  },
  {
   "cell_type": "code",
   "execution_count": 98,
   "metadata": {},
   "outputs": [
    {
     "data": {
      "text/plain": [
       "6"
      ]
     },
     "execution_count": 98,
     "metadata": {},
     "output_type": "execute_result"
    }
   ],
   "source": [
    "#Exercise 1.6\n",
    "#Use the find() method to determine the position(s) of the motif \"CTCGA\":\n",
    "\n",
    "dna_string = \"GTGCCCCTCGAGAGGAGGGCGCGCGCCGCGCGCTCGACGCGATCGGCGCTCAGCGAGCGAGCTCCTCGAAGCGATCCGCGCGCGCT\"\n",
    "dna_string.find(\"CTCGA\")\n",
    "\n",
    "#What is a limitation here?\n",
    "#With the find function we are only searching for the first occurence of the motif"
   ]
  },
  {
   "cell_type": "code",
   "execution_count": 99,
   "metadata": {},
   "outputs": [
    {
     "data": {
      "text/plain": [
       "[6, 32, 64]"
      ]
     },
     "execution_count": 99,
     "metadata": {},
     "output_type": "execute_result"
    }
   ],
   "source": [
    "#Workaround for limitation in Exercise 1.6\n",
    "import re\n",
    "[m.start() for m in re.finditer(\"CTCGA\", dna_string)]\n",
    "\n",
    "\n",
    "#There is no simple built-in string function that does what you're looking for, but you could use the more powerful regular expressions:\n",
    "\n",
    "#import re\n",
    "#[m.start() for m in re.finditer('test', 'test test test test')]\n",
    "#[0, 5, 10, 15]\n",
    "\n",
    "#If you want to find overlapping matches, lookahead will do that:\n",
    "\n",
    "#[m.start() for m in re.finditer('(?=tt)', 'ttt')]\n",
    "#[0, 1]\n",
    "\n",
    "#If you want a reverse find-all without overlaps, you can combine positive and negative lookahead into an expression like this:\n",
    "\n",
    "#search = 'tt'\n",
    "#[m.start() for m in re.finditer('(?=%s)(?!.{1,%d}%s)' % (search, len(search)-1, search), 'ttt')]\n",
    "#[1]\n",
    "\n",
    "#re.finditer returns a generator, so you could change the [] in the above to () to get a generator instead of a list which will be more efficient if you're only iterating through the results once."
   ]
  },
  {
   "cell_type": "code",
   "execution_count": 103,
   "metadata": {},
   "outputs": [
    {
     "name": "stdout",
     "output_type": "stream",
     "text": [
      "['Zürich', 'Zug', 'Vaud', 'Valais', 'Uri', 'Ticino', 'Thurgau', 'St.Gallen', 'Solothurn', 'Schwyz', 'Schaffhausen', 'Obwalden', 'Nidwalden', 'Neuchâtel', 'Luzern', 'Jura', 'Graubünden', 'Glarus', 'Genève', 'Fribourg', 'Bern', 'Basel-Stadt', 'Basel-Landschaft', 'Appenzell Innerrhoden', 'Appenzell Ausserrhoden', 'Aargau']\n"
     ]
    }
   ],
   "source": [
    "#Exercise 1.7\n",
    "#Build a list containing the name of all swiss cantons. sort it and reverse it\n",
    "list_cantons = [\"Aargau\", \"Bern\", \"Fribourg\", \"Genève\", \"Glarus\", \"Graubünden\", \"Jura\", \"Luzern\", \"Neuchâtel\", \"St.Gallen\", \"Schaffhausen\", \"Schwyz\", \"Solothurn\", \"Thurgau\", \"Ticino\", \"Uri\", \"Valais\", \"Vaud\", \"Zug\", \"Zürich\", \"Appenzell Ausserrhoden\", \"Appenzell Innerrhoden\", \"Basel-Stadt\", \"Basel-Landschaft\", \"Obwalden\", \"Nidwalden\"]\n",
    "list_cantons.sort(reverse = True)\n",
    "print(list_cantons)"
   ]
  },
  {
   "cell_type": "code",
   "execution_count": 104,
   "metadata": {},
   "outputs": [
    {
     "name": "stdout",
     "output_type": "stream",
     "text": [
      "Help on function multiply in module __main__:\n",
      "\n",
      "multiply(argument1, argument2)\n",
      "    This function multiplies argument1 and argument2 \n",
      "    together and then returns the result.\n",
      "\n"
     ]
    }
   ],
   "source": [
    "#create a function\n",
    "\n",
    "def multiply(argument1, argument2):\n",
    "    \"\"\" \n",
    "    This function multiplies argument1 and argument2 \n",
    "    together and then returns the result.\n",
    "    \"\"\"\n",
    "    print('Argument 1 is' , argument1 )\n",
    "    print('Argument 2 is' , argument2 )\n",
    "    result = argument1 * argument2\n",
    "    return result\n",
    "\n",
    "help(multiply)"
   ]
  },
  {
   "cell_type": "code",
   "execution_count": 105,
   "metadata": {},
   "outputs": [
    {
     "name": "stdout",
     "output_type": "stream",
     "text": [
      "Argument 1 is 12\n",
      "Argument 2 is 47\n",
      "The multiplication result is: 564 \n",
      "\n",
      "Argument 1 is 12\n",
      "Argument 2 is 47\n",
      "The multiplication result is: 564 \n",
      "\n"
     ]
    }
   ],
   "source": [
    "result = multiply(12, 47)\n",
    "print(\"The multiplication result is:\", result, \"\\n\")\n",
    "\n",
    "result = multiply(argument2=47, argument1=12)\n",
    "print(\"The multiplication result is:\", result, \"\\n\")"
   ]
  },
  {
   "cell_type": "code",
   "execution_count": 106,
   "metadata": {},
   "outputs": [
    {
     "name": "stdout",
     "output_type": "stream",
     "text": [
      "Argument 1 is 12\n",
      "Argument 2 is 47\n",
      "The inverse of the result is: 0.0017730496453900709\n"
     ]
    }
   ],
   "source": [
    "r = multiply(12, 47)   # I redirect the output value of the function to variable r\n",
    "# I am now free to manipulate r:\n",
    "print('The inverse of the result is:', 1 / r)"
   ]
  },
  {
   "cell_type": "code",
   "execution_count": 113,
   "metadata": {},
   "outputs": [
    {
     "name": "stdout",
     "output_type": "stream",
     "text": [
      "success\n"
     ]
    }
   ],
   "source": [
    "l = [7, 125, 48, 52, 2, 22, 1]\n",
    "a = 7   #for success, a has to be in l and >0\n",
    "b = 7   #for success, b has to be in l\n",
    "\n",
    "if not a in l or ( a > 0 and not b in l ) :\n",
    "    print('did you follow this?')\n",
    "    print('could you set a and/or b so that the whole expression becomes False?')\n",
    "else:\n",
    "    print('success')"
   ]
  },
  {
   "cell_type": "code",
   "execution_count": null,
   "metadata": {},
   "outputs": [],
   "source": [
    "while loops\n",
    "\n",
    "A loop is a block of code which will be repeated a certain number of time.\n",
    "Similar to the if keyword, the while keyword followed by an expression defines a block that is executed only if the given statement is True.\n",
    "\n",
    "The difference is that at the end of the block the while statement is evaluated again, and if it is still True then the block gets executed again.\n"
   ]
  }
 ],
 "metadata": {
  "kernelspec": {
   "display_name": "Python 3",
   "language": "python",
   "name": "python3"
  },
  "language_info": {
   "codemirror_mode": {
    "name": "ipython",
    "version": 3
   },
   "file_extension": ".py",
   "mimetype": "text/x-python",
   "name": "python",
   "nbconvert_exporter": "python",
   "pygments_lexer": "ipython3",
   "version": "3.6.5"
  }
 },
 "nbformat": 4,
 "nbformat_minor": 2
}

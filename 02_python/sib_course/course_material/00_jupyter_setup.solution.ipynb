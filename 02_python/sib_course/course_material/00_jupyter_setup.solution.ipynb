{
 "cells": [
  {
   "cell_type": "markdown",
   "metadata": {},
   "source": [
    "\n",
    "# Exercises\n",
    "\n",
    "## exercise 0.1\n",
    "\n",
    "* Create a new cell in the jupyter notebook.\n",
    "* Set it as a markdown cell.\n",
    "* Write your favorite quote in there and \"execute the cell\".\n",
    "\n",
    "\n",
    "\n"
   ]
  },
  {
   "cell_type": "markdown",
   "metadata": {},
   "source": [
    "Gracieux : « aimez-vous à ce point les oiseaux\n",
    "\n",
    "Que paternellement vous vous préoccupâtes\n",
    "\n",
    "De tendre ce perchoir à leurs petites pattes ? »"
   ]
  },
  {
   "cell_type": "markdown",
   "metadata": {},
   "source": [
    "## exercise 0.2\n",
    "\n",
    "* Create a new cell in the jupyter notebook.\n",
    "* Set it as a code cell.\n",
    "* Print \"Hello, world!\" to the screen (remember to execute the cell to actually activate your code)."
   ]
  },
  {
   "cell_type": "code",
   "execution_count": 1,
   "metadata": {},
   "outputs": [
    {
     "name": "stdout",
     "output_type": "stream",
     "text": [
      "Hello, world!\n"
     ]
    }
   ],
   "source": [
    "print(\"Hello, world!\")"
   ]
  }
 ],
 "metadata": {
  "kernelspec": {
   "display_name": "Python 3",
   "language": "python",
   "name": "python3"
  },
  "language_info": {
   "codemirror_mode": {
    "name": "ipython",
    "version": 3
   },
   "file_extension": ".py",
   "mimetype": "text/x-python",
   "name": "python",
   "nbconvert_exporter": "python",
   "pygments_lexer": "ipython3",
   "version": "3.7.4"
  }
 },
 "nbformat": 4,
 "nbformat_minor": 2
}

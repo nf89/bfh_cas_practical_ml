{
 "cells": [
  {
   "cell_type": "code",
   "execution_count": 21,
   "metadata": {},
   "outputs": [
    {
     "name": "stdout",
     "output_type": "stream",
     "text": [
      "2\n",
      "321431\n",
      "last char in test_string g\n",
      "six\n",
      "33\n",
      "['six', 33]\n",
      "{'six': 33}\n",
      "The value of c is test string\n",
      "The condition is false\n",
      "While loop that runs 10 times\n",
      "While loop that runs 10 times\n",
      "While loop that runs 10 times\n",
      "While loop that runs 10 times\n",
      "While loop that runs 10 times\n",
      "While loop that runs 10 times\n",
      "While loop that runs 10 times\n",
      "While loop that runs 10 times\n",
      "While loop that runs 10 times\n",
      "While loop that runs 10 times\n"
     ]
    }
   ],
   "source": [
    "#recap\n",
    "#object types\n",
    "a = 2 #integer\n",
    "b = 4.3 #float\n",
    "c = True #boolean\n",
    "test_string = \"test string\"\n",
    "test_list = [1, 2, 3, 4, \"five\",[\"six\",33]] #with sublist\n",
    "test_list_dict = [1, 2, 3, 4, \"five\",{\"six\":33}] #with sublist\n",
    "test_dict = {\"Aargau\": 321431, \"Bern\": 1012984} #dictionary with pairs of keys and values\n",
    "\n",
    "print(test_list[1]) #this gives me the second value in my list\n",
    "print(test_dict[\"Aargau\"]) #this gives me the value for Aargau (dictionaries have no order and therefore name of key has to be defined)\n",
    "print(\"last char in test_string\",test_string[-1])\n",
    "sublist = test_list[5] #sublist_specval = test_list[5][1] gives me the second value from the sublist\n",
    "for x in sublist:\n",
    "    print(x)\n",
    "#test list for types of values\n",
    "\n",
    "for x in test_list:\n",
    "    if isinstance(x, list):\n",
    "        print(x)\n",
    "        \n",
    "        \n",
    "subdict = test_list_dict[5][\"six\"] #sublist_specval = test_list[5][1] gives me the second value from the sublist\n",
    "for x in test_list_dict:\n",
    "    if isinstance(x, dict):\n",
    "        print(x)"
   ]
  },
  {
   "cell_type": "code",
   "execution_count": 22,
   "metadata": {},
   "outputs": [
    {
     "name": "stdout",
     "output_type": "stream",
     "text": [
      "1\n",
      "3\n",
      "5\n",
      "7\n",
      "9\n",
      "11\n"
     ]
    }
   ],
   "source": [
    "#code flow\n",
    "if test_string:    #this is a shortcut for if test_string != \"\"\n",
    "    print(\"The value of c is\", test_string)\n",
    "else:\n",
    "    print(\"The condition is false\")\n",
    "\n",
    "if test_string == 'abc':\n",
    "    print(\"The value of c is\", test_string)\n",
    "elif test_string == 'def':\n",
    "    pass                    #do nothing\n",
    "\n",
    "elif test_string == 'new example':\n",
    "    print('hooray')\n",
    "else:\n",
    "    print(\"The condition is false\")\n",
    "    \n",
    "#if x in range(10):    #loop starts 10 times\n",
    "#    print(x)\n",
    "\n",
    "counter = 0\n",
    "while c:\n",
    "    print(\"While loop that runs 10 times\")\n",
    "    counter += 1 #counter = counter + 1    \n",
    "    if counter == 10:\n",
    "        break                    #exits the loop\n",
    "\n",
    "\n",
    "counter = 0\n",
    "while c:\n",
    "    counter += 1                #this is now here because otherwise counter would be stuck at 0\n",
    "    if counter % 2 ==0:         #if counter is odd print(counter)\n",
    "        continue\n",
    "    print(counter)\n",
    "    if counter >= 10:\n",
    "        break                    #exits the loop"
   ]
  },
  {
   "cell_type": "code",
   "execution_count": 33,
   "metadata": {},
   "outputs": [
    {
     "name": "stdout",
     "output_type": "stream",
     "text": [
      "Hello Alice (ID: 1234). How are you doing?\n",
      "Hello Alice (ID: 1234). What's going on?\n"
     ]
    }
   ],
   "source": [
    "#functions\n",
    "def greetings(name, ID, question = 'How are you doing?'):  #the question value is optional, name and ID are positional and not optional\n",
    "    print(\"Hello \", name,' (ID: ', ID, '). ', question, sep = '')\n",
    "    \n",
    "greetings('Alice', 1234)\n",
    "greetings('Alice', 1234, question = \"What's going on?\") #default value can be overwriten"
   ]
  },
  {
   "cell_type": "code",
   "execution_count": 45,
   "metadata": {},
   "outputs": [
    {
     "name": "stdout",
     "output_type": "stream",
     "text": [
      "passionfruit\n",
      "oranges\n",
      "apples\n",
      "grapefruit (whole and segments)\n",
      "pointed sticks\n",
      "passionfruit\n",
      "oranges\n",
      "apples\n",
      "grapefruit (whole and segments)\n",
      "pointed sticks\n"
     ]
    }
   ],
   "source": [
    "#read/write files\n",
    "#with for loop (better option)\n",
    "file_name = 'fresh_fruits.txt'\n",
    "with open(file_name, mode = 'r') as file:\n",
    "    for a in file: #a equals a line\n",
    "        print(a.strip())\n",
    "\n",
    "        \n",
    "#with while loop\n",
    "file_name = 'fresh_fruits.txt'\n",
    "with open(file_name, mode = 'r') as file:\n",
    "    line = file.readline()\n",
    "    while line:\n",
    "        print(line.strip())\n",
    "        line = file.readline()"
   ]
  },
  {
   "cell_type": "code",
   "execution_count": null,
   "metadata": {},
   "outputs": [],
   "source": []
  }
 ],
 "metadata": {
  "kernelspec": {
   "display_name": "Python 3",
   "language": "python",
   "name": "python3"
  },
  "language_info": {
   "codemirror_mode": {
    "name": "ipython",
    "version": 3
   },
   "file_extension": ".py",
   "mimetype": "text/x-python",
   "name": "python",
   "nbconvert_exporter": "python",
   "pygments_lexer": "ipython3",
   "version": "3.6.5"
  }
 },
 "nbformat": 4,
 "nbformat_minor": 2
}

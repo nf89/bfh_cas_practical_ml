{
 "cells": [
  {
   "cell_type": "code",
   "execution_count": 5,
   "metadata": {},
   "outputs": [
    {
     "name": "stdout",
     "output_type": "stream",
     "text": [
      "line 0 : passionfruit\n",
      "\n",
      "line 1 : oranges\n",
      "\n",
      "line 2 : apples\n",
      "\n",
      "line 3 : grapefruit (whole and segments)\n",
      "\n",
      "line 4 : pointed sticks\n"
     ]
    }
   ],
   "source": [
    "reading_handle = open('fresh_fruits.txt' , 'r')\n",
    "\n",
    "i = 0\n",
    "for c in reading_handle:\n",
    "    print('line', i, ':', c)\n",
    "    i += 1\n",
    "    \n",
    "reading_handle.close()"
   ]
  },
  {
   "cell_type": "code",
   "execution_count": 6,
   "metadata": {},
   "outputs": [
    {
     "name": "stdout",
     "output_type": "stream",
     "text": [
      "line 0 : passionfruit\n",
      "line 1 : oranges\n",
      "line 2 : apples\n",
      "line 3 : grapefruit (whole and segments)\n",
      "line 4 : pointed sticks\n"
     ]
    }
   ],
   "source": [
    "reading_handle = open('fresh_fruits.txt', 'r')\n",
    "i = 0\n",
    "line = reading_handle.readline()\n",
    "\n",
    "# When the file has been entirely read, readline() returns an empty string and the while loop will end.\n",
    "# In python a non empty string evalutes to \"True\", and therefore we can use \"while line\" as a shortcut for \"while line != '' \".\n",
    "while line:\n",
    "    print('line', i, ':', line.strip())    # Note: here we use the \"strip()\" method of \"str\" to remove the trailing \"\\n\" (carriage return) of each line.\n",
    "    line = reading_handle.readline()       # Don't forget this or you will have an infinite loop.\n",
    "    i += 1\n",
    "    \n",
    "reading_handle.close()"
   ]
  },
  {
   "cell_type": "code",
   "execution_count": 11,
   "metadata": {},
   "outputs": [
    {
     "name": "stdout",
     "output_type": "stream",
     "text": [
      "line 0 : passionfruit\n",
      "line 1 : oranges\n",
      "line 2 : apples\n",
      "line 3 : grapefruit (whole and segments)\n",
      "line 4 : pointed sticks\n"
     ]
    }
   ],
   "source": [
    "with open('fresh_fruits.txt', 'r') as file:\n",
    "    for i, line in enumerate(file):\n",
    "        print('line', i, ':', line.strip())\n",
    "        \n",
    "# Wait, did we just forget to close our file ?\n",
    "# No! With statement already makes sure that file is closed after code!"
   ]
  },
  {
   "cell_type": "code",
   "execution_count": 3,
   "metadata": {},
   "outputs": [
    {
     "name": "stdout",
     "output_type": "stream",
     "text": [
      "passionfruit\n",
      "oranges\n",
      "apples\n",
      "grapefruit (whole and segments)\n",
      "pointed sticks\n"
     ]
    }
   ],
   "source": [
    "#Mini Exercise:\n",
    "#Read the content of fresh_fruits.txt using a context manager and a while loop. Make sure to remove empty lines between print outputs.\n",
    "\n",
    "with open('fresh_fruits.txt', 'r') as IN:\n",
    "    l = IN.readline()                       #l = one line from file_with_wl\n",
    "    while l != \"\":\n",
    "        print(l.strip())\n",
    "        l = IN.readline()\n"
   ]
  },
  {
   "cell_type": "code",
   "execution_count": 6,
   "metadata": {},
   "outputs": [
    {
     "data": {
      "text/plain": [
       "<_io.TextIOWrapper name='shopping_list.txt' mode='w' encoding='cp1252'>"
      ]
     },
     "execution_count": 6,
     "metadata": {},
     "output_type": "execute_result"
    }
   ],
   "source": [
    "with open(\"shopping_list.txt\", 'w') as writing_handle:\n",
    "    print(\"onion\", file = writing_handle)\n",
    "    print( 34 , \"potato\" , file = writing_handle)\n",
    "    print(\"shrubbery\", file = writing_handle)\n",
    "    print(\"tomato sauce\", file = writing_handle)"
   ]
  },
  {
   "cell_type": "code",
   "execution_count": 9,
   "metadata": {},
   "outputs": [
    {
     "name": "stdout",
     "output_type": "stream",
     "text": [
      "onion\n",
      "34 potato\n",
      "shrubbery\n",
      "tomato sauce\n"
     ]
    }
   ],
   "source": [
    "#Mini Exercise:\n",
    "#Write some code to read the content of the shopping_list.txt file we just created, in order to check that the writing did work properly. Make sure that no white space is printed between lines.\n",
    "\n",
    "with open('shopping_list.txt', 'r') as file:\n",
    "    for i, line in enumerate(file):\n",
    "        print('line', i, ':', line.strip())\n"
   ]
  },
  {
   "cell_type": "code",
   "execution_count": 35,
   "metadata": {},
   "outputs": [],
   "source": [
    "#Exercise 3.1\n",
    "#Write a function that reads the first 10 lines of the file Homo_sapiens.GRCh38.99.MT.gtf and writes them to another file.\n",
    "\n",
    "with open('Homo_sapiens.GRCh38.99.MT.gtf', 'r') as hs_gtf, open('Homo_sapiens.GRCh38.99.MT.t10.gtf', 'w') as hs_gtf_top10:\n",
    "\n",
    "    number_of_lines = 10\n",
    "\n",
    "    for i in range(number_of_lines):\n",
    "\n",
    "        line = hs_gtf.readline()\n",
    "        print(line.strip(),file = hs_gtf_top10)\n",
    "        i += 1  \n",
    "\n",
    "\n"
   ]
  },
  {
   "cell_type": "code",
   "execution_count": 53,
   "metadata": {},
   "outputs": [
    {
     "ename": "SyntaxError",
     "evalue": "invalid syntax (<ipython-input-53-6cf9bb600e02>, line 21)",
     "output_type": "error",
     "traceback": [
      "\u001b[1;36m  File \u001b[1;32m\"<ipython-input-53-6cf9bb600e02>\"\u001b[1;36m, line \u001b[1;32m21\u001b[0m\n\u001b[1;33m    if ((cols[4] >= 7500 and cols[4] <= 10000) or (cols[5] >= 7500 and cols[5] <= 10000)) and cols[7] = \"+\":\u001b[0m\n\u001b[1;37m                                                                                                      ^\u001b[0m\n\u001b[1;31mSyntaxError\u001b[0m\u001b[1;31m:\u001b[0m invalid syntax\n"
     ]
    }
   ],
   "source": [
    "#Exercise 3.2\n",
    "#Using the same Homo_sapiens.GRCh38.99.MT.gtf GFF file you used in the previous exercise, report (print to terminal) all of the feature entries for genes on the mitochondrial chromosome (MT) between coordinates 7500 and 10000 on the forward strand.\n",
    "#The complete GFF file format description can be found here, but here is a succint description:\n",
    "    #Column 1: chromosome\n",
    "    #Column 2: data source\n",
    "    #Column 3: feature type\n",
    "    #Column 4: feature start coordinate\n",
    "    #Column 5: feature end coordinate\n",
    "    #Column 6: score\n",
    "    #Column 7: strand\n",
    "#hint: use the split() method; what is the separator between fields?\n",
    "\n",
    "\n",
    "#with open('Homo_sapiens.GRCh38.99.MT.gtf', 'r') as hs_gtf, open('Homo_sapiens.GRCh38.99.MT.coord.gtf', 'w') as hs_gtf_coord:\n",
    "    #i = 0\n",
    "    \n",
    "with open('Homo_sapiens.GRCh38.99.MT.gtf', 'r') as hs_gtf:\n",
    "    line = hs_gtf.readline()\n",
    "    cols = line.strip().split(\"\\t\")\n",
    "\n",
    "    if ((cols[4] >= 7500 and cols[4] <= 10000) or (cols[5] >= 7500 and cols[5] <= 10000)) and cols[7] = \"+\":\n",
    "        print(line.strip())\n",
    "        #line = hs_gtf.readline()\n",
    "\n"
   ]
  },
  {
   "cell_type": "code",
   "execution_count": null,
   "metadata": {},
   "outputs": [],
   "source": []
  }
 ],
 "metadata": {
  "kernelspec": {
   "display_name": "Python 3",
   "language": "python",
   "name": "python3"
  },
  "language_info": {
   "codemirror_mode": {
    "name": "ipython",
    "version": 3
   },
   "file_extension": ".py",
   "mimetype": "text/x-python",
   "name": "python",
   "nbconvert_exporter": "python",
   "pygments_lexer": "ipython3",
   "version": "3.6.5"
  }
 },
 "nbformat": 4,
 "nbformat_minor": 2
}

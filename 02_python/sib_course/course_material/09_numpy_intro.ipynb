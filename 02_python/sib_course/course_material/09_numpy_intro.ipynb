{
 "cells": [
  {
   "cell_type": "markdown",
   "metadata": {},
   "source": [
    "# NumPy introduction and statistics in python with sciPy\n",
    "\n",
    "\n",
    "**www.numpy.org**\n",
    "\n",
    "NumPy is the fundamental package for scientific computing with Python.\n",
    "\n",
    "#### Highlights\n",
    "\n",
    "* a powerful N-dimensional array object\n",
    "* Efficient, broadcasting functions\n",
    "* tools for integrating C/C++ and Fortran code\n",
    "* useful linear algebra, Fourier transform, and random number capabilities\n"
   ]
  },
  {
   "cell_type": "markdown",
   "metadata": {},
   "source": [
    "## Why NumPy?\n",
    "\n",
    "* NumPy arrays is faster than standard python lists\n",
    "* NumPy functions allows to write many operations with much less code\n",
    "* NumPy functions are faster than naive Python implementation\n",
    "* Great collection of mathematical functions available (numpy, scipy, sympy)"
   ]
  },
  {
   "cell_type": "markdown",
   "metadata": {},
   "source": [
    "## How to start?"
   ]
  },
  {
   "cell_type": "code",
   "execution_count": 5,
   "metadata": {},
   "outputs": [],
   "source": [
    "# loading numpy module\n",
    "import numpy as np"
   ]
  },
  {
   "cell_type": "markdown",
   "metadata": {},
   "source": [
    "## The heart of NumPy: array\n",
    "\n",
    "NumPy's main object is the **homogeneous** multidimensional array.\n",
    "\n",
    "Arrays are very efficient for operations with large numerical data and in general outperform standard Python lists."
   ]
  },
  {
   "cell_type": "code",
   "execution_count": 6,
   "metadata": {},
   "outputs": [
    {
     "name": "stdout",
     "output_type": "stream",
     "text": [
      "my_array:\n",
      " [[1. 2. 3.]\n",
      " [4. 5. 6.]]\n",
      "my_array dimentions: (2, 3)\n",
      "my_array number of elements: 6\n",
      "my_array type of elements float64\n"
     ]
    }
   ],
   "source": [
    "my_array = np.array([[1.,2.,3.],[4.,5.,6.]])\n",
    "print(\"my_array:\\n\", my_array)\n",
    "print(\"my_array dimentions:\", my_array.shape)\n",
    "print(\"my_array number of elements:\", my_array.size)\n",
    "print(\"my_array type of elements\", my_array.dtype)"
   ]
  },
  {
   "cell_type": "markdown",
   "metadata": {},
   "source": [
    "One great functionnality of numpy arrays is that it is painfully easy to perform an operation over the entirety of the elements in the array :"
   ]
  },
  {
   "cell_type": "code",
   "execution_count": 7,
   "metadata": {},
   "outputs": [],
   "source": [
    "my_result =  my_array * 3 # multiply by 3 all elements in the array\n",
    "\n",
    "#compare with a native python equivalent :\n",
    "my_list=[[1.,2.,3.],[4.,5.,6.]]\n",
    "my_result2 = [[0,0,0],[0,0,0]]\n",
    "for i  in range(len(my_list)):\n",
    "    for j in range(len(my_list[i])):\n",
    "        my_result2[i][j] = my_list[i][j] * 3\n",
    "        "
   ]
  },
  {
   "cell_type": "markdown",
   "metadata": {},
   "source": [
    "Numpy is also able to make the most out of the constraint of homogeneity in the array data to provide amazing speed-ups :"
   ]
  },
  {
   "cell_type": "code",
   "execution_count": 15,
   "metadata": {},
   "outputs": [
    {
     "name": "stdout",
     "output_type": "stream",
     "text": [
      "native timing : 0.514258861541748\n",
      "numpy timing : 0.00655055046081543\n",
      "numpy acceleration factor : 78.50620564149227\n"
     ]
    }
   ],
   "source": [
    "from time import time\n",
    "native_data = [x for x in range(10**7)]\n",
    "numpy_data = np.array(native_data)\n",
    "\n",
    "t0 = time()\n",
    "numpy_data *= 3\n",
    "t1 = time()\n",
    "numpyTime = t1-t0\n",
    "\n",
    "t0 = time()\n",
    "native_data = [ x*3 for x in native_data ]\n",
    "t1 = time()\n",
    "nativeTime = t1-t0\n",
    "\n",
    "print(\"native timing :\",nativeTime)\n",
    "print(\"numpy timing :\",numpyTime)\n",
    "print(\"numpy acceleration factor :\" , nativeTime / numpyTime )"
   ]
  },
  {
   "cell_type": "markdown",
   "metadata": {},
   "source": [
    "So, let's familiarize ourselves with the numpy array."
   ]
  },
  {
   "cell_type": "markdown",
   "metadata": {},
   "source": [
    "## How to create  NumPy array?"
   ]
  },
  {
   "cell_type": "markdown",
   "metadata": {},
   "source": [
    "### Creating arrays from lists"
   ]
  },
  {
   "cell_type": "code",
   "execution_count": 78,
   "metadata": {},
   "outputs": [
    {
     "name": "stdout",
     "output_type": "stream",
     "text": [
      "my_array: <class 'numpy.ndarray'> [1 2 3]\n"
     ]
    }
   ],
   "source": [
    "# one dimentional array\n",
    "my_array = np.array([1,2,3])\n",
    "print(\"my_array:\", type(my_array), my_array)"
   ]
  },
  {
   "cell_type": "code",
   "execution_count": 79,
   "metadata": {},
   "outputs": [
    {
     "name": "stdout",
     "output_type": "stream",
     "text": [
      "my_array: <class 'numpy.ndarray'>\n",
      "[[1 2 3]\n",
      " [4 5 6]]\n"
     ]
    }
   ],
   "source": [
    "# two dimentional array\n",
    "my_array = np.array([[1,2,3],[4,5,6]])\n",
    "print(\"my_array:\", type(my_array))\n",
    "print(my_array)"
   ]
  },
  {
   "cell_type": "markdown",
   "metadata": {},
   "source": [
    "### Creating arrays with functions"
   ]
  },
  {
   "cell_type": "code",
   "execution_count": 81,
   "metadata": {},
   "outputs": [
    {
     "name": "stdout",
     "output_type": "stream",
     "text": [
      "[[ 0.  0.  0.  0.  0.]\n",
      " [ 0.  0.  0.  0.  0.]\n",
      " [ 0.  0.  0.  0.  0.]]\n"
     ]
    }
   ],
   "source": [
    "# array filled with zeroes\n",
    "my_array = np.zeros((3,5)) # ( number of rows , number of columns )\n",
    "print(my_array)"
   ]
  },
  {
   "cell_type": "code",
   "execution_count": 82,
   "metadata": {},
   "outputs": [
    {
     "name": "stdout",
     "output_type": "stream",
     "text": [
      "[[ 1.  1.]\n",
      " [ 1.  1.]\n",
      " [ 1.  1.]\n",
      " [ 1.  1.]]\n"
     ]
    }
   ],
   "source": [
    "# array filled with ones\n",
    "my_array = np.ones((4,2))\n",
    "print(my_array)"
   ]
  },
  {
   "cell_type": "code",
   "execution_count": 20,
   "metadata": {},
   "outputs": [
    {
     "name": "stdout",
     "output_type": "stream",
     "text": [
      "[[42 42 42]\n",
      " [42 42 42]]\n"
     ]
    }
   ],
   "source": [
    "# array filled with desired number\n",
    "my_array = np.full((2,3), 42)\n",
    "print(my_array)"
   ]
  },
  {
   "cell_type": "code",
   "execution_count": 19,
   "metadata": {},
   "outputs": [
    {
     "name": "stdout",
     "output_type": "stream",
     "text": [
      "[[1. 0. 0. 0.]\n",
      " [0. 1. 0. 0.]\n",
      " [0. 0. 1. 0.]\n",
      " [0. 0. 0. 1.]]\n"
     ]
    }
   ],
   "source": [
    "## identity matrix\n",
    "my_array = np.eye(4,4,0) \n",
    "# the first 2 arguments give the matrix dimensions and the 3rd argument specify where the main diagnoal will be\n",
    "print(my_array)"
   ]
  },
  {
   "cell_type": "code",
   "execution_count": 21,
   "metadata": {},
   "outputs": [
    {
     "name": "stdout",
     "output_type": "stream",
     "text": [
      "[[0.2066392  0.5245414 ]\n",
      " [0.28290859 0.2211281 ]]\n"
     ]
    }
   ],
   "source": [
    "my_array = np.random.rand(2,2) # random numbers from a uniform distribution between 0.0 and 1.0\n",
    "print(my_array)"
   ]
  },
  {
   "cell_type": "markdown",
   "metadata": {},
   "source": [
    "### Arange function\n",
    "\n",
    "Generate one-dimentional array of evenly spaced numbers."
   ]
  },
  {
   "cell_type": "code",
   "execution_count": 85,
   "metadata": {},
   "outputs": [
    {
     "name": "stdout",
     "output_type": "stream",
     "text": [
      "[0 1 2 3 4 5]\n"
     ]
    }
   ],
   "source": [
    "my_array = np.arange(6)\n",
    "print(my_array)"
   ]
  },
  {
   "cell_type": "code",
   "execution_count": 22,
   "metadata": {},
   "outputs": [
    {
     "name": "stdout",
     "output_type": "stream",
     "text": [
      "[1.1 2.2 3.3 4.4 5.5]\n"
     ]
    }
   ],
   "source": [
    "# support float start/end points, as well as float steps\n",
    "my_array = np.arange(1.1, 6 , 1.1) #start , stop , step\n",
    "print(my_array)"
   ]
  },
  {
   "cell_type": "markdown",
   "metadata": {},
   "source": [
    "### Array reshaping\n",
    "\n",
    "**numpy.reshape** changes the shape of an array without changing its data"
   ]
  },
  {
   "cell_type": "code",
   "execution_count": 28,
   "metadata": {},
   "outputs": [
    {
     "name": "stdout",
     "output_type": "stream",
     "text": [
      "[1.1 1.8 2.5 3.2 3.9 4.6 5.3 6. ]\n"
     ]
    }
   ],
   "source": [
    "# 1D array\n",
    "my_array = np.arange(1.1, 6, 0.7)\n",
    "print(my_array)"
   ]
  },
  {
   "cell_type": "code",
   "execution_count": 32,
   "metadata": {},
   "outputs": [
    {
     "name": "stdout",
     "output_type": "stream",
     "text": [
      "[[1.1 1.8 2.5 3.2]\n",
      " [3.9 4.6 5.3 6. ]]\n"
     ]
    }
   ],
   "source": [
    "# 2D array\n",
    "print(np.reshape(my_array, (2,4)))"
   ]
  },
  {
   "cell_type": "code",
   "execution_count": 34,
   "metadata": {},
   "outputs": [
    {
     "name": "stdout",
     "output_type": "stream",
     "text": [
      "[[[1.1 1.8]\n",
      "  [2.5 3.2]]\n",
      "\n",
      " [[3.9 4.6]\n",
      "  [5.3 6. ]]]\n"
     ]
    }
   ],
   "source": [
    "# 3D array\n",
    "print(np.reshape(my_array, (2,2,2), order=\"C\"))\n"
   ]
  },
  {
   "cell_type": "markdown",
   "metadata": {},
   "source": [
    "### Reading arrays from files"
   ]
  },
  {
   "cell_type": "markdown",
   "metadata": {},
   "source": [
    "**numpy.loadtxt**(fname, dtype=&lt;type float>, comments='#', delimiter=None, converters=None, skiprows=0, usecols=None, unpack=False, ndmin=0)"
   ]
  },
  {
   "cell_type": "code",
   "execution_count": 36,
   "metadata": {
    "scrolled": true
   },
   "outputs": [
    {
     "name": "stdout",
     "output_type": "stream",
     "text": [
      "a b c\r\n",
      "0.286368595465 0.0284349169133 0.561298539899\r\n",
      "0.662679670119 0.718228561506 0.79446312338"
     ]
    }
   ],
   "source": [
    "!cat test.tab"
   ]
  },
  {
   "cell_type": "code",
   "execution_count": 140,
   "metadata": {},
   "outputs": [
    {
     "name": "stdout",
     "output_type": "stream",
     "text": [
      "[['a' 'b' 'c']\n",
      " ['0.286368595465' '0.0284349169133' '0.561298539899']\n",
      " ['0.662679670119' '0.718228561506' '0.79446312338']]\n"
     ]
    },
    {
     "data": {
      "text/plain": [
       "array([['a', 'b', 'c'],\n",
       "       ['0.286368595465', '0.0284349169133', '0.561298539899'],\n",
       "       ['0.662679670119', '0.718228561506', '0.79446312338']],\n",
       "      dtype='<U15')"
      ]
     },
     "execution_count": 140,
     "metadata": {},
     "output_type": "execute_result"
    }
   ],
   "source": [
    "my_array = np.loadtxt(\"test.tab\",  dtype= np.str,delimiter=\" \")\n",
    "print(my_array)"
   ]
  },
  {
   "cell_type": "markdown",
   "metadata": {},
   "source": [
    " * There is a more sophisticated function for handling files with complex formating : **numpy.genfromtxt**.\n",
    " * For complex cases, the use of other libraries or custom parsers is required."
   ]
  },
  {
   "cell_type": "markdown",
   "metadata": {},
   "source": [
    "### Writing an array to a file"
   ]
  },
  {
   "cell_type": "markdown",
   "metadata": {},
   "source": [
    "**numpy.savetxt**(fname, X, fmt='%.18e', delimiter=' ', newline='\\n', header='', footer='', comments='# ')"
   ]
  },
  {
   "cell_type": "code",
   "execution_count": 99,
   "metadata": {
    "collapsed": true
   },
   "outputs": [],
   "source": [
    "my_array = np.array([[1,2,3], [4,5,6]])\n",
    "np.savetxt(\"test_out.tab\", my_array, fmt=\"%d\", delimiter=\"\\t\",\n",
    "           header=\"# my sample\\n#test\", comments=\"\")"
   ]
  },
  {
   "cell_type": "code",
   "execution_count": 100,
   "metadata": {},
   "outputs": [
    {
     "name": "stdout",
     "output_type": "stream",
     "text": [
      "# my sample\r\n",
      "#test\r\n",
      "1\t2\t3\r\n",
      "4\t5\t6\r\n"
     ]
    }
   ],
   "source": [
    "!cat test_out.tab"
   ]
  },
  {
   "cell_type": "markdown",
   "metadata": {},
   "source": [
    "## How to access data in an array?\n",
    "\n",
    "### Indexing"
   ]
  },
  {
   "cell_type": "markdown",
   "metadata": {
    "collapsed": true
   },
   "source": [
    "* One-dimensional arrays are accessed the same way as standard lists in python\n",
    "* Multi-dimensional arrays are accessed by indices along every axis. These indices are separated by comas and given in square brackets"
   ]
  },
  {
   "cell_type": "code",
   "execution_count": 101,
   "metadata": {
    "scrolled": true
   },
   "outputs": [
    {
     "name": "stdout",
     "output_type": "stream",
     "text": [
      "[[ 1.  2.  3.]\n",
      " [ 4.  5.  6.]\n",
      " [ 7.  8.  9.]]\n"
     ]
    }
   ],
   "source": [
    "my_array = np.arange(1., 10.).reshape((3,3))\n",
    "print(my_array)"
   ]
  },
  {
   "cell_type": "code",
   "execution_count": 102,
   "metadata": {},
   "outputs": [
    {
     "name": "stdout",
     "output_type": "stream",
     "text": [
      "4.0\n",
      "row: [ 4.  5.  6.]\n"
     ]
    }
   ],
   "source": [
    "# accessing a single element in standard way\n",
    "print(my_array[1][0])\n",
    "# accessing a row  in the standard way\n",
    "print(\"row:\", my_array[1])"
   ]
  },
  {
   "cell_type": "markdown",
   "metadata": {},
   "source": [
    "In NumPy indices are given in square brackets and separated by coma."
   ]
  },
  {
   "cell_type": "code",
   "execution_count": 29,
   "metadata": {
    "scrolled": true
   },
   "outputs": [
    {
     "name": "stdout",
     "output_type": "stream",
     "text": [
      "4.0\n"
     ]
    }
   ],
   "source": [
    "# accessing a single element in numpy way\n",
    "print(my_array[1,0])"
   ]
  },
  {
   "cell_type": "markdown",
   "metadata": {},
   "source": [
    "### Slicing\n",
    "\n",
    "Accessing a subset of an array."
   ]
  },
  {
   "cell_type": "code",
   "execution_count": 103,
   "metadata": {},
   "outputs": [
    {
     "name": "stdout",
     "output_type": "stream",
     "text": [
      "[[ 1.  2.  3.]\n",
      " [ 4.  5.  6.]\n",
      " [ 7.  8.  9.]]\n"
     ]
    }
   ],
   "source": [
    "print(my_array)"
   ]
  },
  {
   "cell_type": "code",
   "execution_count": 31,
   "metadata": {},
   "outputs": [
    {
     "name": "stdout",
     "output_type": "stream",
     "text": [
      "[ 4.  5.  6.]\n"
     ]
    }
   ],
   "source": [
    "# accessing a row\n",
    "print(my_array[1,:])"
   ]
  },
  {
   "cell_type": "code",
   "execution_count": 105,
   "metadata": {},
   "outputs": [
    {
     "name": "stdout",
     "output_type": "stream",
     "text": [
      "[ 3.  6.  9.]\n"
     ]
    }
   ],
   "source": [
    "# accessing a column\n",
    "print(my_array[:, 2])"
   ]
  },
  {
   "cell_type": "code",
   "execution_count": 33,
   "metadata": {},
   "outputs": [
    {
     "name": "stdout",
     "output_type": "stream",
     "text": [
      "[[ 4.  5.]\n",
      " [ 7.  8.]]\n"
     ]
    }
   ],
   "source": [
    "# accessing a subset\n",
    "print(my_array[1:,:2])"
   ]
  },
  {
   "cell_type": "code",
   "execution_count": 107,
   "metadata": {
    "scrolled": true
   },
   "outputs": [
    {
     "name": "stdout",
     "output_type": "stream",
     "text": [
      "[[ 1.  2.  3.]\n",
      " [ 7.  8.  9.]]\n"
     ]
    }
   ],
   "source": [
    "# accessing a subset\n",
    "print(my_array[[0,2],:])"
   ]
  },
  {
   "cell_type": "markdown",
   "metadata": {},
   "source": [
    "The <span style=\"font-size: 1.4em;\">start:stop:step </span> notation can also be used when accessing array elements"
   ]
  },
  {
   "cell_type": "code",
   "execution_count": 109,
   "metadata": {},
   "outputs": [
    {
     "name": "stdout",
     "output_type": "stream",
     "text": [
      "[[  1.   2.   3.   4.   5.]\n",
      " [  6.   7.   8.   9.  10.]\n",
      " [ 11.  12.  13.  14.  15.]\n",
      " [ 16.  17.  18.  19.  20.]]\n",
      "subset:\n",
      " [[  1.   3.   5.]\n",
      " [  6.   8.  10.]\n",
      " [ 11.  13.  15.]\n",
      " [ 16.  18.  20.]]\n"
     ]
    }
   ],
   "source": [
    "my_array = np.arange(1., 21.).reshape((4,5))\n",
    "print(my_array)\n",
    "# accessing a subset with step argument\n",
    "print(\"subset:\\n\", my_array[:,0::2])"
   ]
  },
  {
   "cell_type": "markdown",
   "metadata": {},
   "source": [
    "### Comparison operations"
   ]
  },
  {
   "cell_type": "code",
   "execution_count": 48,
   "metadata": {},
   "outputs": [
    {
     "name": "stdout",
     "output_type": "stream",
     "text": [
      "my_array:\n",
      " [[1. 2. 3.]\n",
      " [4. 5. 6.]\n",
      " [7. 8. 9.]]\n",
      "my_array > 5:\n",
      " [[False False False]\n",
      " [False False  True]\n",
      " [ True  True  True]]\n"
     ]
    }
   ],
   "source": [
    "# comparison operators return array of boolean values\n",
    "my_array = np.arange(1., 10.).reshape((3,3))\n",
    "print(\"my_array:\\n\", my_array)\n",
    "print(\"my_array > 5:\\n\", my_array > 5)"
   ]
  },
  {
   "cell_type": "code",
   "execution_count": 49,
   "metadata": {},
   "outputs": [
    {
     "name": "stdout",
     "output_type": "stream",
     "text": [
      "All values in my_array are greater than 5: False\n",
      "There is at least one value in my_array greater than 5: True\n"
     ]
    }
   ],
   "source": [
    "# evaluation of boolean arrays\n",
    "results = my_array > 5\n",
    "print(\"All values in my_array are greater than 5:\", results.all()) \n",
    "print(\"There is at least one value in my_array greater than 5:\",\n",
    "      results.any()) "
   ]
  },
  {
   "cell_type": "code",
   "execution_count": 51,
   "metadata": {},
   "outputs": [
    {
     "name": "stdout",
     "output_type": "stream",
     "text": [
      "Values which are greater than 5: [6. 7. 8. 9.]\n"
     ]
    }
   ],
   "source": [
    "# extracting values with boolen arrays\n",
    "print(\"Values which are greater than 5:\", my_array[my_array > 5])"
   ]
  },
  {
   "cell_type": "markdown",
   "metadata": {},
   "source": [
    "## Iterating through the numpy arrays"
   ]
  },
  {
   "cell_type": "code",
   "execution_count": 52,
   "metadata": {},
   "outputs": [
    {
     "name": "stdout",
     "output_type": "stream",
     "text": [
      "[1. 2. 3.]\n",
      "[4. 5. 6.]\n",
      "[7. 8. 9.]\n"
     ]
    }
   ],
   "source": [
    "# standard for loop iterates over rows\n",
    "for x in my_array:\n",
    "    print(x)"
   ]
  },
  {
   "cell_type": "code",
   "execution_count": 53,
   "metadata": {},
   "outputs": [
    {
     "name": "stdout",
     "output_type": "stream",
     "text": [
      "1.0  2.0  3.0  \n",
      "4.0  5.0  6.0  \n",
      "7.0  8.0  9.0  \n"
     ]
    }
   ],
   "source": [
    "# iterating over all elements in standard way\n",
    "for x in my_array:\n",
    "    for y in x:\n",
    "        print(y, \" \",end=\"\")\n",
    "    print()"
   ]
  },
  {
   "cell_type": "code",
   "execution_count": 54,
   "metadata": {
    "scrolled": true
   },
   "outputs": [
    {
     "name": "stdout",
     "output_type": "stream",
     "text": [
      "1.0  2.0  3.0  4.0  5.0  6.0  7.0  8.0  9.0  "
     ]
    }
   ],
   "source": [
    "# iterating over all elements in numpy way\n",
    "for x in np.nditer(my_array):\n",
    "    print(x, \" \", end=\"\")"
   ]
  },
  {
   "cell_type": "markdown",
   "metadata": {},
   "source": [
    "## How to change array values"
   ]
  },
  {
   "cell_type": "markdown",
   "metadata": {},
   "source": [
    "### Assignment"
   ]
  },
  {
   "cell_type": "code",
   "execution_count": 55,
   "metadata": {},
   "outputs": [
    {
     "name": "stdout",
     "output_type": "stream",
     "text": [
      "[[1 2]\n",
      " [3 4]]\n",
      "After changing one element:\n",
      " [[1 5]\n",
      " [3 4]]\n"
     ]
    }
   ],
   "source": [
    "# changing one element\n",
    "my_array = np.arange(1,5).reshape((2,2))\n",
    "print(my_array)\n",
    "my_array[0,1] = 5\n",
    "print(\"After changing one element:\\n\", my_array)"
   ]
  },
  {
   "cell_type": "code",
   "execution_count": 56,
   "metadata": {},
   "outputs": [
    {
     "name": "stdout",
     "output_type": "stream",
     "text": [
      "[[1 2]\n",
      " [3 4]]\n",
      "After changing one row:\n",
      " [[5 6]\n",
      " [3 4]]\n",
      "After changing one column:\n",
      " [[5 7]\n",
      " [3 8]]\n"
     ]
    }
   ],
   "source": [
    "# changing rows and columns\n",
    "my_array = np.arange(1,5).reshape((2,2))\n",
    "print(my_array)\n",
    "my_array[0,:] = np.array([5,6])\n",
    "print(\"After changing one row:\\n\", my_array)\n",
    "my_array[:,1] = np.array([7,8])\n",
    "print(\"After changing one column:\\n\", my_array)"
   ]
  },
  {
   "cell_type": "markdown",
   "metadata": {},
   "source": [
    "### Adding rows and columns to an existing array"
   ]
  },
  {
   "cell_type": "code",
   "execution_count": 60,
   "metadata": {},
   "outputs": [
    {
     "name": "stdout",
     "output_type": "stream",
     "text": [
      "[[0 1 2]\n",
      " [3 4 5]]\n",
      "after column adding\n",
      " [[0 1 2 6]\n",
      " [3 4 5 7]]\n"
     ]
    }
   ],
   "source": [
    "# appending\n",
    "my_array = np.arange(0,6).reshape((2,3))\n",
    "print(my_array)\n",
    "# append column\n",
    "my_array = np.append(my_array, np.array([6, 7]).reshape(2,1), axis=1) # 0 : row , 1: column\n",
    "print(\"after column adding\\n\", my_array)"
   ]
  },
  {
   "cell_type": "code",
   "execution_count": 63,
   "metadata": {},
   "outputs": [
    {
     "name": "stdout",
     "output_type": "stream",
     "text": [
      "[[0 1 2]\n",
      " [3 4 5]]\n",
      "after row insertion\n",
      " [[0 1 2]\n",
      " [6 7 8]\n",
      " [3 4 5]]\n"
     ]
    }
   ],
   "source": [
    "# insertion\n",
    "my_array = np.arange(0,6).reshape((2,3))\n",
    "print(my_array)\n",
    "# insert row\n",
    "my_array = np.insert(my_array, 1, [[6, 7, 8]], axis=0)\n",
    "print(\"after row insertion\\n\", my_array)\n"
   ]
  },
  {
   "cell_type": "code",
   "execution_count": 64,
   "metadata": {},
   "outputs": [
    {
     "name": "stdout",
     "output_type": "stream",
     "text": [
      "row concatenation:\n",
      " [[ 0  1  2]\n",
      " [ 3  4  5]\n",
      " [ 6  7  8]\n",
      " [ 9 10 11]]\n",
      "column concatenation:\n",
      " [[ 0  1  2  6  7  8]\n",
      " [ 3  4  5  9 10 11]]\n"
     ]
    }
   ],
   "source": [
    "# concatenation\n",
    "my_array = np.arange(0,6).reshape((2,3))\n",
    "my_array2 = np.arange(6,12).reshape((2,3))\n",
    "print(\"row concatenation:\\n\", np.concatenate((my_array, my_array2),\n",
    "                                             axis=0))\n",
    "print(\"column concatenation:\\n\", np.concatenate((my_array, my_array2),\n",
    "                                                axis=1))"
   ]
  },
  {
   "cell_type": "markdown",
   "metadata": {},
   "source": [
    "## To copy or not to copy?\n",
    "When operating and manipulating arrays, their data is sometimes copied into a new array and sometimes not. This is often a source of confusion for beginners."
   ]
  },
  {
   "cell_type": "code",
   "execution_count": 67,
   "metadata": {},
   "outputs": [
    {
     "name": "stdout",
     "output_type": "stream",
     "text": [
      "[[ 1.  2.  3.  4.  5.]\n",
      " [ 6.  7.  8.  9. 10.]\n",
      " [11. 12. 13. 14. 15.]\n",
      " [16. 17. 18. 19. 20.]]\n",
      "tmp is my_array True\n",
      "my array after we changed tmp:\n",
      " [[  1.   2.   3.   4.   5.]\n",
      " [  6. 999.   8.   9.  10.]\n",
      " [ 11.  12.  13.  14.  15.]\n",
      " [ 16.  17.  18.  19.  20.]]\n"
     ]
    }
   ],
   "source": [
    "my_array = np.arange(1., 21.).reshape((4,5))\n",
    "print(my_array)\n",
    "tmp = my_array\n",
    "print(\"tmp is my_array\", tmp is my_array)\n",
    "tmp[1,1] = 999\n",
    "print(\"my array after we changed tmp:\\n\", my_array) \n",
    "# the change is tmp is present in my_array, because they are the same object"
   ]
  },
  {
   "cell_type": "code",
   "execution_count": 68,
   "metadata": {},
   "outputs": [
    {
     "name": "stdout",
     "output_type": "stream",
     "text": [
      "[[ 1.  2.  3.  4.  5.]\n",
      " [ 6.  7.  8.  9. 10.]\n",
      " [11. 12. 13. 14. 15.]\n",
      " [16. 17. 18. 19. 20.]]\n",
      "tmp is my_array False\n",
      "tmp:\n",
      " [[ 7.  8.]\n",
      " [12. 13.]]\n",
      "my_array after we changed tmp:\n",
      " [[  1.   2.   3.   4.   5.]\n",
      " [  6.   7.   8.   9.  10.]\n",
      " [ 11.  12. 999.  14.  15.]\n",
      " [ 16.  17.  18.  19.  20.]]\n"
     ]
    }
   ],
   "source": [
    "my_array = np.arange(1., 21.).reshape((4,5))\n",
    "print(my_array)\n",
    "tmp = my_array[1:3,1:3]\n",
    "print(\"tmp is my_array\", tmp is my_array)\n",
    "print(\"tmp:\\n\", tmp)\n",
    "tmp[1,1] = 999\n",
    "print(\"my_array after we changed tmp:\\n\", my_array)\n",
    "# tmp is not my_array, but the change in one is reported in the other"
   ]
  },
  {
   "cell_type": "markdown",
   "metadata": {},
   "source": [
    "> This behavior may appear strange, but it is because numpy arrays access their data by reference. And thus multiple array may access the same memory space, or subset of the same memory space \n",
    "> See <insert Bulak slides on references>"
   ]
  },
  {
   "cell_type": "markdown",
   "metadata": {},
   "source": [
    "### If you plan to change array values but want to keep the old array untouched, then make copy of it!"
   ]
  },
  {
   "cell_type": "code",
   "execution_count": 49,
   "metadata": {},
   "outputs": [
    {
     "name": "stdout",
     "output_type": "stream",
     "text": [
      "[[  1.   2.   3.   4.   5.]\n",
      " [  6.   7.   8.   9.  10.]\n",
      " [ 11.  12.  13.  14.  15.]\n",
      " [ 16.  17.  18.  19.  20.]]\n",
      "tmp is my_array False\n",
      "my array after we changed tmp:\n",
      " [[  1.   2.   3.   4.   5.]\n",
      " [  6.   7.   8.   9.  10.]\n",
      " [ 11.  12.  13.  14.  15.]\n",
      " [ 16.  17.  18.  19.  20.]]\n",
      "tmp array after change:\n",
      " [[   1.    2.    3.    4.    5.]\n",
      " [   6.  999.    8.    9.   10.]\n",
      " [  11.   12.   13.   14.   15.]\n",
      " [  16.   17.   18.   19.   20.]]\n"
     ]
    }
   ],
   "source": [
    "my_array = np.arange(1., 21.).reshape((4,5))\n",
    "print(my_array)\n",
    "tmp = my_array.copy()\n",
    "print(\"tmp is my_array\", tmp is my_array)\n",
    "tmp[1,1] = 999\n",
    "print(\"my array after we changed tmp:\\n\", my_array)\n",
    "print(\"tmp array after change:\\n\", tmp)"
   ]
  },
  {
   "cell_type": "markdown",
   "metadata": {},
   "source": [
    "## Functions\n",
    "\n",
    "Numpy provide and great number of functions. The power of numpy functions are speed and possibility to apply it arrays element-wise, column-wise or row-wise."
   ]
  },
  {
   "cell_type": "markdown",
   "metadata": {},
   "source": [
    "### Element-wise functions\n",
    "This includes all basic math operators like <span style=\"font-size: 1.5em;\">+, -, /, \\*, //, \\*\\*</span>"
   ]
  },
  {
   "cell_type": "code",
   "execution_count": 50,
   "metadata": {
    "scrolled": false
   },
   "outputs": [
    {
     "name": "stdout",
     "output_type": "stream",
     "text": [
      "[[ 1.  2.  3.]\n",
      " [ 4.  5.  6.]]\n",
      "division\n",
      "[[ 0.5  1.   1.5]\n",
      " [ 2.   2.5  3. ]]\n",
      "sum\n",
      "[[ 11.  12.  13.]\n",
      " [ 14.  15.  16.]]\n",
      "power of 2\n",
      "[[  1.   4.   9.]\n",
      " [ 16.  25.  36.]]\n",
      "log2\n",
      "[[ 0.          1.          1.5849625 ]\n",
      " [ 2.          2.32192809  2.5849625 ]]\n"
     ]
    }
   ],
   "source": [
    "# element-wise operation with scalars\n",
    "my_array = np.arange(1., 7.).reshape((2,3))\n",
    "print(my_array)\n",
    "print(\"division\")\n",
    "print(my_array/2)\n",
    "print(\"sum\")\n",
    "print(my_array + 10)\n",
    "# element-wise functions\n",
    "print(\"power of 2\")\n",
    "print(my_array**2)\n",
    "print(\"log2\")\n",
    "print(np.log2(my_array))"
   ]
  },
  {
   "cell_type": "markdown",
   "metadata": {},
   "source": [
    "### Sum, division ... of arrays"
   ]
  },
  {
   "cell_type": "code",
   "execution_count": 51,
   "metadata": {},
   "outputs": [
    {
     "name": "stdout",
     "output_type": "stream",
     "text": [
      "[[ 1.  2.  3.]\n",
      " [ 4.  5.  6.]]\n",
      "division\n",
      "[[ 1.  1.  1.]\n",
      " [ 1.  1.  1.]]\n",
      "sum\n",
      "[[  2.   4.   6.]\n",
      " [  8.  10.  12.]]\n"
     ]
    }
   ],
   "source": [
    "# element-wise operation with arrays\n",
    "my_array = np.arange(1., 7.).reshape((2,3))\n",
    "print(my_array)\n",
    "print(\"division\")\n",
    "print(my_array / my_array)\n",
    "print(\"sum\")\n",
    "print(my_array + my_array)"
   ]
  },
  {
   "cell_type": "markdown",
   "metadata": {},
   "source": [
    "### Element-wise, row-wise, column-wise functions"
   ]
  },
  {
   "cell_type": "code",
   "execution_count": 52,
   "metadata": {},
   "outputs": [
    {
     "name": "stdout",
     "output_type": "stream",
     "text": [
      "element-wise sum: 21.0\n",
      "sum of columns: [ 5.  7.  9.]\n",
      "sum of rows: [  6.  15.]\n"
     ]
    }
   ],
   "source": [
    "# sum\n",
    "print(\"element-wise sum:\", np.sum(my_array))\n",
    "print(\"sum of columns:\", np.sum(my_array, axis=0))\n",
    "print(\"sum of rows:\", np.sum(my_array, axis=1))"
   ]
  },
  {
   "cell_type": "code",
   "execution_count": 53,
   "metadata": {},
   "outputs": [
    {
     "name": "stdout",
     "output_type": "stream",
     "text": [
      "std of the whole array: 1.70782512766\n",
      "std of columns: [ 1.5  1.5  1.5]\n",
      "std of rows: [ 0.81649658  0.81649658]\n"
     ]
    }
   ],
   "source": [
    "# standard deviation\n",
    "print(\"std of the whole array:\", np.std(my_array))\n",
    "print(\"std of columns:\", np.std(my_array, axis=0))\n",
    "print(\"std of rows:\", np.std(my_array, axis=1))"
   ]
  },
  {
   "cell_type": "code",
   "execution_count": 54,
   "metadata": {
    "scrolled": true
   },
   "outputs": [
    {
     "name": "stdout",
     "output_type": "stream",
     "text": [
      "mean of the whole array: 3.5\n",
      "mean of columns: [ 2.5  3.5  4.5]\n",
      "mean of rows: [ 2.  5.]\n"
     ]
    }
   ],
   "source": [
    "# mean function\n",
    "print(\"mean of the whole array:\", np.mean(my_array))\n",
    "print(\"mean of columns:\", np.mean(my_array, axis=0))\n",
    "print(\"mean of rows:\", np.mean(my_array, axis=1))"
   ]
  },
  {
   "cell_type": "markdown",
   "metadata": {},
   "source": [
    "## Random numbers in NumPy\n",
    "\n",
    "The numpy.random mudule provides a large collection of distributions (uniform, normal, beta, binomial, gamma, poisson ...) to draw from."
   ]
  },
  {
   "cell_type": "code",
   "execution_count": 55,
   "metadata": {
    "scrolled": true
   },
   "outputs": [
    {
     "name": "stdout",
     "output_type": "stream",
     "text": [
      "single number: 0.8840433667904156\n",
      "array of random numbers:\n",
      " [[ 0.22295178  0.52276298  0.54877142]\n",
      " [ 0.49866561  0.8327065   0.85795209]]\n"
     ]
    }
   ],
   "source": [
    "# random numbers from uniform distribution [0,1)\n",
    "print(\"single number:\", np.random.rand())\n",
    "print(\"array of random numbers:\\n\", np.random.rand(2,3))"
   ]
  },
  {
   "cell_type": "code",
   "execution_count": 71,
   "metadata": {},
   "outputs": [
    {
     "name": "stdout",
     "output_type": "stream",
     "text": [
      "array of random numbers.\n",
      " mean : -0.0011793176474030839 \tstandard deviation : 1.000647567911789\n"
     ]
    }
   ],
   "source": [
    "# random numbers from normal distribution\n",
    "my_array = np.random.randn(100000)\n",
    "print(\"array of random numbers.\\n\", \"mean :\", np.mean(my_array) , \"\\tstandard deviation :\" , np.std(my_array) )"
   ]
  },
  {
   "cell_type": "code",
   "execution_count": 73,
   "metadata": {},
   "outputs": [
    {
     "name": "stdout",
     "output_type": "stream",
     "text": [
      "array permutation:\n",
      " [0 6 4 5 3 2 1]\n",
      "sample from the array:\n",
      " [6 0 1]\n"
     ]
    }
   ],
   "source": [
    "# permutation and sampling\n",
    "my_array = np.arange(7)\n",
    "print(\"array permutation:\\n\", np.random.permutation(my_array))\n",
    "print(\"sample from the array:\\n\", np.random.choice(my_array,\n",
    "                                                   size=3,\n",
    "                                                   replace=True))"
   ]
  },
  {
   "cell_type": "markdown",
   "metadata": {},
   "source": [
    "## Linear algebra built-in capabilities\n",
    "NumPy arrays could be used as matrices without any special conversion.\n",
    "For advanced linear algebra operations there is spacial package for it (**numpy.linalg**)"
   ]
  },
  {
   "cell_type": "code",
   "execution_count": 76,
   "metadata": {},
   "outputs": [
    {
     "name": "stdout",
     "output_type": "stream",
     "text": [
      "[[1. 2. 3.]\n",
      " [4. 5. 6.]]\n"
     ]
    }
   ],
   "source": [
    "my_array = np.arange(1., 7.).reshape((2,3))\n",
    "print(my_array)"
   ]
  },
  {
   "cell_type": "code",
   "execution_count": 59,
   "metadata": {},
   "outputs": [
    {
     "name": "stdout",
     "output_type": "stream",
     "text": [
      "transposed matrix:\n",
      " [[ 1.  4.]\n",
      " [ 2.  5.]\n",
      " [ 3.  6.]]\n"
     ]
    }
   ],
   "source": [
    "# Transpose of a matrix\n",
    "print(\"transposed matrix:\\n\", my_array.T)"
   ]
  },
  {
   "cell_type": "markdown",
   "metadata": {},
   "source": [
    "#### There are different types of matrix multiplication!!!"
   ]
  },
  {
   "cell_type": "code",
   "execution_count": 60,
   "metadata": {},
   "outputs": [
    {
     "name": "stdout",
     "output_type": "stream",
     "text": [
      "[[  1.   4.   9.]\n",
      " [ 16.  25.  36.]]\n"
     ]
    }
   ],
   "source": [
    "# matrix multiplication element-wise\n",
    "print(my_array * my_array)"
   ]
  },
  {
   "cell_type": "code",
   "execution_count": 77,
   "metadata": {
    "scrolled": true
   },
   "outputs": [
    {
     "name": "stdout",
     "output_type": "stream",
     "text": [
      "[[14. 32.]\n",
      " [32. 77.]]\n",
      "[[14. 32.]\n",
      " [32. 77.]]\n"
     ]
    }
   ],
   "source": [
    "# matrix product\n",
    "print(my_array.dot(my_array.T)) \n",
    "# one can also use the @ operator :\n",
    "print(my_array @ my_array.T) "
   ]
  },
  {
   "cell_type": "markdown",
   "metadata": {},
   "source": [
    "\n",
    "# SciPy.stats and statistics in python\n",
    "\n",
    "\n",
    "SciPy references a comprehensive [project for scientific python programming](https://scipy.org) regrouping as well  as a [library](https://docs.scipy.org/doc/scipy/reference/) (which is part of the project) implementing various tools and algorithm for scientific software.\n",
    "\n",
    "Here we will give a few pointers on the `scipy.stats` library, which provides ways to interact with various random distribution functions, as well as implement numerous statistical tests.\n"
   ]
  },
  {
   "cell_type": "markdown",
   "metadata": {},
   "source": [
    "## manipulation of random distributions\n",
    "\n",
    "scipy.stats implements utilisties for a large number of continuous and discrete distributions :"
   ]
  },
  {
   "cell_type": "code",
   "execution_count": 2,
   "metadata": {},
   "outputs": [
    {
     "name": "stdout",
     "output_type": "stream",
     "text": [
      "number of continuous distributions: 98\n",
      "number of discrete distributions:   14\n",
      "['alpha', 'anglit', 'arcsine', 'argus', 'beta', 'betaprime', 'bradford', 'burr', 'burr12', 'cauchy', 'chi', 'chi2', 'cosine', 'crystalball', 'dgamma', 'dweibull', 'erlang', 'expon', 'exponnorm', 'exponpow', 'exponweib', 'f', 'fatiguelife', 'fisk', 'foldcauchy', 'foldnorm', 'frechet_l', 'frechet_r', 'gamma', 'gausshyper', 'genexpon', 'genextreme', 'gengamma', 'genhalflogistic', 'genlogistic', 'gennorm', 'genpareto', 'gilbrat', 'gompertz', 'gumbel_l', 'gumbel_r', 'halfcauchy', 'halfgennorm', 'halflogistic', 'halfnorm', 'hypsecant', 'invgamma', 'invgauss', 'invweibull', 'johnsonsb', 'johnsonsu', 'kappa3', 'kappa4', 'ksone', 'kstwobign', 'laplace', 'levy', 'levy_l', 'levy_stable', 'loggamma', 'logistic', 'loglaplace', 'lognorm', 'lomax', 'maxwell', 'mielke', 'moyal', 'nakagami', 'ncf', 'nct', 'ncx2', 'norm', 'norminvgauss', 'pareto', 'pearson3', 'powerlaw', 'powerlognorm', 'powernorm', 'rayleigh', 'rdist', 'recipinvgauss', 'reciprocal', 'rice', 'semicircular', 'skewnorm', 't', 'trapz', 'triang', 'truncexpon', 'truncnorm', 'tukeylambda', 'uniform', 'vonmises', 'vonmises_line', 'wald', 'weibull_max', 'weibull_min', 'wrapcauchy']\n"
     ]
    }
   ],
   "source": [
    "from scipy import stats\n",
    "\n",
    "dist_continu = [d for d in dir(stats) if isinstance(getattr(stats, d), stats.rv_continuous)]\n",
    "dist_discrete = [d for d in dir(stats) if isinstance(getattr(stats, d), stats.rv_discrete)]\n",
    "print('number of continuous distributions: %d' % len(dist_continu))\n",
    "print('number of discrete distributions:   %d' % len(dist_discrete))\n"
   ]
  },
  {
   "cell_type": "markdown",
   "metadata": {},
   "source": [
    "let's experiment with the normal distribution, or `norm` in `scipy.stats`\n",
    "\n",
    "\n",
    "A look at `help(stats.norm)` tells us that \n",
    "```\n",
    " |  The location (``loc``) keyword specifies the mean.\n",
    " |  The scale (``scale``) keyword specifies the standard deviation.\n",
    "```\n"
   ]
  },
  {
   "cell_type": "code",
   "execution_count": 19,
   "metadata": {},
   "outputs": [
    {
     "data": {
      "text/plain": [
       "(array(10.), array(4.))"
      ]
     },
     "execution_count": 19,
     "metadata": {},
     "output_type": "execute_result"
    }
   ],
   "source": [
    "## we can generate a specific normal distribution :\n",
    "N = stats.norm(loc = 10 , scale = 2)\n",
    "\n",
    "# the mean and variance of a distribution can be retrieved using the .stats method :\n",
    "print(N.stats())"
   ]
  },
  {
   "cell_type": "markdown",
   "metadata": {},
   "source": [
    "That object can then be used to interact with the distribution in many ways.\n",
    "\n",
    "### drawing some random numbers : rvs"
   ]
  },
  {
   "cell_type": "code",
   "execution_count": 18,
   "metadata": {},
   "outputs": [
    {
     "data": {
      "text/plain": [
       "array([[ 7.45179805,  9.87769114, 10.12902769, 10.8202259 ,  8.85423502],\n",
       "       [ 8.39733275, 12.62407038, 12.54939775,  7.57128479, 10.62743881],\n",
       "       [ 7.11035717,  9.2620774 ,  8.46154685, 10.78523221, 10.11458767],\n",
       "       [14.17995768, 10.08394262,  9.90331856,  8.97369216,  9.83082144],\n",
       "       [ 7.56909984,  7.17413853,  7.0261789 , 10.76444972, 11.875346  ]])"
      ]
     },
     "execution_count": 18,
     "metadata": {},
     "output_type": "execute_result"
    }
   ],
   "source": [
    "# draw some random number in this distribution : rvs\n",
    "# the size argument is 1 or several integers and defines the dimensions of the returned arrays of random numbers\n",
    "N.rvs(size = [5,5]) "
   ]
  },
  {
   "cell_type": "markdown",
   "metadata": {},
   "source": [
    "as with any drawing of random variable on a computer, [one merely emulates randomness](https://en.wikipedia.org/wiki/Pseudorandom_number_generator). This also means that one can make some random operation reproducible by setting up the random seed.\n",
    "\n"
   ]
  },
  {
   "cell_type": "code",
   "execution_count": 17,
   "metadata": {},
   "outputs": [
    {
     "name": "stdout",
     "output_type": "stream",
     "text": [
      "are the ramdom draws equal? [ True  True  True  True  True]\n"
     ]
    }
   ],
   "source": [
    "import numpy as np\n",
    "np.random.seed(2020) # we set the random seed\n",
    "draw1 = N.rvs(size=5)\n",
    "np.random.seed(2020) # we set the random seed back to 2020\n",
    "draw2 = N.rvs(size=5)\n",
    "print(\"Are the ramdom draws equal?\",draw1 == draw2)"
   ]
  },
  {
   "cell_type": "markdown",
   "metadata": {},
   "source": [
    "### looking up the quantiles and probability density functions\n"
   ]
  },
  {
   "cell_type": "code",
   "execution_count": 33,
   "metadata": {},
   "outputs": [
    {
     "data": {
      "image/png": "[encoded data removed]",
      "text/plain": [
       "<Figure size 432x288 with 1 Axes>"
      ]
     },
     "metadata": {
      "needs_background": "light"
     },
     "output_type": "display_data"
    },
    {
     "name": "stdout",
     "output_type": "stream",
     "text": [
      "what is the probability of drawing a number <=15.0 ? 0.9937903346742238\n",
      "quantiles: [0.025, 0.5, 0.975] -> [ 6.08007203 10.         13.91992797]\n"
     ]
    }
   ],
   "source": [
    "#  pdf: Probability Density Function\n",
    "# I know this is not the plotting lesson, but here is a small recipe to plot the distribution\n",
    "import matplotlib.pyplot as plt \n",
    "X = np.arange(0,20,0.1)\n",
    "plt.plot( X , N.pdf(X) )\n",
    "plt.show()\n",
    "\n",
    "#    cdf: Cumulative Distribution Function\n",
    "print('what is the probability of drawing a number <=15.0 ?' ,  N.cdf(15.0)) \n",
    "\n",
    "\n",
    "#    ppf: Percent Point Function (Inverse of CDF) , gives the quantiles of the distribution\n",
    "P = [0.025,0.5,0.975]\n",
    "Q = N.ppf(P)\n",
    "print( 'quantiles:', P , '->' , Q )\n"
   ]
  },
  {
   "cell_type": "code",
   "execution_count": 42,
   "metadata": {},
   "outputs": [
    {
     "data": {
      "image/png": "[encoded data removed]",
      "text/plain": [
       "<Figure size 432x288 with 1 Axes>"
      ]
     },
     "metadata": {
      "needs_background": "light"
     },
     "output_type": "display_data"
    }
   ],
   "source": [
    "# For discrete distribution these rules change a bit , the pdf function is replaced by pmf:\n",
    "X = np.arange(0,10)\n",
    "plt.scatter( X , stats.binom.pmf( X ,  n = 10 , p = 0.5 ) ) # binomial distribution with 10 draws and a 0.5 probability of success\n",
    "plt.show()"
   ]
  },
  {
   "cell_type": "markdown",
   "metadata": {},
   "source": [
    "## statistical tests\n",
    "\n",
    "`scipy.stats` implements a number of statistical tests as functions.\n",
    "\n",
    "Most return two values : the computed test statistic and the p-value.\n",
    "\n",
    "We will only demonstrate a couple tests here.\n",
    "You can get a more in-depth explaination and demonstration of scipy.stats tests [there](https://machinelearningmastery.com/statistical-hypothesis-tests-in-python-cheat-sheet/)\n",
    "\n"
   ]
  },
  {
   "cell_type": "code",
   "execution_count": 50,
   "metadata": {},
   "outputs": [
    {
     "name": "stdout",
     "output_type": "stream",
     "text": [
      "We reject the hypothesis of equality of means(H0). p-value : 0.0011955595116142342\n"
     ]
    }
   ],
   "source": [
    "#Imagine we have two samples of measurement drawn from 2 sub-population :\n",
    "sample1 = stats.norm.rvs(size = 93 , loc = 173 , scale = 20)\n",
    "sample2 = stats.norm.rvs(size = 132 , loc = 181 , scale = 20)\n",
    "\n",
    "# we perform a t-test to test the equality of the means\n",
    "statistic , pValue = stats.ttest_ind(sample1 , sample2) \n",
    "significanceThreshold = 0.05\n",
    "if pValue < significanceThreshold:\n",
    "    print( \"We reject the hypothesis of equality of means(H0). p-value :\" , pValue )\n",
    "else:\n",
    "    print( \"We do not reject the hypothesis of equality of means(H0). p-value :\" , pValue )\n"
   ]
  },
  {
   "cell_type": "markdown",
   "metadata": {},
   "source": [
    "`stats.ttest_ind` has a `equal_var` parameter that one can set to `False` in order to perform Welsch's t-test, which is warranted when one cannot assume the two sub-population's variances to be equal.\n",
    "\n",
    "> In general, these functions have a very good documentation, detailing the tests and giving usage examples. We heartily recommend any would-be users to have a read at the `help()`."
   ]
  },
  {
   "cell_type": "code",
   "execution_count": 62,
   "metadata": {},
   "outputs": [
    {
     "name": "stdout",
     "output_type": "stream",
     "text": [
      "Chi-square test of independence of variables\n",
      "stat=14.555, degree of  freedom=3 , p-value=0.002\n"
     ]
    }
   ],
   "source": [
    "# Example of the Chi-Squared Test\n",
    "# imagine you count different cell types in two biopsies and report them in a list :\n",
    "biopsy1 = np.array([135 , 423 , 24 , 72])\n",
    "biopsy2 = [184 , 552 , 77 , 101]\n",
    "\n",
    "table = [biopsy1 , biopsy2]\n",
    "\n",
    "stat, pValue, degreeOfFreedom, expectedValues = stats.chi2_contingency(table)\n",
    "print('Chi-square test of independence of variables')\n",
    "print('stat=%.3f, degree of  freedom=%i , p-value=%.3f' % (stat, degreeOfFreedom,  pValue))\n",
    "# here the two biopsies seem to differ significatively in their composition\n"
   ]
  },
  {
   "cell_type": "markdown",
   "metadata": {},
   "source": [
    "### statiscial modelling and regression\n",
    "\n",
    "`scipy` implements methods to fit a model to some data. \n",
    "\n",
    "`scipy.stats` proposes a simple linear regression function between two variable,\n",
    "while `scipy.optimize` implements functions to fit (non-linear) models to data."
   ]
  },
  {
   "cell_type": "code",
   "execution_count": 75,
   "metadata": {},
   "outputs": [
    {
     "name": "stdout",
     "output_type": "stream",
     "text": [
      "slope: 1.618178    intercept: -13.018001\n",
      "R-squared: 0.526027\n",
      "p-value for the slope: 0.000006\n"
     ]
    },
    {
     "data": {
      "image/png": "[encoded data removed]",
      "text/plain": [
       "<Figure size 432x288 with 1 Axes>"
      ]
     },
     "metadata": {
      "needs_background": "light"
     },
     "output_type": "display_data"
    }
   ],
   "source": [
    "\n",
    "x = stats.uniform.rvs(size=30 , loc=0 , scale=100) # generating X\n",
    "y = 1.6*x  + stats.norm.rvs(size=30 , loc=0 , scale=50) # Y = 1.6 * X + some noise\n",
    "    \n",
    "# Perform the linear regression:\n",
    "    \n",
    "slope, intercept, r_value, p_value, std_err = stats.linregress(x, y)\n",
    "print(\"slope: %f    intercept: %f\" % (slope, intercept))\n",
    "print(\"R-squared: %f\" % r_value**2)\n",
    "print(\"p-value for the slope: %f\" % p_value)\n",
    "\n",
    "#   Plot the data along with the fitted line:\n",
    "    \n",
    "plt.plot(x, y, 'o', label='original data')\n",
    "plt.plot(x, intercept + slope*x, 'r', label='fitted line')\n",
    "plt.legend()\n",
    "plt.show()\n",
    "\n",
    "\n"
   ]
  },
  {
   "cell_type": "code",
   "execution_count": 133,
   "metadata": {
    "scrolled": true
   },
   "outputs": [
    {
     "name": "stdout",
     "output_type": "stream",
     "text": [
      "parameter estimates          : [5.33171291 0.18878757 0.21927505 0.08021771]\n",
      "parameter standard deviation : [0.26920328 0.02583608 0.29269083 0.02316083]\n",
      "\n",
      "relative estimation error    : [0.06634258 0.05606215 0.56144989 0.1978229 ]\n"
     ]
    },
    {
     "data": {
      "image/png": "[encoded data removed]",
      "text/plain": [
       "<Figure size 432x288 with 1 Axes>"
      ]
     },
     "metadata": {
      "needs_background": "light"
     },
     "output_type": "display_data"
    }
   ],
   "source": [
    "import matplotlib.pyplot as plt\n",
    "from scipy.optimize import curve_fit\n",
    "\n",
    "\n",
    "## example with 2 explanatory variables\n",
    "\n",
    "\n",
    "# we define the model as a function.\n",
    "# here it is a form of exponential decay model \n",
    "# where variable1 is the time and the rate of decay changes with variable2\n",
    "# the model function takes as argument the 2 explanatory variable (grouped in a single tuple), and the 4 parameters\n",
    "def func(X , a, b, c , d):\n",
    "    x0 , x1 = X\n",
    "    return a * np.exp( -(b + d*x1 ) * x0 ) + c \n",
    "\n",
    "#realParameter values\n",
    "realParams = [ 5, 0.2, 0.5,  0.1 ]\n",
    "\n",
    "# we simulate some data, with some noise\n",
    "n=50 # number of points\n",
    "variable1 = stats.uniform.rvs(size =n , loc = 0 , scale = 10 ) # explanatory variable number 1 : some uniform variable\n",
    "variable2 = stats.bernoulli.rvs(size=n , p=0.5) # explanatory variable number 2 : can be 0 or 1\n",
    "\n",
    "y = func( (variable1 , variable2) , realParams[0], realParams[1], realParams[2],  realParams[3])\n",
    "y_noise = stats.norm.rvs(size=n , scale = 0.4) \n",
    "ydata = y+y_noise\n",
    "\n",
    "\n",
    "popt, pcov = curve_fit(func, (variable1 , variable2), ydata)\n",
    "perr = np.sqrt(np.diag(pcov))\n",
    "print('parameter estimates          :',popt)\n",
    "print('parameter standard deviation :',perr)\n",
    "print('\\nrelative estimation error    :',np.abs(popt - realParams)/realParams )\n",
    "\n",
    "\n",
    "plt.scatter(variable1, ydata, c=variable2 , label='data')\n",
    "\n",
    "x = np.linspace(min(variable1) , max(variable1) , 100)\n",
    "plt.plot(x, func( ( x , np.zeros(100) )  , *popt), '--' ,  label='fit for variable2==0')\n",
    "plt.plot(x, func( ( x , np.ones(100) )  , *popt), '--' , label='fit for variable2==1')\n",
    "\n",
    "plt.xlabel('x')\n",
    "plt.ylabel('y')\n",
    "plt.legend()\n",
    "plt.show()\n",
    "\n"
   ]
  },
  {
   "cell_type": "markdown",
   "metadata": {},
   "source": [
    "> You can find most of what was discussed here and more in the [official tutorial](https://docs.scipy.org/doc/scipy/reference/tutorial/stats.html)"
   ]
  },
  {
   "cell_type": "markdown",
   "metadata": {},
   "source": [
    "# Exercise"
   ]
  },
  {
   "cell_type": "markdown",
   "metadata": {},
   "source": [
    "1. Load the data in thefile \"sample_data.tsv\" as a numpy array\n",
    "2. Log-transform the data\n",
    "3. Find the row-wise means for replicates of Sample1 and Sample2\n",
    "4. Find the row-wise standard deviations the same way as means\n",
    "5. Use a function *scipy.stats.ttest_ind* to calculate p-value for every row\n",
    "6. Select p-values which are smaller than $10^{-2}$\n",
    "7. Print how many P-values below $10^{-2}$ are found"
   ]
  },
  {
   "cell_type": "code",
   "execution_count": 62,
   "metadata": {},
   "outputs": [
    {
     "name": "stdout",
     "output_type": "stream",
     "text": [
      "[  1.19127275e-02   7.65848100e-04   2.37491470e-05]\n"
     ]
    }
   ],
   "source": [
    "# use of ttest_ind function\n",
    "import scipy.stats as sps\n",
    "\n",
    "# two arrays of random numbers\n",
    "a = np.random.randn(3,5) * 3 + 15\n",
    "b = np.random.randn(3,8) * 2 + 5\n",
    "\n",
    "print(sps.ttest_ind(a, b, axis=1, equal_var=False).pvalue)"
   ]
  },
  {
   "cell_type": "code",
   "execution_count": 63,
   "metadata": {
    "scrolled": true
   },
   "outputs": [
    {
     "name": "stdout",
     "output_type": "stream",
     "text": [
      "sample1.1\tsample1.2\tsample1.3\tsample1.4\tsample2.1\tsample2.2\tsample2.3\tsample2.4\r\n",
      "6.801411216875708305e+02\t5.565263845884210241e+02\t2.525828159262368047e+02\t2.956703139364956314e+02\t9.604893343325777550e+02\t4.193181331491081210e+02\t3.126077132320110081e+02\t8.246976543530363415e+02\r\n",
      "5.874671746889415545e+02\t4.128408625270991479e+02\t4.378621470916139060e+02\t6.736096888155080933e+02\t7.240856598618292992e+02\t4.807175238900777003e+02\t4.731265298940686534e+02\t5.216420065104225614e+02\r\n"
     ]
    }
   ],
   "source": [
    "!head -3 test_data.tab"
   ]
  },
  {
   "cell_type": "code",
   "execution_count": null,
   "metadata": {
    "collapsed": true
   },
   "outputs": [],
   "source": []
  }
 ],
 "metadata": {
  "anaconda-cloud": {},
  "kernelspec": {
   "display_name": "Python 3",
   "language": "python",
   "name": "python3"
  },
  "language_info": {
   "codemirror_mode": {
    "name": "ipython",
    "version": 3
   },
   "file_extension": ".py",
   "mimetype": "text/x-python",
   "name": "python",
   "nbconvert_exporter": "python",
   "pygments_lexer": "ipython3",
   "version": "3.7.4"
  }
 },
 "nbformat": 4,
 "nbformat_minor": 1
}

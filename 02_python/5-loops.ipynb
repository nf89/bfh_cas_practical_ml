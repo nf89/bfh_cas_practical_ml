{
 "cells": [
  {
   "cell_type": "markdown",
   "metadata": {},
   "source": [
    "# Exercise 5: Loops\n",
    "\n",
    "In these exercises we look at `for` and `while` loops. Always try to make your code readable and print out your results in the nicest way possible.\n",
    "## Ex. 5.1: `for` loops"
   ]
  },
  {
   "cell_type": "markdown",
   "metadata": {},
   "source": [
    "### Ex. 5.1.1\n",
    "Iterate over the integer numbers from 5 to 10 and calculate their sum."
   ]
  },
  {
   "cell_type": "code",
   "execution_count": 4,
   "metadata": {},
   "outputs": [
    {
     "name": "stdout",
     "output_type": "stream",
     "text": [
      "5 5\n",
      "6 11\n",
      "7 18\n",
      "8 26\n",
      "9 35\n",
      "10 45\n",
      "total = 45\n"
     ]
    }
   ],
   "source": [
    "tot = 0\n",
    "for i in range(5, 11):\n",
    "    tot += i\n",
    "    print(i, tot)\n",
    "print(\"total =\", tot)"
   ]
  },
  {
   "cell_type": "markdown",
   "metadata": {},
   "source": [
    "### Ex. 5.1.2\n",
    "Write a loop to iterate over all the elements of `mixed` and print out every element that is a string."
   ]
  },
  {
   "cell_type": "code",
   "execution_count": null,
   "metadata": {},
   "outputs": [],
   "source": [
    "mixed = [1, \"Hello\", 3, \"World!\"]\n",
    "for el in mixed:\n",
    "    if isinstance(el, str):\n",
    "        print(el)"
   ]
  },
  {
   "cell_type": "markdown",
   "metadata": {},
   "source": [
    "### Ex. 5.1.3\n",
    "Using a for loop print out the name and age of every person in the lists below. Each person should have his name together with his age on one line. \n",
    "\n",
    "**Supplementary**\n",
    "There are at least 3 different ways of doing this, can you find them all?"
   ]
  },
  {
   "cell_type": "code",
   "execution_count": 16,
   "metadata": {},
   "outputs": [
    {
     "name": "stdout",
     "output_type": "stream",
     "text": [
      "Peter is 31\n",
      "Jane is 35\n",
      "Fred is 4\n"
     ]
    }
   ],
   "source": [
    "names = [\"Peter\", \"Jane\", \"Fred\"]\n",
    "ages = [31, 35, 4]\n",
    "\n",
    "for name, age in zip(names, ages):\n",
    "    print(name, \"is\", age)"
   ]
  },
  {
   "cell_type": "code",
   "execution_count": 14,
   "metadata": {},
   "outputs": [
    {
     "name": "stdout",
     "output_type": "stream",
     "text": [
      "Peter is 31\n",
      "Jane is 35\n",
      "Fred is 4\n"
     ]
    }
   ],
   "source": [
    "for i, name in enumerate(names):\n",
    "    print(name, \"is\", ages[i])"
   ]
  },
  {
   "cell_type": "code",
   "execution_count": 15,
   "metadata": {},
   "outputs": [
    {
     "name": "stdout",
     "output_type": "stream",
     "text": [
      "Peter is 31\n",
      "Jane is 35\n",
      "Fred is 4\n"
     ]
    }
   ],
   "source": [
    "for i in range(len(names)):\n",
    "    print(names[i], \"is\", ages[i])"
   ]
  },
  {
   "cell_type": "markdown",
   "metadata": {},
   "source": [
    "### Ex. 5.1.4\n",
    "Below we assume that we have a list of values `real_values` for which we made a prediction using some estimator (`estimates`). We now want to estimate the accuracy of our prediction using the Mean Squared Error (MSE).\n",
    "Using a for-loop calculate the MSE of the estimate below. The MSE is defined as $MSE = \\frac{1}{n}\\sum_{i=1}^{n}(x_i-y_i)^2$, where X is the vector of real values and Y the vector of estimates."
   ]
  },
  {
   "cell_type": "code",
   "execution_count": 21,
   "metadata": {},
   "outputs": [
    {
     "name": "stdout",
     "output_type": "stream",
     "text": [
      "mean squared error is 0.1524999999999999\n"
     ]
    }
   ],
   "source": [
    "real_values = [1.2, 2.3, 2.6, 0.8]\n",
    "estimates = [1.0, 1.8, 2.2, 1.2]\n",
    "\n",
    "mse = 0\n",
    "for value, estimate in zip(real_values, estimates):\n",
    "    mse += (value - estimate) ** 2\n",
    "    \n",
    "mse /= len(real_values)\n",
    "print(\"mean squared error is\", mse)"
   ]
  },
  {
   "cell_type": "markdown",
   "metadata": {},
   "source": [
    "## Ex. 5.2: `while` loops"
   ]
  },
  {
   "cell_type": "markdown",
   "metadata": {},
   "source": [
    "### Ex. 5.2.1\n",
    "Iterate through `data` to get the sum of the first 5 elements that are not `None`. Every time an element is `None`, skip to the next one. As soon as you have summed up 5 elements, print the sum and then exit the loop."
   ]
  },
  {
   "cell_type": "code",
   "execution_count": 27,
   "metadata": {},
   "outputs": [
    {
     "name": "stdout",
     "output_type": "stream",
     "text": [
      "17\n"
     ]
    }
   ],
   "source": [
    "data = [1, 5, None, 4, None, 3, 4, 1, 8]\n",
    "\n",
    "i = 0\n",
    "total = 0\n",
    "count = 0\n",
    "\n",
    "while count < 5 and i < len(data):\n",
    "    if data[i] is not None:\n",
    "        total += data[i]\n",
    "        count += 1\n",
    "    i += 1\n",
    "\n",
    "print(total)"
   ]
  },
  {
   "cell_type": "markdown",
   "metadata": {},
   "source": [
    "# Supplementary Exercises"
   ]
  },
  {
   "cell_type": "markdown",
   "metadata": {
    "tags": []
   },
   "source": [
    "## Ex. 5.3\n",
    "Print the first `n` elements of the Fibonacci sequence. This sequence is defined by the relation $F_i = F_{i-1} + F_{i-2}$, or in other words, every element of the sequence is the sum of the previous two. The first two elements of the sequence are `0` and `1`. I've initialised `prev`, the previous element and `current`, the current element for you."
   ]
  },
  {
   "cell_type": "code",
   "execution_count": null,
   "metadata": {},
   "outputs": [],
   "source": [
    "n = 20\n",
    "prev = 0\n",
    "current = 1\n",
    "for i in range(n):\n",
    "    # calculate the next element of the sequence\n",
    "    next_element = current + prev\n",
    "    print(next_element)\n",
    "    \n",
    "    # prepare the next iteration by setting previous and current\n",
    "    # to the values they will have in the next iteration\n",
    "    prev = current\n",
    "    current = next_element\n",
    "    "
   ]
  },
  {
   "cell_type": "markdown",
   "metadata": {},
   "source": [
    "## Ex. 5.4\n",
    "\n",
    "Write a loop that replicates the behavior of `enumerate`, i.e. to iterate over both, the elements of a list and its indices."
   ]
  },
  {
   "cell_type": "code",
   "execution_count": 28,
   "metadata": {},
   "outputs": [
    {
     "name": "stdout",
     "output_type": "stream",
     "text": [
      "0 1\n",
      "1 2\n",
      "2 3\n"
     ]
    }
   ],
   "source": [
    "test_list = [1, 2, 3]\n",
    "\n",
    "for i, el in zip(range(len(test_list)), test_list):\n",
    "    print(i, el)"
   ]
  },
  {
   "cell_type": "markdown",
   "metadata": {},
   "source": [
    "## Ex 5.5\n",
    "### 5.5.1\n",
    "Write some code to test whether a number `num` is prime. To test whether `num` is prime, simply test whether it is divisible by any number between 2 and `num-1` (actually between 2 and `num**0.5` rounded up is enough), and as soon as you find a factor of `num`, print a message saying that `num` is divisible by that factor and stop the iteration, if you don't find any factor, print that `num` is prime."
   ]
  },
  {
   "cell_type": "code",
   "execution_count": 31,
   "metadata": {},
   "outputs": [
    {
     "name": "stdout",
     "output_type": "stream",
     "text": [
      "7 is prime\n"
     ]
    }
   ],
   "source": [
    "num = 7\n",
    "prime = True\n",
    "\n",
    "for i in range(2, int(num ** 0.5) + 1):\n",
    "    if num % i == 0:\n",
    "        print(num, \"is divisible by\", i)\n",
    "        prime = False\n",
    "        break\n",
    "if prime:\n",
    "    print(num, \"is prime\")"
   ]
  },
  {
   "cell_type": "markdown",
   "metadata": {},
   "source": [
    "### 5.5.2\n",
    "We can introduce a less well known syntax here, which is the `else` statement of a `for` loop. This gets executed only if the loop ended normally, i.e. did not encounter a break statement. Repeat Ex. 5.4.1 but using this `else` clause."
   ]
  },
  {
   "cell_type": "code",
   "execution_count": null,
   "metadata": {},
   "outputs": [],
   "source": []
  },
  {
   "cell_type": "markdown",
   "metadata": {},
   "source": [
    "## Ex 5.6\n",
    "Now write a code that prints out every prime number between 2 and *n*."
   ]
  },
  {
   "cell_type": "code",
   "execution_count": null,
   "metadata": {},
   "outputs": [],
   "source": []
  },
  {
   "cell_type": "markdown",
   "metadata": {},
   "source": [
    "## Ex. 5.7\n",
    "* Define a list `data` containing 100 random numbers drawn from a gaussian distribution with mean 2 and standard deviation 3. *Hint: I've already imported the `random` module, you can now use `random.gauss` to draw a random number from a Gaussian distribution*\n",
    "* Calculate the average and standard deviation of the array `data`"
   ]
  },
  {
   "cell_type": "code",
   "execution_count": null,
   "metadata": {},
   "outputs": [],
   "source": [
    "import random"
   ]
  },
  {
   "cell_type": "markdown",
   "metadata": {},
   "source": [
    "## Ex. 5.8\n",
    "We start with a power of 2 `num = 2**n`. Using a `while` loop, determine `n`"
   ]
  },
  {
   "cell_type": "code",
   "execution_count": null,
   "metadata": {},
   "outputs": [],
   "source": [
    "n = 10\n",
    "num = 2**n"
   ]
  }
 ],
 "metadata": {
  "kernelspec": {
   "display_name": "ml_cas_kernel",
   "language": "python",
   "name": "ml_cas_kernel"
  },
  "language_info": {
   "codemirror_mode": {
    "name": "ipython",
    "version": 3
   },
   "file_extension": ".py",
   "mimetype": "text/x-python",
   "name": "python",
   "nbconvert_exporter": "python",
   "pygments_lexer": "ipython3",
   "version": "3.12.3"
  }
 },
 "nbformat": 4,
 "nbformat_minor": 4
}
